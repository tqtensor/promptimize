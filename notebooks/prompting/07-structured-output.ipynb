{
  "cells": [
    {
      "cell_type": "markdown",
      "metadata": {},
      "source": [
        "# Structured Output Tutorial\n",
        "\n",
        "## Overview\n",
        "\n",
        "This tutorial delves into tehcnique of function calling in language models to achieve structured outputs from any LLM.\n",
        "\n",
        "## Motivation\n",
        "\n",
        "In the rapidly evolving field of artificial intelligence, the ability to generate structured outputs from language models is becoming increasingly important. Structured outputs allow for more precise and interpretable results, which are essential for applications ranging from data extraction to automated decision-making.\n",
        "\n",
        "## Key Components\n",
        "\n",
        "1. Understanding how to invoke specific functions within a language model to generate structured outputs.\n",
        "2. Methods for ensuring that the generated outputs conform to the expected structure and format.\n",
        "3. Practical examples of integrating structured output generation with popular frameworks like LangChain and OpenRouter."
      ]
    },
    {
      "cell_type": "markdown",
      "metadata": {},
      "source": [
        "## Setup\n",
        "\n",
        "First, let's import the necessary libraries and set up our environment."
      ]
    },
    {
      "cell_type": "code",
      "execution_count": 1,
      "metadata": {},
      "outputs": [],
      "source": [
        "import json\n",
        "import os\n",
        "from datetime import datetime\n",
        "from os import getenv\n",
        "\n",
        "import requests\n",
        "from dotenv import load_dotenv\n",
        "from openai import OpenAI\n",
        "from pydantic import BaseModel, Field\n",
        "\n",
        "load_dotenv()\n",
        "\n",
        "# Initialize the language model\n",
        "llm = OpenAI(\n",
        "    api_key=getenv(\"OPENROUTER_API_KEY\"),\n",
        "    base_url=getenv(\"OPENROUTER_BASE_URL\"),\n",
        ")"
      ]
    },
    {
      "cell_type": "markdown",
      "metadata": {},
      "source": [
        "## Unstructured Output"
      ]
    },
    {
      "cell_type": "code",
      "execution_count": 2,
      "metadata": {},
      "outputs": [
        {
          "name": "stdout",
          "output_type": "stream",
          "text": [
            "Certainly! Harry Potter is the central character of the immensely popular \"Harry Potter\" series written by J.K. Rowling. Here's a detailed profile of Harry Potter:\n",
            "\n",
            "### Basic Information\n",
            "- **Full Name:** Harry James Potter\n",
            "- **Date of Birth:** July 31, 1980\n",
            "- **Place of Birth:** Godric's Hollow, England\n",
            "- **Blood Status:** Half-blood (one magical parent, one non-magical parent)\n",
            "\n",
            "### Physical Description\n",
            "- **Hair:** Unruly black hair\n",
            "- **Eyes:** Green\n",
            "- **Scar:** Lightning-shaped scar on his forehead\n",
            "\n",
            "### Family\n",
            "- **Parents:** James Potter and Lily Potter (n\u00e9e Evans)\n",
            "- **Godfather:** Sirius Black\n",
            "- **Cousins:** Second cousins to the Weasley family through marriage (Lily being related to the Weasleys through her sister, Petunia Evans Dursley)\n",
            "- **Spouse:** Ginny Weasley\n",
            "- **Children:** James Sirius Potter, Albus Severus Potter, Lily Luna Potter\n",
            "\n",
            "### Hogwarts House\n",
            "- **House:** Gryffindor\n",
            "\n",
            "### Wand\n",
            "- **Wood:** Holly\n",
            "- **Core:** Phoenix feather from Fawkes\n",
            "- **Length:** 11 inches\n",
            "\n",
            "### Key Traits\n",
            "- **Bravery:** Known for his courage and willingness to face danger.\n",
            "- **Loyalty:** Deeply loyal to his friends and the cause of fighting against dark forces.\n",
            "- **Humility:** Despite his fame, he remains humble and grounded.\n",
            "- **Resourcefulness:** Often finds creative solutions to problems.\n",
            "\n",
            "### Significant Relationships\n",
            "- **Best Friends:** Ron Weasley and Hermione Granger\n",
            "- **Mentors:** Albus Dumbledore, Remus Lupin, Sirius Black\n",
            "- **Romantic Interest:** Ginny Weasley\n",
            "\n",
            "### Key Events\n",
            "1. **Early Life:** Survived an attack by Voldemort as a baby, which killed his parents but left him with a distinctive scar.\n",
            "2. **Hogwarts:** Attended Hogwarts School of Witchcraft and Wizardry from 1991 to 1998.\n",
            "3. **Voldemort:** Central to the prophecy concerning his defeat of the Dark Lord, Voldemort.\n",
            "4. **Horcruxes:** Played a crucial role in the destruction of Voldemort's Horcruxes.\n",
            "5. **Battle of Hogwarts:** Fought in the climactic Battle of Hogwarts, leading to Voldemort's final defeat.\n",
            "\n",
            "### Post-Hogwarts\n",
            "- **Career:** Worked for the Ministry of Magic in the Department of Magical Law Enforcement.\n",
            "- **Legacy:** Remembered as a hero who played a pivotal role in the defeat of Voldemort and the restoration of peace in the wizarding world.\n",
            "\n",
            "### Additional Notes\n",
            "- **Parseltongue:** Initially able to speak Parseltongue, a skill inherited from Voldemort, though he loses this ability after destroying the part of Voldemort\u2019s soul inside him.\n",
            "- **Invisibility Cloak:** Possessor of the Cloak of Invisibility, one of the Deathly Hallows.\n",
            "\n",
            "Harry Potter's journey from an orphaned boy living under the stairs to a celebrated hero is marked by themes of friendship, bravery, and the fight against darkness.\n"
          ]
        }
      ],
      "source": [
        "# Define your prompt\n",
        "prompt = \"Can you tell me about Harry Potter's profile?\"\n",
        "\n",
        "# Make the LLM call\n",
        "response = llm.chat.completions.create(\n",
        "    model=\"azure/gpt-4o\",\n",
        "    messages=[{\"role\": \"user\", \"content\": prompt}],\n",
        ")\n",
        "\n",
        "# Print the result\n",
        "print(response.choices[0].message.content)"
      ]
    },
    {
      "cell_type": "markdown",
      "metadata": {},
      "source": [
        "## Structured Output"
      ]
    },
    {
      "cell_type": "markdown",
      "metadata": {},
      "source": [
        "![Structured Output](https://storage.googleapis.com/tqtensor-sharing/structured_output.png)"
      ]
    },
    {
      "cell_type": "code",
      "execution_count": 3,
      "metadata": {},
      "outputs": [
        {
          "name": "stdout",
          "output_type": "stream",
          "text": [
            "Name: Harry Potter\n",
            "DoB: 1980-07-31 00:00:00\n",
            "Occupation: Wizard\n"
          ]
        }
      ],
      "source": [
        "class Person(BaseModel):\n",
        "    name: str = Field(description=\"The person's full name\")\n",
        "    date_of_birth: datetime = Field(\n",
        "        description=\"The person's date of birth in ISO 8601 format (YYYY-MM-DD)\"\n",
        "    )\n",
        "    occupation: str = Field(description=\"The person's current job or profession\")\n",
        "\n",
        "\n",
        "def get_person_info() -> Person:\n",
        "    \"\"\"Get information about a person from LLM response.\"\"\"\n",
        "\n",
        "    return Person(name=\"\", age=0, occupation=\"\")\n",
        "\n",
        "\n",
        "# Create the function description for the API in tools format\n",
        "tool_description = {\n",
        "    \"type\": \"function\",\n",
        "    \"function\": {\n",
        "        \"name\": \"get_person_info\",\n",
        "        \"description\": \"Extract and structure information about a person from text. YOU MUST USE THIS FUNCTION to return the structured data about the person mentioned in the text. Do not respond with free-form text.\",\n",
        "        \"parameters\": Person.model_json_schema(),\n",
        "        \"required\": [\"name\", \"date_of_birth\", \"occupation\"],\n",
        "    },\n",
        "}\n",
        "\n",
        "# Setup headers for the LiteLLM proxy\n",
        "headers = {\n",
        "    \"Content-Type\": \"application/json\",\n",
        "    \"Authorization\": \"Bearer {}\".format(getenv(\"OPENROUTER_API_KEY\")),\n",
        "}\n",
        "\n",
        "# Make the LLM call via LiteLLM proxy\n",
        "response = requests.post(\n",
        "    \"{}/v1/chat/completions\".format(getenv(\"OPENROUTER_BASE_URL\")),\n",
        "    headers=headers,\n",
        "    json={\n",
        "        \"model\": \"bedrock/nova-pro-v1\",\n",
        "        \"messages\": [{\"role\": \"user\", \"content\": prompt}],\n",
        "        \"tools\": [tool_description],\n",
        "        \"tool_choice\": \"required\",\n",
        "    },\n",
        ")\n",
        "\n",
        "# Parse the response\n",
        "response_data = response.json()\n",
        "\n",
        "# Extract the tool call arguments\n",
        "tool_calls = response_data[\"choices\"][0][\"message\"].get(\"tool_calls\", [])\n",
        "if tool_calls:\n",
        "    function_arguments = json.loads(tool_calls[0][\"function\"][\"arguments\"])\n",
        "\n",
        "    # Create a Person object from the arguments\n",
        "    person = Person(**function_arguments)\n",
        "\n",
        "    # Print the result\n",
        "    print(f\"Name: {person.name}\")\n",
        "    print(f\"DoB: {person.date_of_birth}\")\n",
        "    print(f\"Occupation: {person.occupation}\")\n",
        "else:\n",
        "    print(\"No tool calls found in the response\")"
      ]
    }
  ],
  "metadata": {
    "kernelspec": {
      "display_name": ".venv",
      "language": "python",
      "name": "python3"
    },
    "language_info": {
      "codemirror_mode": {
        "name": "ipython",
        "version": 3
      },
      "file_extension": ".py",
      "mimetype": "text/x-python",
      "name": "python",
      "nbconvert_exporter": "python",
      "pygments_lexer": "ipython3",
      "version": "3.11.10"
    }
  },
  "nbformat": 4,
  "nbformat_minor": 2
}
