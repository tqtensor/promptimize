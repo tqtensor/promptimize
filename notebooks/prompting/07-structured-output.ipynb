{
  "cells": [
    {
      "cell_type": "markdown",
      "metadata": {},
      "source": [
        "# Structured Output Tutorial\n",
        "\n",
        "## Overview\n",
        "\n",
        "This tutorial delves into tehcnique of function calling in language models to achieve structured outputs from any LLM.\n",
        "\n",
        "## Motivation\n",
        "\n",
        "In the rapidly evolving field of artificial intelligence, the ability to generate structured outputs from language models is becoming increasingly important. Structured outputs allow for more precise and interpretable results, which are essential for applications ranging from data extraction to automated decision-making.\n",
        "\n",
        "## Key Components\n",
        "\n",
        "1. Understanding how to invoke specific functions within a language model to generate structured outputs.\n",
        "2. Methods for ensuring that the generated outputs conform to the expected structure and format.\n",
        "3. Practical examples of integrating structured output generation with popular frameworks like LangChain and OpenRouter."
      ]
    },
    {
      "cell_type": "markdown",
      "metadata": {},
      "source": [
        "## Setup\n",
        "\n",
        "First, let's import the necessary libraries and set up our environment."
      ]
    },
    {
      "cell_type": "code",
      "execution_count": 1,
      "metadata": {},
      "outputs": [],
      "source": [
        "import json\n",
        "from datetime import datetime\n",
        "from os import getenv\n",
        "\n",
        "from dotenv import load_dotenv\n",
        "from openai import OpenAI\n",
        "from pydantic import BaseModel, Field\n",
        "\n",
        "load_dotenv()\n",
        "\n",
        "# Initialize the language model\n",
        "llm = OpenAI(\n",
        "    api_key=getenv(\"OPENROUTER_API_KEY\"),\n",
        "    base_url=getenv(\"OPENROUTER_BASE_URL\"),\n",
        ")"
      ]
    },
    {
      "cell_type": "markdown",
      "metadata": {},
      "source": [
        "## Unstructured Output"
      ]
    },
    {
      "cell_type": "code",
      "execution_count": 2,
      "metadata": {},
      "outputs": [
        {
          "name": "stdout",
          "output_type": "stream",
          "text": [
            "Certainly! Harry Potter is the iconic protagonist of the **Harry Potter series** written by J.K. Rowling. He is a young wizard whose adventures have captivated readers and audiences around the world. Here is a detailed profile of Harry:\n",
            "\n",
            "---\n",
            "\n",
            "### **Personal Information:**\n",
            "- **Full Name:** Harry James Potter  \n",
            "- **Birthdate:** July 31, 1980\n",
            "- **Blood Status:** Half-blood  \n",
            "- **Parents:** James Potter (pure-blood) and Lily Potter (Muggle-born)\n",
            "- **Godfather:** Sirius Black  \n",
            "- **Spouse:** Ginny Weasley (married after the events of the series)  \n",
            "- **Children:** James Sirius, Albus Severus, and Lily Luna Potter  \n",
            "\n",
            "---\n",
            "\n",
            "### **Physical Appearance:**\n",
            "- **Hair:** Jet-black and perpetually messy  \n",
            "- **Eyes:** Bright green, inherited from his mother  \n",
            "- **Scar:** Lightning-shaped scar on his forehead from a curse by Lord Voldemort  \n",
            "- **Height:** Average for his age  \n",
            "\n",
            "---\n",
            "\n",
            "### **Personality Traits:**\n",
            "- Brave, loyal, and self-sacrificing  \n",
            "- Quick to stand up for what is right  \n",
            "- Strong sense of justice and responsibility  \n",
            "- Often impulsive and willing to take risks  \n",
            "- Fiercely dedicated to protecting loved ones  \n",
            "\n",
            "---\n",
            "\n",
            "### **Magical Abilities and Skills:**\n",
            "- **Core Strengths:** Defense Against the Dark Arts, dueling, and leadership  \n",
            "- **Wand:** \n",
            "  - Original wand: 11\", holly wood, phoenix feather core  \n",
            "  - Maker: Garrick Ollivander  \n",
            "- **Patronus:** Stag  \n",
            "- **Other Abilities:**  \n",
            "  - Parseltongue (lost ability after Voldemort's defeat)  \n",
            "  - Connection to Voldemort (due to the scar and Horcrux fragment within him)  \n",
            "\n",
            "---\n",
            "\n",
            "### **Education:**\n",
            "- Attended **Hogwarts School of Witchcraft and Wizardry** from 1991 to 1998  \n",
            "  - House: **Gryffindor**  \n",
            "- Close friends: Hermione Granger and Ron Weasley (The \"Golden Trio\")  \n",
            "- Played as Seeker for the Gryffindor Quidditch team  \n",
            "\n",
            "---\n",
            "\n",
            "### **Key Accomplishments:**\n",
            "1. **Survival and Fame:** Known as \"The Boy Who Lived\" for surviving a Killing Curse from Voldemort as a baby.  \n",
            "2. **Defeat of Lord Voldemort:** Played an instrumental role in defeating Voldemort during the Second Wizarding War.  \n",
            "3. **Triwizard Tournament:** Competed in the tournament (1994\u20131995) despite being underage.  \n",
            "4. **Creation of Dumbledore's Army:** Co-founded the organization to teach fellow students defensive magic at Hogwarts (1995\u20131996).  \n",
            "5. **Auror Career:** After graduation, he became a respected Auror (Dark Wizard catcher) and eventually rose to Head of the Auror Office.  \n",
            "\n",
            "---\n",
            "\n",
            "### **Symbolic Themes in the Series:**\n",
            "Harry is a symbol of resilience, love, and the power of choice. He grapples with the burdens of destiny, loss, and identity, and ultimately chooses to fight for the greater good.\n",
            "\n",
            "---\n",
            "\n",
            "### **Close Relationships:**\n",
            "- **Best Friends:** Hermione Granger, Ron Weasley  \n",
            "- **Mentors:** Albus Dumbledore, Remus Lupin, Sirius Black  \n",
            "- **Enemies:** Lord Voldemort, Death Eaters, Draco Malfoy (later reconciled)  \n",
            "\n",
            "---\n",
            "\n",
            "### **Key Items:**\n",
            "- **Invisibility Cloak:** Passed down from his father, originally a Hallow  \n",
            "- **The Marauder\u2019s Map:** A magical map of Hogwarts  \n",
            "- **Hogwarts Acceptance Letter:** Received in 1991 from Hagrid  \n",
            "- **The Resurrection Stone:** Used briefly to summon loved ones during the Battle of Hogwarts  \n",
            "\n",
            "---\n",
            "\n",
            "### **Legacy:**\n",
            "Harry Potter remains a symbol of courage, friendship, and the theme of triumphing over adversity. His story inspired millions and became a cultural phenomenon, spanning seven books, eight films, spin-offs like *Fantastic Beasts*, the *Wizarding World* theme parks, plays (*Harry Potter and the Cursed Child*), and more.\n",
            "\n",
            "Would you like specific information about any aspect of Harry's life or adventures?\n"
          ]
        }
      ],
      "source": [
        "# Define your prompt\n",
        "prompt = \"Can you tell me about Harry Potter's profile?\"\n",
        "\n",
        "# Make the LLM call\n",
        "response = llm.chat.completions.create(\n",
        "    model=\"azure/gpt-4o\",\n",
        "    messages=[{\"role\": \"user\", \"content\": prompt}],\n",
        ")\n",
        "\n",
        "# Print the result\n",
        "print(response.choices[0].message.content)"
      ]
    },
    {
      "cell_type": "markdown",
      "metadata": {},
      "source": [
        "## Structured Output"
      ]
    },
    {
      "cell_type": "markdown",
      "metadata": {},
      "source": [
        "![Structured Output](https://storage.googleapis.com/tqtensor-sharing/structured_output.png)"
      ]
    },
    {
      "cell_type": "code",
      "execution_count": 3,
      "metadata": {},
      "outputs": [
        {
          "name": "stdout",
          "output_type": "stream",
          "text": [
            "Name: Harry Potter\n",
            "DoB: 1980-07-31 00:00:00\n",
            "Occupation: Auror\n"
          ]
        }
      ],
      "source": [
        "class Person(BaseModel):\n",
        "    name: str = Field(description=\"The person's full name\")\n",
        "    date_of_birth: datetime = Field(\n",
        "        description=\"The person's date of birth in ISO 8601 format (YYYY-MM-DD)\"\n",
        "    )\n",
        "    occupation: str = Field(description=\"The person's current job or profession\")\n",
        "\n",
        "\n",
        "def get_person_info() -> Person:\n",
        "    \"\"\"Get information about a person from LLM response.\"\"\"\n",
        "\n",
        "    return Person(name=\"\", age=0, occupation=\"\")\n",
        "\n",
        "\n",
        "# Create the function description for the API\n",
        "function_description = {\n",
        "    \"name\": \"get_person_info\",\n",
        "    \"description\": \"Get information about a person from LLM response.\",\n",
        "    \"parameters\": Person.model_json_schema(),\n",
        "}\n",
        "\n",
        "# Make the LLM call\n",
        "response = llm.chat.completions.create(\n",
        "    model=\"azure/gpt-4o\",\n",
        "    messages=[{\"role\": \"user\", \"content\": prompt}],\n",
        "    functions=[function_description],\n",
        "    function_call={\"name\": \"get_person_info\"},\n",
        ")\n",
        "\n",
        "# Extract the function call arguments\n",
        "function_call = response.choices[0].message.function_call.arguments\n",
        "arguments = json.loads(function_call)\n",
        "\n",
        "# Create a Person object from the arguments\n",
        "person = Person(**arguments)\n",
        "\n",
        "# Print the result\n",
        "print(f\"Name: {person.name}\")\n",
        "print(f\"DoB: {person.date_of_birth}\")\n",
        "print(f\"Occupation: {person.occupation}\")"
      ]
    }
  ],
  "metadata": {
    "kernelspec": {
      "display_name": ".venv",
      "language": "python",
      "name": "python3"
    },
    "language_info": {
      "codemirror_mode": {
        "name": "ipython",
        "version": 3
      },
      "file_extension": ".py",
      "mimetype": "text/x-python",
      "name": "python",
      "nbconvert_exporter": "python",
      "pygments_lexer": "ipython3",
      "version": "3.11.10"
    }
  },
  "nbformat": 4,
  "nbformat_minor": 2
}
