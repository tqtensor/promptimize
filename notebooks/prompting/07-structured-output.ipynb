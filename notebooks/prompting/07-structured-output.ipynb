{
  "cells": [
    {
      "cell_type": "markdown",
      "metadata": {},
      "source": [
        "# Structured Output Tutorial\n",
        "\n",
        "## Overview\n",
        "\n",
        "This tutorial delves into tehcnique of function calling in language models to achieve structured outputs from any LLM.\n",
        "\n",
        "## Motivation\n",
        "\n",
        "In the rapidly evolving field of artificial intelligence, the ability to generate structured outputs from language models is becoming increasingly important. Structured outputs allow for more precise and interpretable results, which are essential for applications ranging from data extraction to automated decision-making.\n",
        "\n",
        "## Key Components\n",
        "\n",
        "1. Understanding how to invoke specific functions within a language model to generate structured outputs.\n",
        "2. Methods for ensuring that the generated outputs conform to the expected structure and format.\n",
        "3. Practical examples of integrating structured output generation with popular frameworks like LangChain and OpenRouter."
      ]
    },
    {
      "cell_type": "markdown",
      "metadata": {},
      "source": [
        "## Setup\n",
        "\n",
        "First, let's import the necessary libraries and set up our environment."
      ]
    },
    {
      "cell_type": "code",
      "execution_count": 1,
      "metadata": {},
      "outputs": [],
      "source": [
        "import json\n",
        "from datetime import datetime\n",
        "from os import getenv\n",
        "\n",
        "from dotenv import load_dotenv\n",
        "from openai import OpenAI\n",
        "from pydantic import BaseModel, Field\n",
        "\n",
        "load_dotenv()\n",
        "\n",
        "# Initialize the language model\n",
        "llm = OpenAI(\n",
        "    api_key=getenv(\"OPENROUTER_API_KEY\"),\n",
        "    base_url=getenv(\"OPENROUTER_BASE_URL\"),\n",
        ")"
      ]
    },
    {
      "cell_type": "markdown",
      "metadata": {},
      "source": [
        "## Unstructured Output"
      ]
    },
    {
      "cell_type": "code",
      "execution_count": 2,
      "metadata": {},
      "outputs": [
        {
          "name": "stdout",
          "output_type": "stream",
          "text": [
            "Harry Potter's profile can be considered from several angles: his physical appearance, personality traits, magical abilities, and his overall story arc.\n",
            "\n",
            "**Physical Appearance:**\n",
            "\n",
            "* **Scrawny build:** Harry is often described as small and thin, especially in his earlier years, likely due to neglect at the Dursleys.\n",
            "* **Messy black hair:**  His unruly hair is a defining characteristic, constantly defying attempts to tame it.\n",
            "* **Bright green eyes:**  Inherited from his mother, Lily, his eyes are a frequent point of comparison and connection to her memory.\n",
            "* **Lightning bolt scar:** The most recognizable feature, this scar on his forehead is a constant reminder of Voldemort's attack and his survival.\n",
            "* **Round spectacles:**  Harry's eyesight is poor, requiring him to wear glasses, which are often broken during his adventures.\n",
            "\n",
            "**Personality Traits:**\n",
            "\n",
            "* **Brave and Courageous:**  Harry repeatedly faces dangerous situations and stands up for what's right, even when afraid.\n",
            "* **Loyal and Devoted:**  He fiercely protects his friends and loved ones, placing their well-being above his own.\n",
            "* **Selfless and Compassionate:**  Harry shows empathy for others, including house-elves and those considered outcasts.\n",
            "* **Quick-witted and Resourceful:** He demonstrates an ability to think on his feet and find creative solutions to problems.\n",
            "* **Humble and Unassuming:** Despite his fame and achievements, Harry remains relatively modest and doesn't seek glory.\n",
            "* **Stubborn and Impulsive:** He can be headstrong and act without thinking, sometimes leading to trouble.\n",
            "* **Prone to anger and resentment:** His difficult childhood and the constant threat of Voldemort leave him with bottled-up emotions.\n",
            "\n",
            "**Magical Abilities:**\n",
            "\n",
            "* **Parseltongue:**  The rare ability to speak to snakes, inherited unknowingly from Voldemort.\n",
            "* **Defense Against the Dark Arts:**  Harry shows a natural aptitude for defensive magic, becoming a skilled duelist.\n",
            "* **Flying:** He displays exceptional talent on a broomstick, becoming the youngest Seeker in a century at Hogwarts.\n",
            "* **Connection to Voldemort:** A complex and unwilling link allows Harry glimpses into Voldemort's mind and actions.\n",
            "\n",
            "**Overall Story Arc:**\n",
            "\n",
            "Harry's journey is one of self-discovery and confronting his destiny.  He evolves from a neglected boy to a powerful wizard who ultimately defeats Lord Voldemort, saving the wizarding world. His story explores themes of love, loss, sacrifice, and the enduring power of good over evil.\n",
            "\n",
            "This profile provides a comprehensive overview of Harry Potter's character.  Each aspect contributes to his complexity and makes him a compelling protagonist.\n",
            "\n"
          ]
        }
      ],
      "source": [
        "# Define your prompt\n",
        "prompt = \"Can you tell me about Harry Potter's profile?\"\n",
        "\n",
        "# Make the LLM call\n",
        "response = llm.chat.completions.create(\n",
        "    model=\"google/gemini-pro-1.5\",\n",
        "    messages=[{\"role\": \"user\", \"content\": prompt}],\n",
        ")\n",
        "\n",
        "# Print the result\n",
        "print(response.choices[0].message.content)"
      ]
    },
    {
      "cell_type": "markdown",
      "metadata": {},
      "source": [
        "## Structured Output"
      ]
    },
    {
      "cell_type": "markdown",
      "metadata": {},
      "source": [
        "![Structured Output](https://storage.googleapis.com/tqtensor-sharing/structured_output.png)"
      ]
    },
    {
      "cell_type": "code",
      "execution_count": 3,
      "metadata": {},
      "outputs": [
        {
          "name": "stdout",
          "output_type": "stream",
          "text": [
            "Name: Harry Potter\n",
            "DoB: 1980-07-31 00:00:00\n",
            "Occupation: Auror\n"
          ]
        }
      ],
      "source": [
        "class Person(BaseModel):\n",
        "    name: str = Field(description=\"The person's full name\")\n",
        "    date_of_birth: datetime = Field(\n",
        "        description=\"The person's date of birth in ISO 8601 format (YYYY-MM-DD)\"\n",
        "    )\n",
        "    occupation: str = Field(description=\"The person's current job or profession\")\n",
        "\n",
        "\n",
        "def get_person_info() -> Person:\n",
        "    \"\"\"Get information about a person from LLM response.\"\"\"\n",
        "\n",
        "    return Person(name=\"\", age=0, occupation=\"\")\n",
        "\n",
        "\n",
        "# Create the function description for the API\n",
        "function_description = {\n",
        "    \"name\": \"get_person_info\",\n",
        "    \"description\": \"Get information about a person from LLM response.\",\n",
        "    \"parameters\": Person.model_json_schema(),\n",
        "}\n",
        "\n",
        "# Make the LLM call\n",
        "response = llm.chat.completions.create(\n",
        "    model=\"google/gemini-pro-1.5\",\n",
        "    messages=[{\"role\": \"user\", \"content\": prompt}],\n",
        "    functions=[function_description],\n",
        "    function_call={\"name\": \"get_person_info\"},\n",
        ")\n",
        "\n",
        "# Extract the function call arguments\n",
        "function_call = response.choices[0].message.tool_calls[0].function\n",
        "arguments = json.loads(function_call.arguments)\n",
        "\n",
        "# Create a Person object from the arguments\n",
        "person = Person(**arguments)\n",
        "\n",
        "# Print the result\n",
        "print(f\"Name: {person.name}\")\n",
        "print(f\"DoB: {person.date_of_birth}\")\n",
        "print(f\"Occupation: {person.occupation}\")"
      ]
    }
  ],
  "metadata": {
    "kernelspec": {
      "display_name": ".venv",
      "language": "python",
      "name": "python3"
    },
    "language_info": {
      "codemirror_mode": {
        "name": "ipython",
        "version": 3
      },
      "file_extension": ".py",
      "mimetype": "text/x-python",
      "name": "python",
      "nbconvert_exporter": "python",
      "pygments_lexer": "ipython3",
      "version": "3.11.10"
    }
  },
  "nbformat": 4,
  "nbformat_minor": 2
}
