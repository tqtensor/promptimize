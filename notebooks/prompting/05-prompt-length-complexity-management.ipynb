{
  "cells": [
    {
      "cell_type": "markdown",
      "metadata": {},
      "source": [
        "# Prompt Length and Complexity Management Tutorial\n",
        "\n",
        "## Overview\n",
        "\n",
        "This tutorial delves into strategies for optimizing prompt length and managing complexity when interacting with large language models (LLMs). We'll focus on two critical areas: crafting balanced prompts and tackling long-context challenges.\n",
        "\n",
        "## Motivation\n",
        "\n",
        "Mastering prompt engineering requires striking a delicate balance between providing sufficient context and maintaining conciseness. Additionally, many real-world scenarios involve processing extensive documents or intricate multi-step tasks that may exceed LLM context limits. Developing skills to address these challenges is essential for creating robust AI applications.\n",
        "\n",
        "## Key Components\n",
        "\n",
        "1. Optimizing prompt details and structure.\n",
        "2. Techniques for handling extended contexts.\n",
        "3. Practical demonstrations using Amazon Nova via OpenRouter and LangChain."
      ]
    },
    {
      "cell_type": "markdown",
      "metadata": {},
      "source": [
        "## Setup\n",
        "\n",
        "First, let's import the necessary libraries and set up our environment."
      ]
    },
    {
      "cell_type": "code",
      "execution_count": 1,
      "metadata": {},
      "outputs": [],
      "source": [
        "from os import getenv\n",
        "\n",
        "from dotenv import load_dotenv\n",
        "from langchain.chains.summarize import load_summarize_chain\n",
        "from langchain.docstore.document import Document\n",
        "from langchain.prompts import PromptTemplate\n",
        "from langchain.text_splitter import RecursiveCharacterTextSplitter\n",
        "from langchain_openai import ChatOpenAI\n",
        "\n",
        "load_dotenv()\n",
        "\n",
        "# Initialize the language model\n",
        "llm = ChatOpenAI(\n",
        "    openai_api_key=getenv(\"OPENROUTER_API_KEY\"),\n",
        "    openai_api_base=getenv(\"OPENROUTER_BASE_URL\"),\n",
        "    model_name=\"bedrock/nova-lite-v1\",\n",
        ")"
      ]
    },
    {
      "cell_type": "markdown",
      "metadata": {},
      "source": [
        "## Balancing Detail and Conciseness\n",
        "\n",
        "Let's start by examining how to balance detail and conciseness in prompts. We'll compare responses from a detailed prompt and a concise prompt."
      ]
    },
    {
      "cell_type": "code",
      "execution_count": 2,
      "metadata": {},
      "outputs": [
        {
          "name": "stdout",
          "output_type": "stream",
          "text": [
            "Detailed response:\n",
            "## Artificial Intelligence: A Comprehensive Overview\n",
            "\n",
            "Artificial intelligence (AI) is a broad field encompassing the theory and development of computer systems able to perform tasks that normally require human intelligence.  This includes tasks like learning, reasoning, problem-solving, perception, and natural language understanding.  Crucially, AI systems don't simply follow pre-programmed instructions; they adapt and improve their performance based on the data they process.\n",
            "\n",
            "**Historical Context:**\n",
            "\n",
            "The concept of AI dates back to ancient myths of artificial beings endowed with intelligence. However, the formal field emerged in the mid-20th century. Key milestones include:\n",
            "\n",
            "* **1950s:** Alan Turing's \"Computing Machinery and Intelligence\" proposed the Turing Test, a benchmark for machine intelligence. The Dartmouth Workshop (1956) is widely considered the birth of AI as a field, coining the term and outlining its goals. Early AI research focused on symbolic reasoning and game playing.\n",
            "* **1960s-70s:**  Significant progress was made in areas like theorem proving and natural language processing. However, limitations in computing power and the complexity of real-world problems led to the first \"AI winter,\" a period of reduced funding and interest.\n",
            "* **1980s:** Expert systems, which used rule-based reasoning to mimic human expertise, gained popularity.  The development of connectionist models (neural networks) also began, though they remained relatively limited.\n",
            "* **1990s-2000s:** The second \"AI winter\" occurred due to continued limitations and unmet expectations. However, advancements in computing power and the availability of large datasets laid the groundwork for the current resurgence.\n",
            "* **2010s-Present:**  The \"deep learning\" revolution, fueled by powerful GPUs and massive datasets, has led to breakthroughs in image recognition, natural language processing, and other areas. AI is now deeply integrated into many aspects of modern life.\n",
            "\n",
            "\n",
            "**Key Components of AI:**\n",
            "\n",
            "Several key components contribute to the functionality of AI systems:\n",
            "\n",
            "* **Machine Learning (ML):**  Algorithms that allow systems to learn from data without explicit programming.  This includes supervised learning (learning from labeled data), unsupervised learning (finding patterns in unlabeled data), and reinforcement learning (learning through trial and error).\n",
            "* **Deep Learning (DL):** A subfield of ML using artificial neural networks with multiple layers to extract higher-level features from data.  Deep learning has been particularly successful in areas like image and speech recognition.\n",
            "* **Natural Language Processing (NLP):** Enables computers to understand, interpret, and generate human language.  Applications include machine translation, chatbots, and sentiment analysis.\n",
            "* **Computer Vision:** Allows computers to \"see\" and interpret images and videos.  Applications include object recognition, facial recognition, and autonomous driving.\n",
            "* **Robotics:** Integrates AI with physical robots to perform tasks in the real world.  Applications include manufacturing, surgery, and exploration.\n",
            "\n",
            "\n",
            "**Practical Applications of AI:**\n",
            "\n",
            "AI is transforming numerous industries:\n",
            "\n",
            "* **Healthcare:** Diagnosis assistance, drug discovery, personalized medicine.\n",
            "* **Finance:** Fraud detection, algorithmic trading, risk management.\n",
            "* **Transportation:** Self-driving cars, traffic optimization.\n",
            "* **Retail:** Personalized recommendations, customer service chatbots.\n",
            "* **Manufacturing:** Predictive maintenance, quality control.\n",
            "\n",
            "\n",
            "**Examples of AI in Action:**\n",
            "\n",
            "* **Siri and Alexa:** Virtual assistants using NLP and speech recognition.\n",
            "* **Self-driving cars (Tesla, Waymo):** Utilizing computer vision and machine learning for navigation and obstacle avoidance.\n",
            "* **Netflix recommendation system:**  Uses machine learning to suggest movies and TV shows based on user preferences.\n",
            "* **Google Translate:**  Employs NLP for machine translation between multiple languages.\n",
            "* **Medical image analysis software:** Helps radiologists detect tumors and other abnormalities.\n",
            "\n",
            "\n",
            "**Controversies and Debates:**\n",
            "\n",
            "The rapid advancement of AI raises several ethical and societal concerns:\n",
            "\n",
            "* **Job displacement:** Automation driven by AI could lead to significant job losses in various sectors.\n",
            "* **Bias and fairness:** AI systems trained on biased data can perpetuate and amplify existing societal biases.\n",
            "* **Privacy concerns:**  The use of AI for surveillance and data analysis raises concerns about privacy violations.\n",
            "* **Autonomous weapons systems:** The development of lethal autonomous weapons raises serious ethical and security concerns.\n",
            "* **Explainability and transparency:**  Understanding how complex AI systems arrive at their decisions is crucial for trust and accountability.\n",
            "\n",
            "\n",
            "**Future Developments and Trends:**\n",
            "\n",
            "Future developments in AI are likely to include:\n",
            "\n",
            "* **More powerful and efficient algorithms:**  Further advancements in deep learning and other techniques.\n",
            "* **Increased use of explainable AI (XAI):**  Developing AI systems that can explain their reasoning and decisions.\n",
            "* **Integration of AI with other technologies:**  Combining AI with IoT, blockchain, and other technologies to create new applications.\n",
            "* **Focus on ethical and responsible AI development:**  Developing guidelines and regulations to ensure the responsible use of AI.\n",
            "* **General-purpose AI:**  Creating AI systems with human-level intelligence and adaptability, a long-term goal still largely unachieved.\n",
            "\n",
            "\n",
            "In conclusion, AI is a rapidly evolving field with immense potential to benefit society. However, it's crucial to address the ethical and societal challenges associated with its development and deployment to ensure its responsible and beneficial use.  The future of AI will depend heavily on our ability to navigate these complex issues effectively.\n",
            "\n",
            "\n",
            "Concise response:\n",
            "Artificial intelligence (AI) is the simulation of human intelligence processes by machines, especially computer systems.  These processes include learning (acquiring information and rules for using the information), reasoning (using rules to reach approximate or definite conclusions), and self-correction.\n",
            "\n",
            "Its main importance lies in its ability to automate complex tasks, analyze vast amounts of data to identify patterns and insights humans might miss, and ultimately improve efficiency and decision-making across various fields, from healthcare and finance to transportation and entertainment.  This leads to innovation, increased productivity, and the potential to solve complex problems facing humanity.\n",
            "\n"
          ]
        }
      ],
      "source": [
        "# Detailed prompt\n",
        "detailed_prompt = PromptTemplate(\n",
        "    input_variables=[\"topic\"],\n",
        "    template=\"\"\"Please provide a comprehensive explanation of {topic}. Include its definition, \n",
        "    historical context, key components, practical applications, and any relevant examples. \n",
        "    Also, discuss any controversies or debates surrounding the topic, and mention potential \n",
        "    future developments or trends.\"\"\",\n",
        ")\n",
        "\n",
        "# Concise prompt\n",
        "concise_prompt = PromptTemplate(\n",
        "    input_variables=[\"topic\"],\n",
        "    template=\"Briefly explain {topic} and its main importance.\",\n",
        ")\n",
        "\n",
        "topic = \"artificial intelligence\"\n",
        "\n",
        "print(\"Detailed response:\")\n",
        "print(llm.invoke(detailed_prompt.format(topic=topic)).content)\n",
        "\n",
        "print(\"\\nConcise response:\")\n",
        "print(llm.invoke(concise_prompt.format(topic=topic)).content)"
      ]
    },
    {
      "cell_type": "markdown",
      "metadata": {},
      "source": [
        "### Analysis of Prompt Balance\n",
        "\n",
        "Let's analyze the differences between the detailed and concise prompts, and discuss strategies for finding the right balance."
      ]
    },
    {
      "cell_type": "code",
      "execution_count": 3,
      "metadata": {},
      "outputs": [
        {
          "name": "stdout",
          "output_type": "stream",
          "text": [
            "Let's analyze the differences between the two AI responses:\n",
            "\n",
            "**1. Information Coverage:**\n",
            "\n",
            "* **Detailed Response:**  Provides a comprehensive overview, covering historical context, key components (ML, DL, NLP, Computer Vision, Robotics), practical applications across multiple industries, examples of AI systems, ethical concerns, and future trends.  It's a much broader and deeper exploration of the topic.\n",
            "* **Concise Response:**  Offers a very basic definition of AI and highlights its main importance (automation, data analysis, prediction).  It lacks historical context, detailed explanation of AI components, specific examples, and ethical considerations.  It's a surface-level treatment.\n",
            "\n",
            "**2. Clarity and Focus:**\n",
            "\n",
            "* **Detailed Response:**  While comprehensive, the detailed response maintains clarity by structuring the information logically into sections (Historical Context, Key Components, Applications, Controversies, Future Developments).  Each section has a clear focus.\n",
            "* **Concise Response:**  The concise response is clear and easy to understand but lacks the depth to fully explain the complexities of AI.  Its focus is very broad, simply stating the main benefits without elaboration.\n",
            "\n",
            "**3. Potential Use Cases for Each Type of Response:**\n",
            "\n",
            "* **Detailed Response:**  Suitable for educational purposes (lectures, textbooks, research papers), in-depth reports for stakeholders, presentations to audiences with a technical background, or for anyone seeking a thorough understanding of AI.\n",
            "* **Concise Response:**  Best for quick overviews, introductory summaries, elevator pitches, or when a brief explanation is needed in a non-technical context (e.g., a general news article).\n",
            "\n",
            "\n",
            "**Strategies for Balancing Detail and Conciseness in Prompts:**\n",
            "\n",
            "To get a response that balances detail and conciseness, you need to craft prompts that clearly specify the desired level of detail and scope.  Here are some strategies:\n",
            "\n",
            "* **Specify the desired length or word count:**  \"Provide a 300-word overview of artificial intelligence,\" or \"Summarize the key applications of AI in healthcare within 200 words.\"\n",
            "* **Define the target audience:**  \"Explain AI concepts to a non-technical audience,\" or \"Describe the ethical implications of AI for a group of policymakers.\"  This helps tailor the level of detail appropriately.\n",
            "* **Use keywords to guide the scope:**  Instead of simply asking \"What is AI?\", ask \"What are the main types of machine learning used in AI, and give examples of each?\"  This focuses the response on specific aspects.\n",
            "* **Use qualifiers like \"briefly,\" \"in detail,\" or \"summarize\":**  These words directly instruct the model on the desired level of detail.\n",
            "* **Break down complex prompts into smaller, focused questions:**  Instead of asking a broad question, break it into smaller, more manageable parts.  This allows for more detailed answers to each sub-question while keeping the overall response concise.\n",
            "* **Iterative prompting:** Start with a concise prompt and then follow up with more specific questions to explore particular aspects in more detail.\n",
            "\n",
            "\n",
            "By employing these strategies, you can effectively guide the AI model to produce responses that meet your specific needs in terms of both detail and brevity.\n",
            "\n"
          ]
        }
      ],
      "source": [
        "analysis_prompt = PromptTemplate(\n",
        "    input_variables=[\"detailed_response\", \"concise_response\"],\n",
        "    template=\"\"\"Compare the following two responses on artificial intelligence:\n",
        "\n",
        "Detailed response:\n",
        "{detailed_response}\n",
        "\n",
        "Concise response:\n",
        "{concise_response}\n",
        "\n",
        "Analyze the differences in terms of:\n",
        "1. Information coverage\n",
        "2. Clarity and focus\n",
        "3. Potential use cases for each type of response\n",
        "\n",
        "Then, suggest strategies for balancing detail and conciseness in prompts.\"\"\",\n",
        ")\n",
        "\n",
        "detailed_response = llm.invoke(detailed_prompt.format(topic=topic)).content\n",
        "concise_response = llm.invoke(concise_prompt.format(topic=topic)).content\n",
        "\n",
        "analysis = llm.invoke(\n",
        "    analysis_prompt.format(\n",
        "        detailed_response=detailed_response, concise_response=concise_response\n",
        "    )\n",
        ").content\n",
        "\n",
        "print(analysis)"
      ]
    },
    {
      "cell_type": "markdown",
      "metadata": {},
      "source": [
        "## Strategies for Handling Long Contexts\n",
        "\n",
        "Now, let's explore strategies for handling long contexts, which often exceed the token limits of language models."
      ]
    },
    {
      "cell_type": "markdown",
      "metadata": {},
      "source": [
        "### 1. Chunking\n",
        "\n",
        "Chunking involves breaking long texts into smaller, manageable pieces. Let's demonstrate this using a long text passage."
      ]
    },
    {
      "cell_type": "code",
      "execution_count": 4,
      "metadata": {},
      "outputs": [
        {
          "name": "stdout",
          "output_type": "stream",
          "text": [
            "Number of chunks: 2\n",
            "First chunk: Artificial intelligence (AI) is a branch of computer science that aims to create intelligent machines that can simulate human cognitive processes.\n",
            "The field of AI has a rich history dating back to the...\n"
          ]
        }
      ],
      "source": [
        "# [A long passage about artificial intelligence, its history, applications, and future prospects...]\n",
        "\n",
        "long_text = \"\"\"\n",
        "Artificial intelligence (AI) is a branch of computer science that aims to create intelligent machines that can simulate human cognitive processes.\n",
        "The field of AI has a rich history dating back to the 1950s, with key milestones such as the development of the first neural networks and expert systems.\n",
        "AI encompasses a wide range of subfields, including machine learning, natural language processing, computer vision, and robotics.\n",
        "Practical applications of AI include speech recognition, image classification, autonomous vehicles, and medical diagnosis.\n",
        "AI has the potential to revolutionize many industries, from healthcare and finance to transportation and entertainment.\n",
        "However, there are ongoing debates and controversies surrounding AI, such as concerns about job displacement, bias in algorithms, and the ethical implications of autonomous systems.\n",
        "Looking ahead, the future of AI holds promise for advancements in areas like explainable AI, AI ethics, and human-AI collaboration. \n",
        "The intersection of AI with other technologies like blockchain, quantum computing, and biotechnology will likely shape the future of the field.\n",
        "But as AI continues to evolve, it is essential to consider the societal impact and ethical implications of these technologies.\n",
        "One of the key challenges for AI researchers and developers is to strike a balance between innovation and responsibility, ensuring that AI benefits society as \n",
        "a whole while minimizing potential risks.\n",
        "If managed effectively, AI has the potential to transform our world in ways we can only begin to imagine.\n",
        "Though the future of AI is uncertain, one thing is clear: the impact of artificial intelligence will be profound and far-reaching.\n",
        "\"\"\"\n",
        "\n",
        "# Initialize the text splitter\n",
        "text_splitter = RecursiveCharacterTextSplitter(\n",
        "    chunk_size=1000, chunk_overlap=200, length_function=len\n",
        ")\n",
        "\n",
        "# Split the text into chunks\n",
        "chunks = text_splitter.split_text(long_text)\n",
        "\n",
        "print(f\"Number of chunks: {len(chunks)}\")\n",
        "print(f\"First chunk: {chunks[0][:200]}...\")"
      ]
    },
    {
      "cell_type": "markdown",
      "metadata": {},
      "source": [
        "### 2. Summarization\n",
        "\n",
        "Summarization can be used to condense long texts while retaining key information. Let's use LangChain's summarization chain to demonstrate this."
      ]
    },
    {
      "cell_type": "code",
      "execution_count": 5,
      "metadata": {},
      "outputs": [
        {
          "name": "stderr",
          "output_type": "stream",
          "text": [
            "/Users/tangquocthai/Works/personal/vn-ds/.venv/lib/python3.11/site-packages/langchain_openai/chat_models/base.py:360: UserWarning: Unexpected type for token usage: <class 'NoneType'>\n",
            "  warnings.warn(f\"Unexpected type for token usage: {type(new_usage)}\")\n"
          ]
        },
        {
          "name": "stdout",
          "output_type": "stream",
          "text": [
            "Summary:\n",
            "AI's rapid advancement across diverse fields necessitates careful consideration of its ethical implications and societal impact.  Responsible innovation and interdisciplinary collaboration are crucial to harnessing its transformative potential for humanity's benefit.\n",
            "\n"
          ]
        }
      ],
      "source": [
        "# Convert text chunks to Document objects\n",
        "doc_chunks = [Document(page_content=chunk) for chunk in chunks]\n",
        "\n",
        "# Load the summarization chain\n",
        "chain = load_summarize_chain(llm, chain_type=\"map_reduce\")\n",
        "\n",
        "# Summarize the long text\n",
        "summary_result = chain.invoke(doc_chunks)\n",
        "\n",
        "print(\"Summary:\")\n",
        "print(summary_result[\"output_text\"])"
      ]
    },
    {
      "cell_type": "markdown",
      "metadata": {},
      "source": [
        "### 3. Iterative Processing\n",
        "\n",
        "For complex tasks that require multiple steps, we can use iterative processing. Let's demonstrate this with a multi-step analysis task."
      ]
    },
    {
      "cell_type": "code",
      "execution_count": 6,
      "metadata": {},
      "outputs": [
        {
          "name": "stdout",
          "output_type": "stream",
          "text": [
            "Final Analysis:\n",
            "The analysis of the provided text reveals a balanced and comprehensive overview of artificial intelligence.  The text effectively covers the historical context, diverse applications, and inherent risks and benefits of AI.  Crucially, it emphasizes the ethical considerations and responsible innovation necessary for the future development and deployment of AI, highlighting the need for proactive mitigation of potential negative consequences.  The conclusion is that the text provides a strong foundation for understanding AI's multifaceted nature and the importance of its ethical implications.\n",
            "\n"
          ]
        }
      ],
      "source": [
        "def iterative_analysis(text, steps):\n",
        "    \"\"\"\n",
        "    Perform iterative analysis on a given text.\n",
        "\n",
        "    Args:\n",
        "    text (str): The text to analyze.\n",
        "    steps (list): List of analysis steps to perform.\n",
        "\n",
        "    Returns:\n",
        "    str: The final analysis result.\n",
        "    \"\"\"\n",
        "    result = text\n",
        "    for step in steps:\n",
        "        prompt = PromptTemplate(\n",
        "            input_variables=[\"text\"],\n",
        "            template=f\"Analyze the following text. {step}\\n\\nText: {{text}}\\n\\nAnalysis:\",\n",
        "        )\n",
        "        result = llm.invoke(prompt.format(text=result)).content\n",
        "    return result\n",
        "\n",
        "\n",
        "analysis_steps = [\n",
        "    \"Identify the main topics discussed.\",\n",
        "    \"Summarize the key points for each topic.\",\n",
        "    \"Provide a brief conclusion based on the analysis.\",\n",
        "]\n",
        "\n",
        "final_analysis = iterative_analysis(long_text, analysis_steps)\n",
        "print(\"Final Analysis:\")\n",
        "print(final_analysis)"
      ]
    }
  ],
  "metadata": {
    "kernelspec": {
      "display_name": ".venv",
      "language": "python",
      "name": "python3"
    },
    "language_info": {
      "codemirror_mode": {
        "name": "ipython",
        "version": 3
      },
      "file_extension": ".py",
      "mimetype": "text/x-python",
      "name": "python",
      "nbconvert_exporter": "python",
      "pygments_lexer": "ipython3",
      "version": "3.11.10"
    }
  },
  "nbformat": 4,
  "nbformat_minor": 4
}
