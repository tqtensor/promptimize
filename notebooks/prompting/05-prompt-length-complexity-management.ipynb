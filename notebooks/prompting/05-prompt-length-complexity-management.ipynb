{
  "cells": [
    {
      "cell_type": "markdown",
      "metadata": {},
      "source": [
        "# Prompt Length and Complexity Management Tutorial\n",
        "\n",
        "## Overview\n",
        "\n",
        "This tutorial delves into strategies for optimizing prompt length and managing complexity when interacting with large language models (LLMs). We'll focus on two critical areas: crafting balanced prompts and tackling long-context challenges.\n",
        "\n",
        "## Motivation\n",
        "\n",
        "Mastering prompt engineering requires striking a delicate balance between providing sufficient context and maintaining conciseness. Additionally, many real-world scenarios involve processing extensive documents or intricate multi-step tasks that may exceed LLM context limits. Developing skills to address these challenges is essential for creating robust AI applications.\n",
        "\n",
        "## Key Components\n",
        "\n",
        "1. Optimizing prompt details and structure.\n",
        "2. Techniques for handling extended contexts.\n",
        "3. Practical demonstrations using Amazon Nova via OpenRouter and LangChain."
      ]
    },
    {
      "cell_type": "markdown",
      "metadata": {},
      "source": [
        "## Setup\n",
        "\n",
        "First, let's import the necessary libraries and set up our environment."
      ]
    },
    {
      "cell_type": "code",
      "execution_count": 1,
      "metadata": {},
      "outputs": [],
      "source": [
        "from os import getenv\n",
        "\n",
        "from dotenv import load_dotenv\n",
        "from langchain.chains.summarize import load_summarize_chain\n",
        "from langchain.docstore.document import Document\n",
        "from langchain.prompts import PromptTemplate\n",
        "from langchain.text_splitter import RecursiveCharacterTextSplitter\n",
        "from langchain_openai import ChatOpenAI\n",
        "\n",
        "load_dotenv()\n",
        "\n",
        "# Initialize the language model\n",
        "llm = ChatOpenAI(\n",
        "    openai_api_key=getenv(\"OPENROUTER_API_KEY\"),\n",
        "    openai_api_base=getenv(\"OPENROUTER_BASE_URL\"),\n",
        "    model_name=\"amazon/nova-lite-v1\",\n",
        ")"
      ]
    },
    {
      "cell_type": "markdown",
      "metadata": {},
      "source": [
        "## Balancing Detail and Conciseness\n",
        "\n",
        "Let's start by examining how to balance detail and conciseness in prompts. We'll compare responses from a detailed prompt and a concise prompt."
      ]
    },
    {
      "cell_type": "code",
      "execution_count": 2,
      "metadata": {},
      "outputs": [
        {
          "name": "stdout",
          "output_type": "stream",
          "text": [
            "Detailed response:\n",
            "### Comprehensive Explanation of Artificial Intelligence (AI)\n",
            "\n",
            "#### Definition\n",
            "**Artificial Intelligence (AI)** refers to the simulation of human intelligence processes by machines, especially computer systems. These processes include learning (the acquisition of information and rules for using the information), reasoning (using rules to reach approximate or definite conclusions), and self-correction.\n",
            "\n",
            "#### Historical Context\n",
            "The concept of AI dates back to ancient myths and stories, but the formal study of AI began in the mid-20th century.\n",
            "\n",
            "- **1943**: Warren McCulloch and Walter Pitts publish a paper on the first conceptual model of a neural network.\n",
            "- **1950**: Alan Turing proposed the Turing Test in his paper \"Computing Machinery and Intelligence,\" suggesting that a machine could be considered intelligent if it could exhibit intelligent behavior indistinguishable from that of a human.\n",
            "- **1956**: The term \"Artificial Intelligence\" was coined at the Dartmouth Conference, often considered the birth of AI as a field.\n",
            "- **1960s-1970s**: Early successes and setbacks, known as \"AI winters,\" occurred due to overambitious goals and limited computational power.\n",
            "- **1990s-Present**: The rise of machine learning, big data, and powerful computing resources have led to significant advancements in AI.\n",
            "\n",
            "#### Key Components\n",
            "1. **Machine Learning (ML)**: A subset of AI that involves training algorithms to make predictions or decisions based on data. Key techniques include supervised learning, unsupervised learning, and reinforcement learning.\n",
            "2. **Neural Networks**: Inspired by the human brain, these networks consist of layers of interconnected nodes (neurons) that process information.\n",
            "3. **Natural Language Processing (NLP)**: Enables machines to understand and generate human language.\n",
            "4. **Computer Vision**: Allows machines to interpret and make decisions based on visual input.\n",
            "5. **Robotics**: Combines AI with mechanical engineering to create robots that can perform tasks autonomously.\n",
            "6. **Expert Systems**: Rule-based systems that mimic the decision-making ability of a human expert.\n",
            "\n",
            "#### Practical Applications\n",
            "1. **Healthcare**: AI is used for diagnosing diseases, personalized medicine, and drug discovery.\n",
            "   - **Example**: IBM's Watson for Health uses NLP to analyze medical literature and patient data to assist in diagnosis.\n",
            "2. **Finance**: AI is used for fraud detection, algorithmic trading, and customer service.\n",
            "   - **Example**: JPMorgan Chase uses AI to monitor transactions for fraudulent activity.\n",
            "3. **Transportation**: AI is used in autonomous vehicles, traffic management, and logistics optimization.\n",
            "   - **Example**: Tesla's Autopilot uses computer vision and machine learning to enable self-driving capabilities.\n",
            "4. **Retail**: AI is used for customer service chatbots, inventory management, and personalized recommendations.\n",
            "   - **Example**: Amazon uses AI to manage its supply chain and provide personalized shopping recommendations.\n",
            "5. **Entertainment**: AI is used for content creation, recommendation systems, and enhancing user experience.\n",
            "   - **Example**: Netflix uses AI to recommend movies and TV shows based on user preferences.\n",
            "\n",
            "#### Controversies and Debates\n",
            "1. **Ethical Concerns**: Issues such as bias in AI systems, privacy concerns, and the potential for misuse of AI technologies.\n",
            "   - **Example**: Facial recognition systems have been criticized for racial and gender biases.\n",
            "2. **Job Displacement**: Concerns about AI replacing human jobs, leading to economic and social disruptions.\n",
            "   - **Example**: Automation in manufacturing has led to job losses in certain sectors.\n",
            "3. **Control and Safety**: The potential for AI to become uncontrollable or be used for malicious purposes.\n",
            "   - **Example**: The \"AI alignment\" problem focuses on ensuring that advanced AI systems act in ways that are aligned with human values.\n",
            "\n",
            "#### Potential Future Developments or Trends\n",
            "1. **General AI (AGI)**: The development of AI systems that possess the ability to understand, learn, and apply intelligence across a wide range of tasks, akin to human intelligence.\n",
            "2. **AI Ethics and Governance**: Increased focus on creating ethical frameworks and regulations to govern AI development and deployment.\n",
            "3. **AI in Scientific Research**: AI is expected to accelerate scientific discoveries in fields such as genomics, climate science, and materials science.\n",
            "4. **Human-AI Collaboration**: Enhanced collaboration between humans and AI, where AI augments human capabilities rather than replacing them.\n",
            "5. **AI in Education**: Personalized learning experiences and intelligent tutoring systems to improve educational outcomes.\n",
            "\n",
            "In conclusion, AI is a rapidly evolving field with transformative potential across various sectors. While it offers numerous benefits, it also presents significant challenges that require careful consideration and proactive management.\n",
            "\n",
            "Concise response:\n",
            "Artificial Intelligence (AI) is a branch of technology that focuses on creating intelligent machines capable of performing tasks that typically require human intelligence. These tasks include learning from experience, problem-solving, understanding natural language, recognizing patterns, and making decisions.\n",
            "\n",
            "### Main Importance of AI:\n",
            "\n",
            "1. **Efficiency and Automation**: AI can automate repetitive tasks, allowing humans to focus on more complex and creative activities. This increases productivity and reduces errors.\n",
            "\n",
            "2. **Data Analysis**: AI can process and analyze large datasets much faster than humans, uncovering insights and trends that might be missed otherwise.\n",
            "\n",
            "3. **Personalization**: AI enables personalized experiences in various sectors, such as marketing, entertainment, and healthcare, by tailoring recommendations and services to individual preferences.\n",
            "\n",
            "4. **Improved Decision-Making**: AI systems can analyze data and provide actionable insights, helping businesses and organizations make informed decisions more quickly and effectively.\n",
            "\n",
            "5. **Advancements in Healthcare**: AI is used for diagnostics, drug discovery, and personalized treatment plans, leading to better patient outcomes and more efficient healthcare systems.\n",
            "\n",
            "6. **Enhanced Safety and Security**: AI can improve safety in various industries by detecting anomalies, predicting failures, and enhancing surveillance systems.\n",
            "\n",
            "7. **Innovation and Research**: AI drives innovation across various fields, from robotics and autonomous vehicles to scientific research, accelerating the pace of discovery and development.\n",
            "\n",
            "In summary, AI is crucial for enhancing efficiency, enabling data-driven decision-making, and driving innovation across multiple sectors.\n"
          ]
        }
      ],
      "source": [
        "# Detailed prompt\n",
        "detailed_prompt = PromptTemplate(\n",
        "    input_variables=[\"topic\"],\n",
        "    template=\"\"\"Please provide a comprehensive explanation of {topic}. Include its definition, \n",
        "    historical context, key components, practical applications, and any relevant examples. \n",
        "    Also, discuss any controversies or debates surrounding the topic, and mention potential \n",
        "    future developments or trends.\"\"\",\n",
        ")\n",
        "\n",
        "# Concise prompt\n",
        "concise_prompt = PromptTemplate(\n",
        "    input_variables=[\"topic\"],\n",
        "    template=\"Briefly explain {topic} and its main importance.\",\n",
        ")\n",
        "\n",
        "topic = \"artificial intelligence\"\n",
        "\n",
        "print(\"Detailed response:\")\n",
        "print(llm.invoke(detailed_prompt.format(topic=topic)).content)\n",
        "\n",
        "print(\"\\nConcise response:\")\n",
        "print(llm.invoke(concise_prompt.format(topic=topic)).content)"
      ]
    },
    {
      "cell_type": "markdown",
      "metadata": {},
      "source": [
        "### Analysis of Prompt Balance\n",
        "\n",
        "Let's analyze the differences between the detailed and concise prompts, and discuss strategies for finding the right balance."
      ]
    },
    {
      "cell_type": "code",
      "execution_count": 3,
      "metadata": {},
      "outputs": [
        {
          "name": "stdout",
          "output_type": "stream",
          "text": [
            "### Analysis of Differences\n",
            "\n",
            "#### 1. Information Coverage\n",
            "\n",
            "**Detailed Response:**\n",
            "- **Extensive**: Covers the definition, historical context, key components, practical applications, examples, controversies, and future trends of AI.\n",
            "- **Depth**: Provides a thorough exploration of each aspect, including sub-categories and specific examples.\n",
            "- **Breadth**: Addresses a wide range of topics, making it suitable for a comprehensive understanding of AI.\n",
            "\n",
            "**Concise Response:**\n",
            "- **Limited**: Focuses on the definition, importance, and main applications of AI.\n",
            "- **Brevity**: Provides a high-level overview without delving into sub-categories or specific examples.\n",
            "- **Narrow**: Concentrates on the most critical aspects, making it suitable for a quick understanding of AI.\n",
            "\n",
            "#### 2. Clarity and Focus\n",
            "\n",
            "**Detailed Response:**\n",
            "- **Clarity**: Clear but can be overwhelming due to the amount of information.\n",
            "- **Focus**: Broad focus that covers many aspects of AI, which might dilute the clarity for specific topics.\n",
            "- **Detail**: High level of detail that might be unnecessary for readers seeking a general understanding.\n",
            "\n",
            "**Concise Response:**\n",
            "- **Clarity**: Very clear and easy to understand.\n",
            "- **Focus**: Sharp focus on the most important aspects of AI, making it easy for readers to grasp the key points.\n",
            "- **Detail**: Low level of detail, which might be a drawback for readers seeking in-depth information.\n",
            "\n",
            "#### 3. Potential Use Cases for Each Type of Response\n",
            "\n",
            "**Detailed Response:**\n",
            "- **Academic Research**: Suitable for students, researchers, and academics who need a comprehensive understanding of AI.\n",
            "- **Educational Material**: Useful for creating textbooks, courses, and detailed guides.\n",
            "- **In-Depth Analysis**: Ideal for reports, white papers, and detailed presentations.\n",
            "\n",
            "**Concise Response:**\n",
            "- **General Audience**: Suitable for readers who need a quick understanding of AI without going into specifics.\n",
            "- **Executive Summaries**: Useful for business reports, executive summaries, and high-level presentations.\n",
            "- **Overview Articles**: Ideal for articles, blog posts, and introductory materials.\n",
            "\n",
            "### Strategies for Balancing Detail and Conciseness\n",
            "\n",
            "1. **Audience Analysis**:\n",
            "   - **Identify the Audience**: Determine the target audience and their level of familiarity with the topic.\n",
            "   - **Tailor the Response**: Adjust the level of detail based on the audience's needs. For example, provide more detail for experts and less for general readers.\n",
            "\n",
            "2. **Purpose of the Response**:\n",
            "   - **Define the Objective**: Clarify the purpose of the response (e.g., educate, inform, persuade).\n",
            "   - **Focus on Key Points**: Highlight the most important points that align with the objective. Use supplementary details to support these points.\n",
            "\n",
            "3. **Structured Approach**:\n",
            "   - **Use Sections**: Organize the response into clear sections (e.g., Introduction, Key Components, Applications, Future Trends).\n",
            "   - **Summarize and Expand**: Start with a concise summary and then expand on key sections as needed. Provide links or references for readers who want more information.\n",
            "\n",
            "4. **Iterative Refinement**:\n",
            "   - **Draft and Revise**: Write an initial draft with all relevant details and then refine it by removing unnecessary information.\n",
            "   - **Feedback Loop**: Seek feedback from peers or the target audience to ensure the response is neither too detailed nor too concise.\n",
            "\n",
            "5. **Use of Visual Aids**:\n",
            "   - **Infographics and Charts**: Incorporate visual aids to present complex information in a concise and clear manner.\n",
            "   - **Glossaries and Appendices**: Provide additional details in glossaries or appendices for readers who want to delve deeper.\n",
            "\n",
            "By applying these strategies, you can create responses that are both informative and accessible, catering to a wide range of audiences and purposes.\n"
          ]
        }
      ],
      "source": [
        "analysis_prompt = PromptTemplate(\n",
        "    input_variables=[\"detailed_response\", \"concise_response\"],\n",
        "    template=\"\"\"Compare the following two responses on artificial intelligence:\n",
        "\n",
        "Detailed response:\n",
        "{detailed_response}\n",
        "\n",
        "Concise response:\n",
        "{concise_response}\n",
        "\n",
        "Analyze the differences in terms of:\n",
        "1. Information coverage\n",
        "2. Clarity and focus\n",
        "3. Potential use cases for each type of response\n",
        "\n",
        "Then, suggest strategies for balancing detail and conciseness in prompts.\"\"\",\n",
        ")\n",
        "\n",
        "detailed_response = llm.invoke(detailed_prompt.format(topic=topic)).content\n",
        "concise_response = llm.invoke(concise_prompt.format(topic=topic)).content\n",
        "\n",
        "analysis = llm.invoke(\n",
        "    analysis_prompt.format(\n",
        "        detailed_response=detailed_response, concise_response=concise_response\n",
        "    )\n",
        ").content\n",
        "\n",
        "print(analysis)"
      ]
    },
    {
      "cell_type": "markdown",
      "metadata": {},
      "source": [
        "## Strategies for Handling Long Contexts\n",
        "\n",
        "Now, let's explore strategies for handling long contexts, which often exceed the token limits of language models."
      ]
    },
    {
      "cell_type": "markdown",
      "metadata": {},
      "source": [
        "### 1. Chunking\n",
        "\n",
        "Chunking involves breaking long texts into smaller, manageable pieces. Let's demonstrate this using a long text passage."
      ]
    },
    {
      "cell_type": "code",
      "execution_count": 4,
      "metadata": {},
      "outputs": [
        {
          "name": "stdout",
          "output_type": "stream",
          "text": [
            "Number of chunks: 2\n",
            "First chunk: Artificial intelligence (AI) is a branch of computer science that aims to create intelligent machines that can simulate human cognitive processes.\n",
            "The field of AI has a rich history dating back to the...\n"
          ]
        }
      ],
      "source": [
        "# [A long passage about artificial intelligence, its history, applications, and future prospects...]\n",
        "\n",
        "long_text = \"\"\"\n",
        "Artificial intelligence (AI) is a branch of computer science that aims to create intelligent machines that can simulate human cognitive processes.\n",
        "The field of AI has a rich history dating back to the 1950s, with key milestones such as the development of the first neural networks and expert systems.\n",
        "AI encompasses a wide range of subfields, including machine learning, natural language processing, computer vision, and robotics.\n",
        "Practical applications of AI include speech recognition, image classification, autonomous vehicles, and medical diagnosis.\n",
        "AI has the potential to revolutionize many industries, from healthcare and finance to transportation and entertainment.\n",
        "However, there are ongoing debates and controversies surrounding AI, such as concerns about job displacement, bias in algorithms, and the ethical implications of autonomous systems.\n",
        "Looking ahead, the future of AI holds promise for advancements in areas like explainable AI, AI ethics, and human-AI collaboration. \n",
        "The intersection of AI with other technologies like blockchain, quantum computing, and biotechnology will likely shape the future of the field.\n",
        "But as AI continues to evolve, it is essential to consider the societal impact and ethical implications of these technologies.\n",
        "One of the key challenges for AI researchers and developers is to strike a balance between innovation and responsibility, ensuring that AI benefits society as \n",
        "a whole while minimizing potential risks.\n",
        "If managed effectively, AI has the potential to transform our world in ways we can only begin to imagine.\n",
        "Though the future of AI is uncertain, one thing is clear: the impact of artificial intelligence will be profound and far-reaching.\n",
        "\"\"\"\n",
        "\n",
        "# Initialize the text splitter\n",
        "text_splitter = RecursiveCharacterTextSplitter(\n",
        "    chunk_size=1000, chunk_overlap=200, length_function=len\n",
        ")\n",
        "\n",
        "# Split the text into chunks\n",
        "chunks = text_splitter.split_text(long_text)\n",
        "\n",
        "print(f\"Number of chunks: {len(chunks)}\")\n",
        "print(f\"First chunk: {chunks[0][:200]}...\")"
      ]
    },
    {
      "cell_type": "markdown",
      "metadata": {},
      "source": [
        "### 2. Summarization\n",
        "\n",
        "Summarization can be used to condense long texts while retaining key information. Let's use LangChain's summarization chain to demonstrate this."
      ]
    },
    {
      "cell_type": "code",
      "execution_count": 5,
      "metadata": {},
      "outputs": [
        {
          "name": "stderr",
          "output_type": "stream",
          "text": [
            "/workspaces/scentronix-ge/promptimize/.venv/lib/python3.11/site-packages/langchain_openai/chat_models/base.py:360: UserWarning: Unexpected type for token usage: <class 'NoneType'>\n",
            "  warnings.warn(f\"Unexpected type for token usage: {type(new_usage)}\")\n"
          ]
        },
        {
          "name": "stdout",
          "output_type": "stream",
          "text": [
            "Summary:\n",
            "Artificial intelligence (AI), a computer science field since the 1950s, aims to create intelligent machines that mimic human cognition. It encompasses subfields like machine learning and natural language processing, with applications in speech recognition and autonomous vehicles. While AI holds transformative potential, it also raises concerns about job displacement, algorithmic bias, and ethical issues. The future of AI may see progress in explainable AI, ethics, and human-AI collaboration, influenced by technologies like blockchain, quantum computing, and biotechnology. Balancing innovation with responsibility is essential to ensure AI benefits society while mitigating risks. If managed well, AI could significantly transform the world.\n"
          ]
        }
      ],
      "source": [
        "# Convert text chunks to Document objects\n",
        "doc_chunks = [Document(page_content=chunk) for chunk in chunks]\n",
        "\n",
        "# Load the summarization chain\n",
        "chain = load_summarize_chain(llm, chain_type=\"map_reduce\")\n",
        "\n",
        "# Summarize the long text\n",
        "summary_result = chain.invoke(doc_chunks)\n",
        "\n",
        "print(\"Summary:\")\n",
        "print(summary_result[\"output_text\"])"
      ]
    },
    {
      "cell_type": "markdown",
      "metadata": {},
      "source": [
        "### 3. Iterative Processing\n",
        "\n",
        "For complex tasks that require multiple steps, we can use iterative processing. Let's demonstrate this with a multi-step analysis task."
      ]
    },
    {
      "cell_type": "code",
      "execution_count": 6,
      "metadata": {},
      "outputs": [
        {
          "name": "stdout",
          "output_type": "stream",
          "text": [
            "Final Analysis:\n",
            "### Analysis\n",
            "\n",
            "The text provides a comprehensive overview of Artificial Intelligence (AI), covering its definition, scope, subfields, practical applications, industry impact, debates, future directions, societal impact, and ethical considerations. Here is a detailed breakdown:\n",
            "\n",
            "1. **Definition and Scope of AI**:\n",
            "   - AI is defined as a branch of computer science focused on creating intelligent machines that mimic human cognitive functions. The historical context highlights its evolution since the 1950s, indicating a long-term development trajectory.\n",
            "\n",
            "2. **Subfields of AI**:\n",
            "   - AI is divided into several specialized areas, including machine learning, natural language processing, computer vision, and robotics. This diversification showcases the breadth and complexity of AI research and applications.\n",
            "\n",
            "3. **Practical Applications**:\n",
            "   - AI is applied in various practical domains such as speech recognition, image classification, autonomous vehicles, and medical diagnosis. This section emphasizes the versatility and utility of AI technologies in real-world scenarios.\n",
            "\n",
            "4. **Impact on Industries**:\n",
            "   - AI has the potential to revolutionize sectors such as healthcare, finance, transportation, and entertainment. This indicates the transformative power of AI across different industries.\n",
            "\n",
            "5. **Debates and Controversies**:\n",
            "   - The text acknowledges ongoing debates about job displacement, algorithmic bias, and the ethical implications of autonomous systems. These concerns highlight the need for careful consideration and regulation of AI technologies.\n",
            "\n",
            "6. **Future Directions**:\n",
            "   - The future of AI includes advancements in explainable AI, AI ethics, and human-AI collaboration, as well as integration with technologies like blockchain, quantum computing, and biotechnology. This suggests a forward-looking approach to addressing current limitations and enhancing AI capabilities.\n",
            "\n",
            "7. **Societal Impact and Ethical Considerations**:\n",
            "   - The text emphasizes the importance of considering the societal impact and ethical implications of AI. It underscores the challenge of balancing innovation with responsibility, which is crucial for the sustainable development of AI.\n",
            "\n",
            "8. **Potential and Challenges**:\n",
            "   - The potential of AI to bring transformative changes is highlighted, but so are the challenges. The future of AI is uncertain, but its impact is expected to be profound and far-reaching, indicating both optimism and caution.\n",
            "\n",
            "### Conclusion\n",
            "\n",
            "The text presents a balanced view of AI, highlighting its significant potential to transform various sectors and improve human life. However, it also acknowledges the challenges and ethical considerations that accompany these advancements. Effective management, responsible innovation, and careful regulation are essential to harness the benefits of AI while mitigating its risks. The future of AI holds promise, but it requires a collaborative effort from researchers, developers, policymakers, and society at large to ensure it benefits everyone.\n"
          ]
        }
      ],
      "source": [
        "def iterative_analysis(text, steps):\n",
        "    \"\"\"\n",
        "    Perform iterative analysis on a given text.\n",
        "\n",
        "    Args:\n",
        "    text (str): The text to analyze.\n",
        "    steps (list): List of analysis steps to perform.\n",
        "\n",
        "    Returns:\n",
        "    str: The final analysis result.\n",
        "    \"\"\"\n",
        "    result = text\n",
        "    for step in steps:\n",
        "        prompt = PromptTemplate(\n",
        "            input_variables=[\"text\"],\n",
        "            template=f\"Analyze the following text. {step}\\n\\nText: {{text}}\\n\\nAnalysis:\",\n",
        "        )\n",
        "        result = llm.invoke(prompt.format(text=result)).content\n",
        "    return result\n",
        "\n",
        "\n",
        "analysis_steps = [\n",
        "    \"Identify the main topics discussed.\",\n",
        "    \"Summarize the key points for each topic.\",\n",
        "    \"Provide a brief conclusion based on the analysis.\",\n",
        "]\n",
        "\n",
        "final_analysis = iterative_analysis(long_text, analysis_steps)\n",
        "print(\"Final Analysis:\")\n",
        "print(final_analysis)"
      ]
    }
  ],
  "metadata": {
    "kernelspec": {
      "display_name": ".venv",
      "language": "python",
      "name": "python3"
    },
    "language_info": {
      "codemirror_mode": {
        "name": "ipython",
        "version": 3
      },
      "file_extension": ".py",
      "mimetype": "text/x-python",
      "name": "python",
      "nbconvert_exporter": "python",
      "pygments_lexer": "ipython3",
      "version": "3.11.10"
    }
  },
  "nbformat": 4,
  "nbformat_minor": 4
}
