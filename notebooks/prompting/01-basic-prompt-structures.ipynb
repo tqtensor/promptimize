{
  "cells": [
    {
      "cell_type": "markdown",
      "metadata": {},
      "source": [
        "# Basic Prompt Structures Tutorial\n",
        "\n",
        "## Overview\n",
        "\n",
        "This tutorial explores two essential prompt structures used in AI interactions:\n",
        "1. Single-turn prompts\n",
        "2. Multi-turn prompts (conversations)\n",
        "\n",
        "We'll utilize Amazon Nova via OpenRouter and LangChain to illustrate these concepts.\n",
        "\n",
        "## Motivation\n",
        "\n",
        "Grasping various prompt structures is essential for effective AI communication. Single-turn prompts excel in quick, direct queries, while multi-turn prompts facilitate more nuanced, context-rich exchanges. Proficiency in these structures enhances the versatility and efficacy of AI applications across diverse scenarios.\n",
        "\n",
        "## Key Components\n",
        "\n",
        "1. **Single-turn Prompts**: One-time interactions with the AI model.\n",
        "2. **Multi-turn Prompts**: Sequential exchanges that preserve context.\n",
        "3. **Prompt Templates**: Standardized structures for consistent AI querying.\n",
        "4. **Conversation Chains**: Techniques for maintaining context across multiple interactions."
      ]
    },
    {
      "cell_type": "markdown",
      "metadata": {},
      "source": [
        "## Setup\n",
        "\n",
        "First, let's import the necessary libraries and set up our environment."
      ]
    },
    {
      "cell_type": "code",
      "execution_count": 1,
      "metadata": {},
      "outputs": [],
      "source": [
        "from os import getenv\n",
        "from typing import List\n",
        "\n",
        "from dotenv import load_dotenv\n",
        "from langchain.prompts import PromptTemplate\n",
        "from langchain_core.chat_history import BaseChatMessageHistory\n",
        "from langchain_core.messages import BaseMessage\n",
        "from langchain_core.prompts import ChatPromptTemplate, MessagesPlaceholder\n",
        "from langchain_core.pydantic_v1 import BaseModel, Field\n",
        "from langchain_core.runnables.history import RunnableWithMessageHistory\n",
        "from langchain_openai import ChatOpenAI\n",
        "from langchain_openai.chat_models import ChatOpenAI\n",
        "\n",
        "load_dotenv()\n",
        "\n",
        "\n",
        "# Initialize the language model\n",
        "llm = ChatOpenAI(\n",
        "    openai_api_key=getenv(\"OPENROUTER_API_KEY\"),\n",
        "    openai_api_base=getenv(\"OPENROUTER_BASE_URL\"),\n",
        "    model_name=\"amazon/nova-lite-v1\",\n",
        ")"
      ]
    },
    {
      "cell_type": "markdown",
      "metadata": {},
      "source": [
        "## 1. Single-turn Prompts\n",
        "\n",
        "Single-turn prompts are one-shot interactions with the language model. They consist of a single input (prompt) and generate a single output (response)."
      ]
    },
    {
      "cell_type": "code",
      "execution_count": 2,
      "metadata": {},
      "outputs": [
        {
          "name": "stdout",
          "output_type": "stream",
          "text": [
            "The three primary colors are:\n",
            "\n",
            "1. **Red**\n",
            "2. **Blue**\n",
            "3. **Yellow**\n",
            "\n",
            "These colors are fundamental in color theory and can be combined to create a wide range of other colors.\n"
          ]
        }
      ],
      "source": [
        "single_turn_prompt = \"What are the three primary colors?\"\n",
        "print(llm.invoke(single_turn_prompt).content)"
      ]
    },
    {
      "cell_type": "markdown",
      "metadata": {},
      "source": [
        "Now, let's use a PromptTemplate to create a more structured single-turn prompt:"
      ]
    },
    {
      "cell_type": "code",
      "execution_count": 3,
      "metadata": {},
      "outputs": [
        {
          "name": "stdout",
          "output_type": "stream",
          "text": [
            "**Color Theory Explanation:**\n",
            "\n",
            "Color theory is a framework that explains how colors interact and the effects they produce. It is essential in various fields such as art, design, and marketing. The theory helps artists and designers understand how to create harmony, contrast, and emotional responses through color.\n",
            "\n",
            "**Three Main Components of Color Theory:**\n",
            "\n",
            "1. **Color Wheel:**\n",
            "   - A visual representation of colors arranged in a circular format.\n",
            "   - It shows the relationships between primary, secondary, and tertiary colors.\n",
            "   - The color wheel is divided into primary (red, blue, yellow), secondary (green, orange, purple), and tertiary colors (mixtures of primary and secondary colors).\n",
            "\n",
            "2. **Color Harmony:**\n",
            "   - Refers to the pleasing arrangement of colors.\n",
            "   - Common schemes include complementary (colors opposite each other on the wheel), analogous (colors next to each other), and triadic (three colors evenly spaced on the wheel).\n",
            "\n",
            "3. **Color Properties:**\n",
            "   - **Hue:** The actual color (e.g., red, blue).\n",
            "   - **Saturation:** The intensity or purity of the color.\n",
            "   - **Value:** The lightness or darkness of the color.\n"
          ]
        }
      ],
      "source": [
        "structured_prompt = PromptTemplate(\n",
        "    input_variables=[\"topic\"],\n",
        "    template=\"Provide a brief explanation of {topic} and list its three main components.\",\n",
        ")\n",
        "\n",
        "chain = structured_prompt | llm\n",
        "print(chain.invoke({\"topic\": \"color theory\"}).content)"
      ]
    },
    {
      "cell_type": "markdown",
      "metadata": {},
      "source": [
        "You can learn more about LangChain Expression Language from [LCEL](https://python.langchain.com/docs/concepts/lcel/)"
      ]
    },
    {
      "cell_type": "markdown",
      "metadata": {},
      "source": [
        "## 2. Multi-turn Prompts (Conversations)\n",
        "\n",
        "Multi-turn prompts involve a series of interactions with the language model, allowing for more complex and context-aware conversations."
      ]
    },
    {
      "cell_type": "code",
      "execution_count": 4,
      "metadata": {},
      "outputs": [],
      "source": [
        "class InMemoryHistory(BaseChatMessageHistory, BaseModel):\n",
        "    \"\"\"In memory implementation of chat message history.\"\"\"\n",
        "\n",
        "    messages: List[BaseMessage] = Field(default_factory=list)\n",
        "\n",
        "    def add_messages(self, messages: List[BaseMessage]) -> None:\n",
        "        \"\"\"Add a list of messages to the store\"\"\"\n",
        "        self.messages.extend(messages)\n",
        "\n",
        "    def clear(self) -> None:\n",
        "        self.messages = []\n",
        "\n",
        "\n",
        "# Here we use a global variable to store the chat message history.\n",
        "# This will make it easier to inspect it to see the underlying results.\n",
        "store = {}\n",
        "\n",
        "\n",
        "def get_by_session_id(session_id: str) -> BaseChatMessageHistory:\n",
        "    if session_id not in store:\n",
        "        store[session_id] = InMemoryHistory()\n",
        "    return store[session_id]"
      ]
    },
    {
      "cell_type": "code",
      "execution_count": 5,
      "metadata": {},
      "outputs": [
        {
          "name": "stdout",
          "output_type": "stream",
          "text": [
            "Absolutely! Planets are celestial bodies that orbit a star, such as the Sun in our solar system. Here are some key points about planets:\n",
            "\n",
            "### Types of Planets\n",
            "1. **Terrestrial Planets (Inner Planets)**\n",
            "   - **Mercury**: The closest planet to the Sun, it has a rocky surface and no atmosphere.\n",
            "   - **Venus**: Similar in size to Earth, it has a thick, toxic atmosphere and is the hottest planet due to a runaway greenhouse effect.\n",
            "   - **Earth**: The only known planet to support life, it has a diverse atmosphere and liquid water.\n",
            "   - **Mars**: Known as the \"Red Planet,\" it has a thin atmosphere, and there is evidence of past water flow.\n",
            "\n",
            "2. **Gas Giants (Outer Planets)**\n",
            "   - **Jupiter**: The largest planet in the solar system, it has a massive atmosphere composed mostly of hydrogen and helium, and it has many moons.\n",
            "   - **Saturn**: Famous for its extensive ring system, it is also a gas giant with a composition similar to Jupiter.\n",
            "   - **Uranus**: It has a blue-green color due to methane in its atmosphere, and it rotates on its side.\n",
            "   - **Neptune**: Known for its strong winds and storms, it has a deep blue color.\n",
            "\n",
            "### Dwarf Planets\n",
            "- **Pluto**: Once considered the ninth planet, it is now classified as a dwarf planet. It resides in the Kuiper Belt.\n",
            "- **Eris, Haumea, and Makemake**: Other examples of dwarf planets in our solar system.\n",
            "\n",
            "### Characteristics\n",
            "- **Orbit**: Planets orbit their star in elliptical paths.\n",
            "- **Rotation**: Planets rotate on their axes, which gives them day and night cycles.\n",
            "- **Atmosphere**: Some planets have thick atmospheres (like Venus), while others have thin or no atmospheres (like Mercury).\n",
            "- **Moons**: Many planets have moons, which are natural satellites that orbit them.\n",
            "\n",
            "### Formation\n",
            "- Planets form from the accretion of dust and gas in a protoplanetary disk around a young star. Over time, these materials coalesce to form larger bodies, eventually leading to the formation of planets.\n",
            "\n",
            "### Exploration\n",
            "- Many missions have been sent to explore planets, from flybys to orbiters and landers. For example, the Mars rovers and the Voyager missions have provided valuable data about our solar system.\n",
            "\n",
            "### Beyond Our Solar System\n",
            "- **Exoplanets**: Planets that orbit stars outside our solar system. Thousands have been discovered, and many are being studied for potential habitability.\n",
            "\n",
            "Feel free to ask if you have more specific questions about any planet or aspect of planetary science!\n",
            "The largest planet in our solar system is **Jupiter**. Here are some key facts about Jupiter:\n",
            "\n",
            "### Size and Mass\n",
            "- **Diameter**: Jupiter has a diameter of about 142,984 kilometers (88,846 miles), making it more than 11 times wider than Earth.\n",
            "- **Mass**: It has a mass 318 times that of Earth, which is about 1.9 x 10^27 kilograms.\n",
            "\n",
            "### Composition\n",
            "- **Atmosphere**: Jupiter's atmosphere is composed mostly of hydrogen (about 90%) and helium (about 10%), with trace amounts of other gases.\n",
            "- **Cloud Layers**: The planet has a complex system of cloud layers, with bands of different colors and compositions.\n",
            "\n",
            "### Notable Features\n",
            "- **Great Red Spot**: This is a giant storm larger than Earth that has been raging for at least 350 years.\n",
            "- **Magnetic Field**: Jupiter has the strongest magnetic field of any planet in the solar system, generated by its metallic hydrogen interior.\n",
            "- **Moons**: Jupiter has 79 known moons, including the largest moon in the solar system, Ganymede, which is even bigger than Mercury.\n",
            "\n",
            "### Exploration\n",
            "- **Voyager 1 and 2**: These spacecraft provided the first close-up images of Jupiter and its moons in the late 1970s.\n",
            "- **Galileo**: NASA's Galileo mission orbited Jupiter from 1995 to 2003, providing detailed information about the planet and its moons.\n",
            "- **Juno**: NASA's Juno mission, launched in 2011, has been studying Jupiter's atmosphere, magnetic field, and interior since 2016.\n",
            "\n",
            "Jupiter's immense size and unique characteristics make it one of the most fascinating objects in our solar system.\n",
            "Jupiter's size is significantly larger than Earth's in several ways:\n",
            "\n",
            "### Diameter\n",
            "- **Jupiter**: Approximately 142,984 kilometers (88,846 miles) in diameter.\n",
            "- **Earth**: Approximately 12,742 kilometers (7,918 miles) in diameter.\n",
            "- **Comparison**: Jupiter's diameter is about 11 times larger than Earth's.\n",
            "\n",
            "### Volume\n",
            "- **Jupiter**: The volume of Jupiter is about 1,321 times that of Earth.\n",
            "- **Earth**: The volume of Earth is the reference point.\n",
            "- **Comparison**: Jupiter's volume is vastly larger, reflecting its much greater size.\n",
            "\n",
            "### Mass\n",
            "- **Jupiter**: About 318 times the mass of Earth.\n",
            "- **Earth**: The mass of Earth is the reference point.\n",
            "- **Comparison**: Jupiter's mass is much greater, contributing to its strong gravitational pull.\n",
            "\n",
            "### Surface Area\n",
            "- **Jupiter**: The surface area of Jupiter is about 120 times that of Earth.\n",
            "- **Earth**: The surface area of Earth is the reference point.\n",
            "- **Comparison**: Jupiter's surface area is significantly larger, covering a much greater area.\n",
            "\n",
            "### Density\n",
            "- **Jupiter**: Jupiter has a much lower average density than Earth because it is composed mostly of gases.\n",
            "- **Earth**: Earth has a much higher density due to its rocky composition.\n",
            "- **Comparison**: Despite its larger mass, Jupiter's density is only about one-fourth that of Earth.\n",
            "\n",
            "### Gravitational Force\n",
            "- **Jupiter**: Jupiter's gravity is about 24.79 m/s\u00b2, which is 2.528 times stronger than Earth's gravity (9.81 m/s\u00b2).\n",
            "- **Earth**: Earth's gravity is the reference point.\n",
            "- **Comparison**: Objects would weigh more on Jupiter than on Earth due to its stronger gravitational pull.\n",
            "\n",
            "In summary, Jupiter's size is much larger than Earth's in terms of diameter, volume, mass, and surface area, while its density and gravitational force are also significantly different.\n"
          ]
        }
      ],
      "source": [
        "prompt = ChatPromptTemplate.from_messages(\n",
        "    [\n",
        "        MessagesPlaceholder(variable_name=\"history\"),\n",
        "        (\"human\", \"{question}\"),\n",
        "    ]\n",
        ")\n",
        "\n",
        "chain = prompt | llm\n",
        "\n",
        "conversation = RunnableWithMessageHistory(\n",
        "    chain,\n",
        "    get_by_session_id,\n",
        "    input_messages_key=\"question\",\n",
        "    history_messages_key=\"history\",\n",
        ")\n",
        "\n",
        "print(\n",
        "    conversation.invoke(\n",
        "        input={\n",
        "            \"question\": \"Hi, I'm learning about space. Can you tell me about planets?\"\n",
        "        },\n",
        "        config={\"configurable\": {\"session_id\": \"foo\"}},\n",
        "    ).content\n",
        ")\n",
        "print(\n",
        "    conversation.invoke(\n",
        "        input={\"question\": \"What's the largest planet in our solar system?\"},\n",
        "        config={\"configurable\": {\"session_id\": \"foo\"}},\n",
        "    ).content\n",
        ")\n",
        "print(\n",
        "    conversation.invoke(\n",
        "        input={\"question\": \"How does its size compare to Earth?\"},\n",
        "        config={\"configurable\": {\"session_id\": \"foo\"}},\n",
        "    ).content\n",
        ")"
      ]
    },
    {
      "cell_type": "markdown",
      "metadata": {},
      "source": [
        "Let's compare how single-turn and multi-turn prompts handle a series of related questions:"
      ]
    },
    {
      "cell_type": "code",
      "execution_count": 6,
      "metadata": {},
      "outputs": [
        {
          "name": "stdout",
          "output_type": "stream",
          "text": [
            "Single-turn responses:\n",
            "Q: What is the capital of France?\n",
            "A: The capital of France is Paris. Paris is not only the capital but also the largest city in France, known for its rich history, culture, and significant contributions to art, fashion, and cuisine. It is home to iconic landmarks such as the Eiffel Tower, the Louvre Museum, and Notre-Dame Cathedral. Paris is a major global city and a popular tourist destination, attracting millions of visitors each year.\n",
            "\n",
            "Q: What is its population?\n",
            "A: To provide an accurate answer regarding the population of a specific location, I need more context about which place you are referring to. Populations can vary greatly depending on whether you are talking about a country, city, town, or any other geographic area. Here are a few examples:\n",
            "\n",
            "1. **Country**: \n",
            "   - **United States**: As of 2023, the population is approximately 333 million.\n",
            "   - **China**: As of 2023, the population is approximately 1.4 billion.\n",
            "   - **India**: As of 2023, the population is approximately 1.4 billion.\n",
            "\n",
            "2. **City**:\n",
            "   - **New York City, USA**: As of 2023, the population is approximately 8.4 million.\n",
            "   - **Tokyo, Japan**: As of 2023, the population of the Greater Tokyo Area is approximately 37 million.\n",
            "   - **Lagos, Nigeria**: As of 2023, the population is approximately 21 million.\n",
            "\n",
            "3. **Town**:\n",
            "   - **Smaller towns** can vary widely. For example, the population of a small town like Smithville in the USA might be around 5,000 to 10,000 people.\n",
            "\n",
            "If you can specify the exact location you are interested in, I can provide a more precise population figure.\n",
            "\n",
            "Q: What is the city's most famous landmark?\n",
            "A: The most famous landmark in a city can vary widely depending on the city in question. Here are a few examples of some of the world's most renowned landmarks:\n",
            "\n",
            "1. **New York City, USA** - Statue of Liberty\n",
            "2. **Paris, France** - Eiffel Tower\n",
            "3. **Rome, Italy** - Colosseum\n",
            "4. **London, UK** - Big Ben (Elizabeth Tower) and the Houses of Parliament\n",
            "5. **Sydney, Australia** - Sydney Opera House\n",
            "6. **Beijing, China** - The Great Wall of China\n",
            "7. **Cairo, Egypt** - Pyramids of Giza\n",
            "8. **Barcelona, Spain** - La Sagrada Familia\n",
            "9. **Tokyo, Japan** - Tokyo Skytree\n",
            "10. **Rio de Janeiro, Brazil** - Christ the Redeemer\n",
            "\n",
            "If you specify the city you're interested in, I can provide more precise information about its most famous landmark.\n",
            "\n",
            "Multi-turn responses:\n",
            "Q: What is the capital of France?\n",
            "A: The capital of France is Paris. Paris is not only the capital but also the largest city in France, known for its rich history, culture, and landmarks. It is situated in the northern central part of the country, along the Seine River. Paris is famous for its iconic architecture, such as the Eiffel Tower, Notre-Dame Cathedral, and the Louvre Museum, which houses thousands of works of art, including the Mona Lisa. The city is also renowned for its contributions to art, fashion, cuisine, and philosophy. It serves as a major global center for business, diplomacy, and education.\n",
            "\n",
            "Q: What is its population?\n",
            "A: As of the most recent estimates, the population of Paris, the capital of France, is approximately 2.1 million people within the city limits. However, when considering the entire Paris metropolitan area, often referred to as the \"\u00cele-de-France\" region, the population is significantly larger, exceeding 12 million people. This makes the Paris metropolitan area one of the most populous in Europe. The city's population has been relatively stable over the past few decades, with growth primarily occurring in the surrounding suburbs.\n",
            "\n",
            "Q: What is the city's most famous landmark?\n",
            "A: The most famous landmark of Paris is the Eiffel Tower (La Tour Eiffel). Completed in 1889 for the Exposition Universelle (World's Fair), it was initially criticized by some of France's leading artists and intellectuals for its design but has since become a global cultural icon of France and one of the most recognizable structures in the world. Standing at 324 meters (1,063 feet) tall, including its antenna, the Eiffel Tower is located on the Champ de Mars in the 7th arrondissement of Paris. It attracts millions of visitors each year, offering panoramic views of the city from its observation decks. The tower is not only a symbol of Paris but also a testament to the engineering prowess of the late 19th century.\n",
            "\n"
          ]
        }
      ],
      "source": [
        "# Single-turn prompts\n",
        "prompts = [\n",
        "    \"What is the capital of France?\",\n",
        "    \"What is its population?\",\n",
        "    \"What is the city's most famous landmark?\",\n",
        "]\n",
        "\n",
        "print(\"Single-turn responses:\")\n",
        "for prompt in prompts:\n",
        "    print(f\"Q: {prompt}\")\n",
        "    print(f\"A: {llm.invoke(prompt).content}\\n\")\n",
        "\n",
        "# Multi-turn prompts\n",
        "print(\"Multi-turn responses:\")\n",
        "for prompt in prompts:\n",
        "    print(f\"Q: {prompt}\")\n",
        "    response = conversation.invoke(\n",
        "        input={\"question\": prompt}, config={\"configurable\": {\"session_id\": \"bar\"}}\n",
        "    ).content\n",
        "    print(f\"A: {response}\\n\")"
      ]
    }
  ],
  "metadata": {
    "kernelspec": {
      "display_name": ".venv",
      "language": "python",
      "name": "python3"
    },
    "language_info": {
      "codemirror_mode": {
        "name": "ipython",
        "version": 3
      },
      "file_extension": ".py",
      "mimetype": "text/x-python",
      "name": "python",
      "nbconvert_exporter": "python",
      "pygments_lexer": "ipython3",
      "version": "3.11.10"
    }
  },
  "nbformat": 4,
  "nbformat_minor": 4
}
