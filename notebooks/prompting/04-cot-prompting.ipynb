{
  "cells": [
    {
      "cell_type": "markdown",
      "metadata": {},
      "source": [
        "# Chain of Thought (CoT) Prompting Tutorial\n",
        "\n",
        "## Overview\n",
        "\n",
        "This tutorial delves into Chain of Thought (CoT) prompting, an advanced technique in prompt engineering that guides AI models to dissect complex problems into detailed, step-by-step reasoning processes. We'll explore the implementation of CoT prompting using Amazon Nova via OpenRouter and LangChain.\n",
        "\n",
        "## Motivation\n",
        "\n",
        "With the rapid advancement of AI language models, there's a growing demand for outputs that are more transparent, logical, and verifiable. CoT prompting addresses this need by encouraging models to articulate their thought process, similar to how humans tackle complex problems. This approach not only enhances the accuracy of AI-generated responses but also increases their interpretability and reliability.\n",
        "\n",
        "## Key Components\n",
        "\n",
        "1. **CoT Prompting Fundamentals**: Introduction to the core concepts and basic implementation.\n",
        "2. **Advanced CoT Strategies**: Exploration of more sophisticated CoT methodologies.\n",
        "3. **Comparative Study**: Analysis of the distinctions between traditional and CoT prompting techniques.\n",
        "4. **Practical Applications**: Utilizing CoT for a variety of complex problem-solving scenarios."
      ]
    },
    {
      "cell_type": "markdown",
      "metadata": {},
      "source": [
        "## Setup\n",
        "\n",
        "Let's start by importing the necessary libraries and setting up our environment."
      ]
    },
    {
      "cell_type": "code",
      "execution_count": 1,
      "metadata": {},
      "outputs": [],
      "source": [
        "from os import getenv\n",
        "\n",
        "from dotenv import load_dotenv\n",
        "from langchain.prompts import PromptTemplate\n",
        "from langchain_core.runnables import RunnablePassthrough\n",
        "from langchain_openai import ChatOpenAI\n",
        "\n",
        "load_dotenv()\n",
        "\n",
        "# Initialize the language model\n",
        "llm = ChatOpenAI(\n",
        "    openai_api_key=getenv(\"OPENROUTER_API_KEY\"),\n",
        "    openai_api_base=getenv(\"OPENROUTER_BASE_URL\"),\n",
        "    model_name=\"bedrock/nova-lite-v1\",\n",
        ")"
      ]
    },
    {
      "cell_type": "markdown",
      "metadata": {},
      "source": [
        "## Basic Chain of Thought Prompting\n",
        "\n",
        "Let's start with a simple example to demonstrate the difference between a standard prompt and a Chain of Thought prompt."
      ]
    },
    {
      "cell_type": "code",
      "execution_count": 2,
      "metadata": {},
      "outputs": [
        {
          "name": "stdout",
          "output_type": "stream",
          "text": [
            "Standard Response:\n",
            "60 km/h\n",
            "\n",
            "\n",
            "Chain of Thought Response:\n",
            "1. **Formula:** Average speed = Total distance / Total time\n",
            "\n",
            "2. **Substitute:** Average speed = 120 km / 2 hours\n",
            "\n",
            "3. **Calculate:** Average speed = 60 km/h\n",
            "\n"
          ]
        }
      ],
      "source": [
        "# Standard prompt\n",
        "standard_prompt = PromptTemplate(\n",
        "    input_variables=[\"question\"],\n",
        "    template=\"Answer the following question conciesly: {question}.\",\n",
        ")\n",
        "\n",
        "# Chain of Thought prompt\n",
        "cot_prompt = PromptTemplate(\n",
        "    input_variables=[\"question\"],\n",
        "    template=\"Answer the following question step by step conciesly: {question}\",\n",
        ")\n",
        "\n",
        "# Create chains\n",
        "standard_chain = standard_prompt | llm\n",
        "cot_chain = cot_prompt | llm\n",
        "\n",
        "# Example question\n",
        "question = \"If a train travels 120 km in 2 hours, what is its average speed in km/h?\"\n",
        "\n",
        "# Get responses\n",
        "standard_response = standard_chain.invoke(question).content\n",
        "cot_response = cot_chain.invoke(question).content\n",
        "\n",
        "print(\"Standard Response:\")\n",
        "print(standard_response)\n",
        "print(\"\\nChain of Thought Response:\")\n",
        "print(cot_response)"
      ]
    },
    {
      "cell_type": "markdown",
      "metadata": {},
      "source": [
        "## Advanced Chain of Thought Techniques\n",
        "\n",
        "Now, let's explore a more advanced CoT technique that encourages multi-step reasoning."
      ]
    },
    {
      "cell_type": "code",
      "execution_count": 3,
      "metadata": {},
      "outputs": [
        {
          "name": "stdout",
          "output_type": "stream",
          "text": [
            "**Step 1: Calculate the time taken for the first part of the journey.**\n",
            "\n",
            "1. **What we're calculating:** The time taken to travel the first 150 km.\n",
            "2. **Formula:** Time = Distance / Speed\n",
            "3. **Calculation:** Time1 = 150 km / 60 km/h = 2.5 hours\n",
            "4. **Explanation:** It took 2.5 hours to travel the first 150 kilometers at a speed of 60 km/h.\n",
            "\n",
            "\n",
            "**Step 2: Calculate the time taken for the second part of the journey.**\n",
            "\n",
            "1. **What we're calculating:** The time taken to travel the second 100 km.\n",
            "2. **Formula:** Time = Distance / Speed\n",
            "3. **Calculation:** Time2 = 100 km / 50 km/h = 2 hours\n",
            "4. **Explanation:** It took 2 hours to travel the second 100 kilometers at a speed of 50 km/h.\n",
            "\n",
            "\n",
            "**Step 3: Calculate the total distance of the journey.**\n",
            "\n",
            "1. **What we're calculating:** The total distance traveled.\n",
            "2. **Calculation:** Total Distance = 150 km + 100 km = 250 km\n",
            "4. **Explanation:** The car traveled a total of 250 kilometers.\n",
            "\n",
            "\n",
            "**Step 4: Calculate the total time taken for the journey.**\n",
            "\n",
            "1. **What we're calculating:** The total time spent traveling.\n",
            "2. **Calculation:** Total Time = Time1 + Time2 = 2.5 hours + 2 hours = 4.5 hours\n",
            "4. **Explanation:** The entire journey took 4.5 hours.\n",
            "\n",
            "\n",
            "**Step 5: Calculate the average speed for the entire journey.**\n",
            "\n",
            "1. **What we're calculating:** The average speed.\n",
            "2. **Formula:** Average Speed = Total Distance / Total Time\n",
            "3. **Calculation:** Average Speed = 250 km / 4.5 hours \u2248 55.56 km/h\n",
            "4. **Explanation:** The average speed for the entire journey was approximately 55.56 km/h.  This means that if the car had traveled at a constant speed of 55.56 km/h for the entire 250km, it would have taken the same amount of time (4.5 hours).\n",
            "\n"
          ]
        }
      ],
      "source": [
        "advanced_cot_prompt = PromptTemplate(\n",
        "    input_variables=[\"question\"],\n",
        "    template=\"\"\"Solve the following problem step by step. For each step:\n",
        "1. State what you're going to calculate\n",
        "2. Write the formula you'll use (if applicable)\n",
        "3. Perform the calculation\n",
        "4. Explain the result\n",
        "\n",
        "Question: {question}\n",
        "\n",
        "Solution:\"\"\",\n",
        ")\n",
        "\n",
        "advanced_cot_chain = advanced_cot_prompt | llm\n",
        "\n",
        "complex_question = \"A car travels 150 km at 60 km/h, then another 100 km at 50 km/h. What is the average speed for the entire journey?\"\n",
        "\n",
        "advanced_cot_response = advanced_cot_chain.invoke(complex_question).content\n",
        "print(advanced_cot_response)"
      ]
    },
    {
      "cell_type": "markdown",
      "metadata": {},
      "source": [
        "## Auto Chain of Thought Techniques\n",
        "\n",
        "Now, let's explore a technique that automatically generates CoT prompts."
      ]
    },
    {
      "cell_type": "code",
      "execution_count": 4,
      "metadata": {},
      "outputs": [
        {
          "name": "stdout",
          "output_type": "stream",
          "text": [
            "Okay, here's a chain-of-thought prompt designed to guide a language model through solving the average speed problem step-by-step:\n",
            "\n",
            "**Prompt:**\n",
            "\n",
            "\"Let's solve this problem about average speed step-by-step. First, we need to break down the journey into individual segments.\n",
            "\n",
            "1.  **Segment 1:** The car travels 150 km at 60 km/h. Calculate the time taken for this segment. Remember the relationship between distance, speed, and time.\n",
            "2.  **Segment 2:** The car travels 100 km at 50 km/h. Calculate the time taken for this segment, using the same relationship as before.\n",
            "3.  **Total Distance:** Now, calculate the total distance traveled by the car over the entire journey.\n",
            "4.  **Total Time:** Next, calculate the total time taken for the entire journey by combining the times from Segment 1 and Segment 2.\n",
            "5.  **Average Speed:** Finally, calculate the average speed for the entire journey. Remember, average speed is the total distance divided by the total time.\n",
            "6.  **State the Final Answer:** Provide the final answer for the average speed, including the units.\n",
            "\n",
            "By following these steps, carefully calculate each value needed to arrive at the final answer.\"\n",
            "\n"
          ]
        }
      ],
      "source": [
        "reasoning_llm = ChatOpenAI(\n",
        "    openai_api_key=getenv(\"OPENROUTER_API_KEY\"),\n",
        "    openai_api_base=getenv(\"OPENROUTER_BASE_URL\"),\n",
        "    model_name=\"google/gemini-2.0-flash-exp:free\",\n",
        ")\n",
        "\n",
        "auto_cot_prompt = PromptTemplate(\n",
        "    input_variables=[\"question\"],\n",
        "    template=\"\"\"\n",
        "Generate a general chain of thought prompt to solve the following question.\n",
        "Please do not attempt to solve the question yourself.\n",
        "Instead, generate a prompt that will help a language model to solve the question step by step.\n",
        "\n",
        "Question: {question}\n",
        "\n",
        "Chain of thought prompt:\"\"\",\n",
        ")\n",
        "\n",
        "auto_cot_chain = auto_cot_prompt | reasoning_llm\n",
        "\n",
        "complex_question = \"A car travels 150 km at 60 km/h, then another 100 km at 50 km/h. What is the average speed for the entire journey?\"\n",
        "\n",
        "auto_cot_response = auto_cot_chain.invoke(complex_question).content\n",
        "print(auto_cot_response)"
      ]
    },
    {
      "cell_type": "code",
      "execution_count": 5,
      "metadata": {},
      "outputs": [
        {
          "name": "stdout",
          "output_type": "stream",
          "text": [
            "Here's a solution following the steps outlined in the prompt:\n",
            "\n",
            "**Step 1: Calculate the time taken for the first part of the journey.**\n",
            "\n",
            "Time = Distance / Speed = 150 km / 60 km/h = 2.5 hours\n",
            "\n",
            "**Step 2: Calculate the time taken for the second part of the journey.**\n",
            "\n",
            "Time = Distance / Speed = 100 km / 50 km/h = 2 hours\n",
            "\n",
            "**Step 3: Calculate the total distance traveled.**\n",
            "\n",
            "Total distance = 150 km + 100 km = 250 km\n",
            "\n",
            "**Step 4: Calculate the total time taken.**\n",
            "\n",
            "Total time = 2.5 hours + 2 hours = 4.5 hours\n",
            "\n",
            "**Step 5: Calculate the average speed.**\n",
            "\n",
            "Average speed = Total distance / Total time = 250 km / 4.5 hours = 55.56 km/h (approximately)\n",
            "\n",
            "Therefore, the average speed for the entire journey is approximately **55.56 km/h**.\n",
            "\n"
          ]
        }
      ],
      "source": [
        "# 1. Keep existing auto_cot_chain\n",
        "auto_cot_prompt = PromptTemplate(\n",
        "    input_variables=[\"question\"],\n",
        "    template=\"\"\"Generate a general chain of thought prompt to solve the following question.\n",
        "Please do not attempt to solve the question yourself.\n",
        "Instead, generate a prompt that will help a language model to solve the question step by step.\n",
        "Question: {question}\n",
        "Chain of thought prompt:\"\"\",\n",
        ")\n",
        "auto_cot_chain = auto_cot_prompt | reasoning_llm\n",
        "\n",
        "# 2. Modify advanced prompt to include generated CoT\n",
        "advanced_cot_prompt = PromptTemplate(\n",
        "    input_variables=[\"generated_cot\", \"question\"],\n",
        "    template=\"\"\"\n",
        "{generated_cot}\n",
        "Question: {question}\n",
        "Solution:\"\"\",\n",
        ")\n",
        "\n",
        "# 3. Create chained implementation\n",
        "advanced_cot_chain = (\n",
        "    RunnablePassthrough.assign(generated_cot=auto_cot_chain) | advanced_cot_prompt | llm\n",
        ")\n",
        "\n",
        "# 4. Invoke together\n",
        "complex_question = \"A car travels 150 km at 60 km/h, then another 100 km at 50 km/h. What is the average speed for the entire journey?\"\n",
        "response = advanced_cot_chain.invoke({\"question\": complex_question})\n",
        "print(response.content)"
      ]
    },
    {
      "cell_type": "markdown",
      "metadata": {},
      "source": [
        "## Comparative Analysis\n",
        "\n",
        "Let's compare the effectiveness of standard prompting vs. CoT prompting on a more challenging problem."
      ]
    },
    {
      "cell_type": "code",
      "execution_count": 7,
      "metadata": {},
      "outputs": [
        {
          "name": "stdout",
          "output_type": "stream",
          "text": [
            "Standard Response:\n",
            "1 hour and 26 minutes\n",
            "\n",
            "\n",
            "Chain of Thought Response:\n",
            "**1. Calculate the total volume of the cylindrical tank:**\n",
            "\n",
            "* V = \u03c0r2h = 3.14159 * (1.5 m)2 * 4 m = 28.27431 cubic meters\n",
            "\n",
            "**2. Calculate the current volume of water in the tank:**\n",
            "\n",
            "* Current volume = (2/3) * 28.27431 cubic meters = 18.84954 cubic meters\n",
            "\n",
            "**3. Calculate the remaining volume needed to fill the tank:**\n",
            "\n",
            "* Remaining volume = 28.27431 cubic meters - 18.84954 cubic meters = 9.42477 cubic meters\n",
            "\n",
            "**4. Convert the remaining volume to liters:**\n",
            "\n",
            "* Remaining volume = 9.42477 cubic meters * 1000 liters/cubic meter = 9424.77 liters\n",
            "\n",
            "**5. Calculate the time to fill the remaining volume in minutes:**\n",
            "\n",
            "* Time = 9424.77 liters / 10 liters/minute = 942.477 minutes\n",
            "\n",
            "**6. Convert the time to hours and minutes:**\n",
            "\n",
            "* Hours = 942 minutes / 60 minutes/hour = 15.7078 hours\n",
            "* Minutes = 0.7078 hours * 60 minutes/hour \u2248 42 minutes\n",
            "\n",
            "**7. State your final answer:**\n",
            "\n",
            "15 hours and 42 minutes\n",
            "\n"
          ]
        }
      ],
      "source": [
        "challenging_question = \"\"\"\n",
        "A cylindrical water tank with a radius of 1.5 meters and a height of 4 meters is 2/3 full. \n",
        "If water is being added at a rate of 10 liters per minute, how long will it take for the tank to overflow? \n",
        "Give your answer in hours and minutes, rounded to the nearest minute. \n",
        "(Use 3.14159 for \u03c0 and 1000 liters = 1 cubic meter)\"\"\"\n",
        "\n",
        "standard_response = standard_chain.invoke(challenging_question).content\n",
        "cot_response = advanced_cot_chain.invoke({\"question\": challenging_question}).content\n",
        "\n",
        "print(\"Standard Response:\")\n",
        "print(standard_response)\n",
        "print(\"\\nChain of Thought Response:\")\n",
        "print(cot_response)"
      ]
    }
  ],
  "metadata": {
    "kernelspec": {
      "display_name": ".venv",
      "language": "python",
      "name": "python3"
    },
    "language_info": {
      "codemirror_mode": {
        "name": "ipython",
        "version": 3
      },
      "file_extension": ".py",
      "mimetype": "text/x-python",
      "name": "python",
      "nbconvert_exporter": "python",
      "pygments_lexer": "ipython3",
      "version": "3.11.10"
    }
  },
  "nbformat": 4,
  "nbformat_minor": 4
}
