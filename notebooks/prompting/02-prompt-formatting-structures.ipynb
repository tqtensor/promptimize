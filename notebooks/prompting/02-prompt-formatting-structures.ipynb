{
  "cells": [
    {
      "cell_type": "markdown",
      "metadata": {},
      "source": [
        "# Prompt Formatting and Structure Tutorial\n",
        "\n",
        "## Overview\n",
        "\n",
        "This tutorial delves into various prompt formats and structural elements used in prompt engineering, showcasing their influence on AI model outputs. We'll utilize Amazon Nova via OpenRouter and LangChain to experiment with different prompt structures and evaluate their effectiveness.\n",
        "\n",
        "## Motivation\n",
        "\n",
        "Mastering the art of prompt formatting and structuring is essential for effective interaction with AI models. Well-crafted prompts can dramatically enhance the quality, relevance, and consistency of AI-generated responses. This tutorial aims to offer practical insights into designing prompts that yield desired outcomes across a range of applications.\n",
        "\n",
        "## Key Components\n",
        "\n",
        "1. Exploring diverse prompt formats (Q&A, dialogue, instructions).\n",
        "2. Examining structural elements (headings, bullet points, numbered lists).\n",
        "3. Evaluating and comparing prompt effectiveness.\n",
        "4. Identifying best practices for prompt formatting."
      ]
    },
    {
      "cell_type": "markdown",
      "metadata": {},
      "source": [
        "## Setup\n",
        "\n",
        "First, let's import the necessary libraries and set up our environment."
      ]
    },
    {
      "cell_type": "code",
      "execution_count": 1,
      "metadata": {},
      "outputs": [],
      "source": [
        "from os import getenv\n",
        "\n",
        "from dotenv import load_dotenv\n",
        "from langchain_openai import ChatOpenAI\n",
        "\n",
        "load_dotenv()\n",
        "\n",
        "# Initialize the language model\n",
        "llm = ChatOpenAI(\n",
        "    openai_api_key=getenv(\"OPENROUTER_API_KEY\"),\n",
        "    openai_api_base=getenv(\"OPENROUTER_BASE_URL\"),\n",
        "    model_name=\"bedrock/nova-lite-v1\",\n",
        ")"
      ]
    },
    {
      "cell_type": "code",
      "execution_count": 2,
      "metadata": {},
      "outputs": [],
      "source": [
        "def get_response(prompt: str, output: bool = False):\n",
        "    \"\"\"Helper function to get model response and print it.\"\"\"\n",
        "\n",
        "    response = llm.invoke(prompt).content\n",
        "    print(response)\n",
        "    print(\"-\" * 50)\n",
        "\n",
        "    if output:\n",
        "        return response"
      ]
    },
    {
      "cell_type": "markdown",
      "metadata": {},
      "source": [
        "## Exploring Different Prompt Formats\n",
        "\n",
        "Let's explore various prompt formats using the topic of photosynthesis as our consistent theme."
      ]
    },
    {
      "cell_type": "markdown",
      "metadata": {},
      "source": [
        "### 1. Question and Answer (Q&A) Format"
      ]
    },
    {
      "cell_type": "code",
      "execution_count": 3,
      "metadata": {},
      "outputs": [
        {
          "name": "stdout",
          "output_type": "stream",
          "text": [
            "Pha c\u00e0 ph\u00ea s\u1eefa \u0111\u00e1 l\u00e0 m\u1ed9t c\u00e1ch pha ch\u1ebf \u0111\u1ed3 u\u1ed1ng ph\u1ed5 bi\u1ebfn, k\u1ebft h\u1ee3p gi\u1eefa c\u00e0 ph\u00ea \u0111\u1eadm \u0111\u00e0 v\u00e0 s\u1eefa d\u1ecbu d\u00e0ng, k\u00e8m theo \u0111\u00e1 \u0111\u1ec3 l\u00e0m m\u01b0\u1ee3t m\u00e0 v\u00e0 m\u00e1t l\u1ea1nh. D\u01b0\u1edbi \u0111\u00e2y l\u00e0 m\u1ed9t c\u00e1ch chi ti\u1ebft \u0111\u1ec3 pha ch\u1ebf c\u00e0 ph\u00ea s\u1eefa \u0111\u00e1:\n",
            "\n",
            "### Nguy\u00ean li\u1ec7u c\u1ea7n thi\u1ebft:\n",
            "- 1-2 th\u00eca c\u00e0 ph\u00ea pha (t\u00f9y theo s\u1edf th\u00edch)\n",
            "- 120-180 ml n\u01b0\u1edbc (t\u00f9y theo s\u1ed1 l\u01b0\u1ee3ng c\u00e0 ph\u00ea mu\u1ed1n u\u1ed1ng)\n",
            "- 60-90 ml s\u1eefa (t\u00f9y theo s\u1edf th\u00edch, c\u00f3 th\u1ec3 thay \u0111\u1ed5i t\u1ef7 l\u1ec7 c\u00e0 ph\u00ea v\u00e0 s\u1eefa)\n",
            "- \u0110\u00e1 \u0111\u00e1 kh\u00f4\n",
            "- \u0110\u01b0\u1eddng (t\u00f9y s\u1edf th\u00edch)\n",
            "\n",
            "### C\u00f4ng c\u1ee5 c\u1ea7n thi\u1ebft:\n",
            "- M\u00e1y pha c\u00e0 ph\u00ea (ho\u1eb7c phi\u00ean b\u1ea3n tay c\u1ea7m nh\u01b0 Phin ho\u1eb7c French Press)\n",
            "- \u1ebep c\u00e0 ph\u00ea\n",
            "- Ly ho\u1eb7c c\u1ed1c \u0111\u1ec3 u\u1ed1ng\n",
            "- Mu\u1ed7ng \u0111\u1ec3 khu\u1ea5y\n",
            "\n",
            "### B\u01b0\u1edbc pha ch\u1ebf:\n",
            "\n",
            "1. **Chu\u1ea9n b\u1ecb c\u00e0 ph\u00ea:**\n",
            "   - N\u1ebfu b\u1ea1n d\u00f9ng m\u00e1y pha c\u00e0 ph\u00ea, \u0111\u1eb7t l\u01b0\u1ee3ng c\u00e0 ph\u00ea v\u00e0o \u1ebfp c\u00e0 ph\u00ea v\u00e0 b\u1eaft \u0111\u1ea7u pha c\u00e0 ph\u00ea theo h\u01b0\u1edbng d\u1eabn c\u1ee7a m\u00e1y.\n",
            "   - N\u1ebfu b\u1ea1n d\u00f9ng Phin ho\u1eb7c French Press, \u0111\u1eb7t c\u00e0 ph\u00ea v\u00e0o b\u1ed9 l\u1ecdc, th\u00eam n\u01b0\u1edbc n\u00f3ng (kho\u1ea3ng 90-95\u00b0C) v\u00e0 \u0111\u1ec3 ng\u00e2m trong kho\u1ea3ng 4 ph\u00fat. Sau \u0111\u00f3, nh\u1ea5n ch\u1eadm r\u00e3 \u0111\u1ec3 l\u1ea5y c\u00e0 ph\u00ea.\n",
            "\n",
            "2. **Chu\u1ea9n b\u1ecb s\u1eefa:**\n",
            "   - \u0110un s\u1eefa n\u00f3ng (kh\u00f4ng \u0111un s\u00f4i) ho\u1eb7c s\u1eed d\u1ee5ng s\u1eefa t\u1eeb t\u1ee7 l\u1ea1nh. N\u1ebfu \u0111un s\u1eefa, \u0111\u1ec3 \u00fd kh\u00f4ng \u0111un qu\u00e1 n\u00f3ng \u0111\u1ec3 tr\u00e1nh l\u00e0m s\u1eefa b\u1ecb v\u1ecb \u0111\u1eafng.\n",
            "\n",
            "3. **Chu\u1ea9n b\u1ecb \u0111\u00e1:**\n",
            "   - L\u1ea5y m\u1ed9t s\u1ed1 vi\u00ean \u0111\u00e1 \u0111\u00e1 kh\u00f4 v\u00e0 \u0111\u1eb7t v\u00e0o ly ho\u1eb7c c\u1ed1c.\n",
            "\n",
            "4. **K\u1ebft h\u1ee3p:**\n",
            "   - \u0110\u1ed5 c\u00e0 ph\u00ea \u0111\u00e3 pha v\u00e0o ly ho\u1eb7c c\u1ed1c \u0111\u00e3 c\u00f3 \u0111\u00e1.\n",
            "   - Th\u00eam s\u1eefa \u0111\u00e3 \u0111un n\u00f3ng v\u00e0o c\u00e0 ph\u00ea. B\u1ea1n c\u00f3 th\u1ec3 \u0111\u1ed5 s\u1eefa l\u1ea1nh tr\u1ef1c ti\u1ebfp t\u1eeb t\u1ee7 l\u1ea1nh n\u1ebfu th\u00edch u\u1ed1ng ngu\u1ed9i h\u01a1n.\n",
            "   - Khu\u1ea5y \u0111\u1ec1u \u0111\u1ec3 c\u00e0 ph\u00ea v\u00e0 s\u1eefa k\u1ebft h\u1ee3p.\n",
            "\n",
            "5. **Th\u00eam \u0111\u01b0\u1eddng (t\u00f9y s\u1edf th\u00edch):**\n",
            "   - Th\u00eam \u0111\u01b0\u1eddng ho\u1eb7c c\u00e1c ch\u1ea5t l\u00e0m ng\u1ecdt kh\u00e1c v\u00e0o c\u00e0 ph\u00ea s\u1eefa \u0111\u00e1 v\u00e0 khu\u1ea5y \u0111\u1ec1u cho \u0111\u1ebfn khi tan ho\u00e0n to\u00e0n.\n",
            "\n",
            "6. **Th\u01b0\u1edfng th\u1ee9c:**\n",
            "   - U\u1ed1ng ngay l\u1eadp t\u1ee9c \u0111\u1ec3 t\u1eadn h\u01b0\u1edfng v\u1ecb ng\u1ecdt m\u01b0\u1ee3t c\u1ee7a c\u00e0 ph\u00ea s\u1eefa \u0111\u00e1.\n",
            "\n",
            "B\u1ea1n c\u00f3 th\u1ec3 t\u00f9y ch\u1ec9nh c\u00f4ng th\u1ee9c n\u00e0y b\u1eb1ng c\u00e1ch thay \u0111\u1ed5i l\u01b0\u1ee3ng c\u00e0 ph\u00ea, s\u1eefa, ho\u1eb7c \u0111\u01b0\u1eddng \u0111\u1ec3 ph\u00f9 h\u1ee3p v\u1edbi s\u1edf th\u00edch c\u00e1 nh\u00e2n c\u1ee7a m\u00ecnh. Ch\u00fac b\u1ea1n th\u01b0\u1edfng th\u1ee9c m\u1ed9t t\u00e1ch c\u00e0 ph\u00ea s\u1eefa \u0111\u00e1 tuy\u1ec7t v\u1eddi!\n",
            "--------------------------------------------------\n"
          ]
        }
      ],
      "source": [
        "qa_prompt = \"\"\"Q: C\u00e1ch pha c\u00e0 ph\u00ea s\u1eefa \u0111\u00e1?\n",
        "A:\"\"\"\n",
        "\n",
        "get_response(prompt=qa_prompt)"
      ]
    },
    {
      "cell_type": "markdown",
      "metadata": {},
      "source": [
        "### 2. Dialogue Format"
      ]
    },
    {
      "cell_type": "code",
      "execution_count": 4,
      "metadata": {},
      "outputs": [
        {
          "name": "stdout",
          "output_type": "stream",
          "text": [
            "\u0110\u1ec3 pha m\u1ed9t ly c\u00e0 ph\u00ea s\u1eefa \u0111\u00e1 ngon, b\u1ea1n c\u1ea7n l\u01b0u \u00fd m\u1ed9t s\u1ed1 b\u00ed quy\u1ebft sau:\n",
            "\n",
            "1. **Ch\u1ecdn \u0111\u00fang lo\u1ea1i c\u00e0 ph\u00ea**: S\u1eed d\u1ee5ng h\u1ea1t c\u00e0 ph\u00ea t\u01b0\u01a1i, \u01b0u ti\u00ean l\u00e0 lo\u1ea1i h\u1ea1t xay m\u1ecbn v\u1eeba ph\u1ea3i. C\u00e0 ph\u00ea \u0111\u00f3ng h\u1ed9p ho\u1eb7c h\u1ea1t nguy\u00ean vi\u00ean c\u0169ng c\u00f3 th\u1ec3 \u0111\u01b0\u1ee3c s\u1eed d\u1ee5ng nh\u01b0ng c\u1ea7n xay m\u1edbi.\n",
            "\n",
            "2. **Ch\u1ecdn \u0111\u00fang lo\u1ea1i s\u1eefa**: S\u1eefa t\u01b0\u01a1i t\u1ed1t nh\u1ea5t, nh\u01b0ng b\u1ea1n c\u0169ng c\u00f3 th\u1ec3 s\u1eed d\u1ee5ng s\u1eefa t\u01b0\u01a1i chua, s\u1eefa t\u01b0\u01a1i chua b\u00e9o, ho\u1eb7c s\u1eefa t\u1ed5ng h\u1ee3p \u00edt b\u00e9o. N\u1ebfu b\u1ea1n th\u00edch c\u00e0 ph\u00ea s\u1eefa \u0111\u1eb7c h\u01a1n, c\u00f3 th\u1ec3 th\u1eed s\u1eefa t\u01b0\u01a1i chua b\u00e9o.\n",
            "\n",
            "3. **T\u1ef7 l\u1ec7 c\u00e0 ph\u00ea v\u00e0 s\u1eefa**: Th\u00f4ng th\u01b0\u1eddng, t\u1ef7 l\u1ec7 pha c\u00e0 ph\u00ea s\u1eefa \u0111\u00e1 l\u00e0 1 ph\u1ea7n c\u00e0 ph\u00ea \u0111\u1eadm (espresso) cho 2-3 ph\u1ea7n s\u1eefa. V\u00ed d\u1ee5, 1 shot espresso (kho\u1ea3ng 30 ml) cho 180 ml s\u1eefa.\n",
            "\n",
            "4. **Ch\u1ebf bi\u1ebfn \u0111\u00fang c\u00e1ch**:\n",
            "   - **Ti\u1ebfn h\u00e0nh pha c\u00e0 ph\u00ea \u0111\u1eadm**: S\u1eed d\u1ee5ng m\u00e1y pha c\u00e0 ph\u00ea espresso \u0111\u1ec3 pha m\u1ed9t shot ho\u1eb7c hai shot c\u00e0 ph\u00ea \u0111\u1eadm.\n",
            "   - **\u0110un s\u1eefa**: \u0110un s\u1eefa n\u00f3ng b\u1eb1ng m\u00e1y h\u00fat s\u1eefa ho\u1eb7c s\u1eed d\u1ee5ng n\u1ed3i s\u1eefa \u0111\u1eb7c bi\u1ec7t. \u0110\u1ec3 \u0111un s\u1eefa \u0111\u1ec1u, tr\u00e1nh s\u1eefa b\u1ecdt qu\u00e1 d\u00e0y. N\u1ebfu kh\u00f4ng c\u00f3 m\u00e1y h\u00fat s\u1eefa, \u0111un s\u1eefa tr\u00ean b\u1ebfp v\u1edbi l\u1eeda v\u1eeba, khu\u1ea5y \u0111\u1ec1u \u0111\u1ec3 tr\u00e1nh ch\u00e1y.\n",
            "   - **T\u1ea1o s\u1eefa c\u00e0 ph\u00ea**: Tr\u1ed9n c\u00e0 ph\u00ea \u0111\u1eadm v\u00e0 s\u1eefa \u0111un n\u00f3ng l\u1ea1i v\u1edbi nhau. B\u1ea1n c\u00f3 th\u1ec3 t\u1ea1o ra hoa c\u00e0 ph\u00ea \u0111\u1eb9p b\u1eb1ng c\u00e1ch \u0111\u1ed5 s\u1eefa t\u1eeb cao \u0111\u1ed9 kho\u1ea3ng 10-15 cm v\u00e0o c\u00e0 ph\u00ea \u0111\u1eadm.\n",
            "\n",
            "5. **Chu\u1ea9n b\u1ecb \u0111\u00e1**: S\u1eed d\u1ee5ng \u0111\u00e1 \u0111\u00e1 \u0111\u01b0\u1eddng ho\u1eb7c \u0111\u00e1 \u0111\u00e1 kh\u00f4. \u0110\u1eb7t \u0111\u00e1 v\u00e0o ly tr\u01b0\u1edbc khi pha c\u00e0 ph\u00ea.\n",
            "\n",
            "6. **Tr\u1ed9n \u0111\u1ec1u**: \u0110\u1ed5 c\u00e0 ph\u00ea s\u1eefa v\u00e0o ly \u0111\u00e3 c\u00f3 \u0111\u00e1, tr\u1ed9n \u0111\u1ec1u \u0111\u1ec3 \u0111\u1ea3m b\u1ea3o m\u1ed7i ly \u0111\u1ec1u n\u1ed3ng.\n",
            "\n",
            "7. **Trang tr\u00ed (t\u00f9y ch\u1ecdn)**: B\u1ea1n c\u00f3 th\u1ec3 trang tr\u00ed b\u1eb1ng m\u1ed9t s\u1ed1 s\u1eefa \u0111\u00f3ng \u0111\u1eb7t tr\u00ean c\u00e0 ph\u00ea, ho\u1eb7c th\u00eam m\u1ed9t s\u1ed1 b\u1ed9t ca cao ho\u1eb7c cinnamon tr\u00ean \u0111\u1ec9nh.\n",
            "\n",
            "V\u1edbi nh\u1eefng b\u01b0\u1edbc n\u00e0y, b\u1ea1n s\u1ebd c\u00f3 m\u1ed9t t\u00e1ch c\u00e0 ph\u00ea s\u1eefa \u0111\u00e1 ngon v\u00e0 \u0111\u1eb9p m\u1eaft. Ch\u00fac b\u1ea1n may m\u1eafn!\n",
            "--------------------------------------------------\n"
          ]
        }
      ],
      "source": [
        "dialogue_prompt = \"\"\"Student: H\u00e3y ch\u1ec9 em c\u00e1ch pha c\u00e0 ph\u00ea s\u1eefa \u0111\u00e1?\n",
        "Teacher: Okay! c\u00e1ch pha c\u0169ng d\u1ec5 th\u00f4i ...\n",
        "Student: V\u1eady b\u00ed quy\u1ebft \u0111\u1ec3 pha m\u1ed9t ly c\u00e0 ph\u00ea s\u1eefa \u0111\u00e1 ngon l\u00e0 g\u00ec?\n",
        "Teacher:\"\"\"\n",
        "\n",
        "get_response(prompt=dialogue_prompt)"
      ]
    },
    {
      "cell_type": "markdown",
      "metadata": {},
      "source": [
        "### 3. Instruction Format"
      ]
    },
    {
      "cell_type": "code",
      "execution_count": 5,
      "metadata": {},
      "outputs": [
        {
          "name": "stdout",
          "output_type": "stream",
          "text": [
            "Pha c\u00e0 ph\u00ea s\u1eefa \u0111\u00e1 l\u00e0 m\u1ed9t th\u1ee9c u\u1ed1ng ph\u1ed5 bi\u1ebfn, \u0111\u1eb7c bi\u1ec7t l\u00e0 v\u00e0o nh\u1eefng ng\u00e0y n\u00f3ng ho\u1eb7c khi b\u1ea1n mu\u1ed1n c\u00f3 m\u1ed9t th\u1ee9c u\u1ed1ng l\u00e0m m\u00e1t. D\u01b0\u1edbi \u0111\u00e2y l\u00e0 c\u00e1ch pha c\u00e0 ph\u00ea s\u1eefa \u0111\u00e1 m\u1ed9t c\u00e1ch \u0111\u01a1n gi\u1ea3n, c\u00f9ng v\u1edbi c\u00e1c th\u00e0nh ph\u1ea7n ch\u00ednh v\u00e0 t\u1ea7m quan tr\u1ecdng c\u1ee7a ch\u00fang.\n",
            "\n",
            "### Th\u00e0nh ph\u1ea7n ch\u00ednh:\n",
            "1. **C\u00e0 ph\u00ea**: \u0110\u00e2y l\u00e0 n\u1ec1n t\u1ea3ng c\u1ee7a th\u1ee9c u\u1ed1ng. C\u00e0 ph\u00ea c\u00f3 th\u1ec3 l\u00e0 h\u1ea1t c\u00e0 ph\u00ea xay nhuy\u1ec5n ho\u1eb7c c\u00e0 ph\u00ea pha s\u1eb5n.\n",
            "2. **S\u1eefa**: S\u1eefa t\u01b0\u01a1i ho\u1eb7c s\u1eefa thay th\u1ebf (nh\u01b0 s\u1eefa t\u1ed5ng h\u1ee3p, s\u1eefa h\u1ea1t \u0111\u1eadu n\u00e0nh, s\u1eefa h\u1ea1t coconut, v.v.) \u0111\u1ec3 t\u1ea1o v\u1ecb ng\u1ecdt v\u00e0 k\u1ebft c\u1ea5u m\u1ecbn.\n",
            "3. **\u0110\u00e1**: \u0110\u00e1 \u0111\u1ec3 l\u00e0m m\u00e1t v\u00e0 l\u00e0m l\u1ecfng th\u1ee9c u\u1ed1ng.\n",
            "4. **\u0110\u01b0\u1eddng (t\u00f9y ch\u1ecdn)**: \u0110\u1ec3 t\u0103ng \u0111\u1ed9 ng\u1ecdt, nh\u01b0ng kh\u00f4ng b\u1eaft bu\u1ed9c n\u1ebfu b\u1ea1n th\u00edch c\u00e0 ph\u00ea \u00edt \u0111\u01b0\u1eddng ho\u1eb7c kh\u00f4ng \u0111\u01b0\u1eddng.\n",
            "\n",
            "### C\u00e1ch pha:\n",
            "1. **Chu\u1ea9n b\u1ecb c\u00e0 ph\u00ea**:\n",
            "   - **N\u1ebfu d\u00f9ng h\u1ea1t c\u00e0 ph\u00ea**: Xay m\u1ecbn h\u1ea1t c\u00e0 ph\u00ea v\u00e0 pha theo ph\u01b0\u01a1ng ph\u00e1p y\u00eau th\u00edch c\u1ee7a b\u1ea1n (v\u00ed d\u1ee5: pha b\u1eb1ng m\u00e1y pha c\u00e0 ph\u00ea, pha b\u1eb1ng phin c\u00e0 ph\u00ea, ho\u1eb7c pha b\u1eb1ng ly pha c\u00e0 ph\u00ea).\n",
            "   - **N\u1ebfu d\u00f9ng c\u00e0 ph\u00ea s\u1eb5n**: Ch\u1ec9 c\u1ea7n pha theo h\u01b0\u1edbng d\u1eabn tr\u00ean bao b\u00ec.\n",
            "\n",
            "2. **Chu\u1ea9n b\u1ecb s\u1eefa**:\n",
            "   - \u0110un n\u00f3ng s\u1eefa (kh\u00f4ng \u0111un s\u00f4i) ho\u1eb7c l\u1ea5y s\u1eefa \u0111\u00f4ng l\u1ea1nh \u0111\u1ec3 l\u00e0m l\u1ea1nh.\n",
            "   - N\u1ebfu b\u1ea1n th\u00edch s\u1eefa t\u01b0\u01a1i, \u0111un n\u00f3ng m\u1ed9t \u00edt s\u1eefa v\u00e0 sau \u0111\u00f3 th\u00eam v\u00e0o c\u00e0 ph\u00ea pha xong.\n",
            "\n",
            "3. **K\u1ebft h\u1ee3p c\u00e0 ph\u00ea v\u00e0 s\u1eefa**:\n",
            "   - \u0110\u1ed5 c\u00e0 ph\u00ea v\u00e0o c\u1ed1c.\n",
            "   - Th\u00eam s\u1eefa v\u00e0o c\u00e0 ph\u00ea theo t\u1ef7 l\u1ec7 b\u1ea1n th\u00edch (v\u00ed d\u1ee5: 1 ph\u1ea7n c\u00e0 ph\u00ea v\u00e0 1 ph\u1ea7n s\u1eefa).\n",
            "   - Khu\u1ea5y \u0111\u1ec1u \u0111\u1ec3 k\u1ebft h\u1ee3p.\n",
            "\n",
            "4. **Th\u00eam \u0111\u01b0\u1eddng (t\u00f9y ch\u1ecdn)**:\n",
            "   - N\u1ebfu b\u1ea1n th\u00edch, th\u00eam \u0111\u01b0\u1eddng ho\u1eb7c c\u00e1c ch\u1ea5t l\u00e0m ng\u1ecdt kh\u00e1c v\u00e0 khu\u1ea5y cho \u0111\u1ebfn khi tan ho\u00e0n to\u00e0n.\n",
            "\n",
            "5. **Th\u00eam \u0111\u00e1**:\n",
            "   - \u0110\u1ed5 \u0111\u00e1 v\u00e0o c\u1ed1c. B\u1ea1n c\u00f3 th\u1ec3 s\u1eed d\u1ee5ng \u0111\u00e1 kh\u1ed1i ho\u1eb7c \u0111\u00e1 n\u1ee9t.\n",
            "   - \u0110\u1ed5 c\u00e0 ph\u00ea s\u1eefa \u0111\u00e3 pha v\u00e0o c\u1ed1c ch\u1ee9a \u0111\u00e1.\n",
            "\n",
            "6. **Tr\u1ed9n v\u00e0 th\u01b0\u1edfng th\u1ee9c**:\n",
            "   - Khu\u1ea5y nh\u1eb9 \u0111\u1ec3 \u0111\u1ea3m b\u1ea3o c\u00e0 ph\u00ea v\u00e0 s\u1eefa k\u1ebft h\u1ee3p \u0111\u1ec1u v\u1edbi \u0111\u00e1.\n",
            "   - Th\u01b0\u1edfng th\u1ee9c ngay l\u1eadp t\u1ee9c.\n",
            "\n",
            "### T\u1ea7m quan tr\u1ecdng c\u1ee7a t\u1eebng th\u00e0nh ph\u1ea7n:\n",
            "- **C\u00e0 ph\u00ea**: \u0110\u00e2y l\u00e0 ngu\u1ed3n v\u1ecb \u0111\u1eb7c tr\u01b0ng c\u1ee7a th\u1ee9c u\u1ed1ng. Ch\u1ea5t l\u01b0\u1ee3ng v\u00e0 lo\u1ea1i c\u00e0 ph\u00ea s\u1ebd \u1ea3nh h\u01b0\u1edfng \u0111\u1ebfn h\u01b0\u01a1ng v\u1ecb cu\u1ed1i c\u00f9ng.\n",
            "- **S\u1eefa**: S\u1eefa l\u00e0m m\u1ecbn v\u1ecb \u0111\u1eafng c\u1ee7a c\u00e0 ph\u00ea v\u00e0 th\u00eam v\u00e0o k\u1ebft c\u1ea5u m\u01b0\u1ee3t ngon. Lo\u1ea1i s\u1eefa b\u1ea1n ch\u1ecdn c\u0169ng c\u00f3 th\u1ec3 thay \u0111\u1ed5i h\u01b0\u01a1ng v\u1ecb cu\u1ed1i c\u00f9ng.\n",
            "- **\u0110\u00e1**: \u0110\u00e1 gi\u00fap l\u00e0m l\u1ea1nh th\u1ee9c u\u1ed1ng, \u0111\u1eb7c bi\u1ec7t l\u00e0 v\u00e0o m\u00f9a h\u00e8 ho\u1eb7c khi b\u1ea1n c\u1ea3m th\u1ea5y n\u00f3ng b\u1ee9c.\n",
            "- **\u0110\u01b0\u1eddng (t\u00f9y ch\u1ecdn)**: \u0110\u01b0\u1eddng t\u0103ng th\u00eam \u0111\u1ed9 ng\u1ecdt v\u00e0 l\u00e0m c\u00e2n b\u1eb1ng v\u1ecb \u0111\u1eafng c\u1ee7a c\u00e0 ph\u00ea, nh\u01b0ng kh\u00f4ng b\u1eaft bu\u1ed9c n\u1ebfu b\u1ea1n th\u00edch u\u1ed1ng kh\u00f4ng \u0111\u01b0\u1eddng.\n",
            "\n",
            "V\u1edbi nh\u1eefng b\u01b0\u1edbc \u0111\u01a1n gi\u1ea3n n\u00e0y, b\u1ea1n c\u00f3 th\u1ec3 th\u01b0\u1edfng th\u1ee9c m\u1ed9t t\u00e1ch c\u00e0 ph\u00ea s\u1eefa \u0111\u00e1 ngon mi\u1ec7ng ngay t\u1ea1i nh\u00e0.\n",
            "--------------------------------------------------\n"
          ]
        }
      ],
      "source": [
        "instruction_prompt = \"\"\"H\u00e3y gi\u1ea3i th\u00edch m\u1ed9t c\u00e1ch \u0111\u01a1n gi\u1ea3n c\u00e1ch pha c\u00e0 ph\u00ea s\u1eefa \u0111\u00e1, bao g\u1ed3m c\u00e1c th\u00e0nh ph\u1ea7n ch\u00ednh v\u00e0 t\u1ea7m quan tr\u1ecdng c\u1ee7a n\u00f3.\"\"\"\n",
        "\n",
        "get_response(prompt=instruction_prompt)"
      ]
    },
    {
      "cell_type": "markdown",
      "metadata": {},
      "source": [
        "## Impact of Structural Elements\n",
        "\n",
        "Now, let's examine how structural elements like headings and lists affect the AI's response."
      ]
    },
    {
      "cell_type": "markdown",
      "metadata": {},
      "source": [
        "### 1. Using Headings"
      ]
    },
    {
      "cell_type": "code",
      "execution_count": 6,
      "metadata": {},
      "outputs": [
        {
          "name": "stdout",
          "output_type": "stream",
          "text": [
            "# \u0110\u1ecbnh ngh\u0129a\n",
            "\n",
            "C\u00e0 ph\u00ea s\u1eefa \u0111\u00e1 l\u00e0 m\u1ed9t lo\u1ea1i th\u1ee9c u\u1ed1ng k\u1ebft h\u1ee3p gi\u1eefa c\u00e0 ph\u00ea \u0111en, s\u1eefa v\u00e0 \u0111\u00e1, t\u1ea1o ra m\u1ed9t th\u1ee9c u\u1ed1ng t\u01b0\u01a1i m\u00e1t, \u0111\u1eb7c bi\u1ec7t ph\u1ed5 bi\u1ebfn trong m\u00f9a h\u00e8 ho\u1eb7c khi b\u1ea1n c\u1ea7n m\u1ed9t t\u1ea9m n\u0103ng l\u01b0\u1ee3ng t\u1eeb c\u00e0 ph\u00ea k\u1ebft h\u1ee3p v\u1edbi v\u1ecb ng\u1ecdt c\u1ee7a s\u1eefa.\n",
            "\n",
            "# Qu\u00e1 tr\u00ecnh\n",
            "\n",
            "## Nguy\u00ean li\u1ec7u c\u1ea7n thi\u1ebft:\n",
            "1. **C\u00e0 ph\u00ea \u0111en**: 1-2 mu\u1ed7ng c\u00e0 ph\u00ea (t\u00f9y theo s\u1edf th\u00edch)\n",
            "2. **S\u1eefa**: 1/2 t\u00e1ch (c\u00f3 th\u1ec3 thay \u0111\u1ed5i t\u00f9y th\u00edch)\n",
            "3. **\u0110\u00e1**: Kho\u1ea3ng n\u1eeda ly ho\u1eb7c t\u00f9y \u00fd\n",
            "4. **\u0110\u01b0\u1eddng**: 1-2 mu\u1ed7ng c\u00e0 ph\u00ea (t\u00f9y th\u00edch)\n",
            "5. **Ph\u1ee5 gia (t\u00f9y ch\u1ecdn)**: Kem \u0111\u00e1nh, xi-r\u00f4 h\u01b0\u01a1ng v\u1ecb, m\u1ed9c m\u1ea1c, v.v.\n",
            "\n",
            "## C\u00f4ng c\u1ee5:\n",
            "- C\u1ed1c ho\u1eb7c ly c\u00e0 ph\u00ea\n",
            "- M\u00e1y pha c\u00e0 ph\u00ea (ho\u1eb7c pha c\u00e0 ph\u00ea b\u1eb1ng phin, phi\u00ean)\n",
            "- Th\u00eca \u0111\u1ec3 khu\u1ea5y\n",
            "- M\u00e1y xay \u0111\u00e1 (n\u1ebfu kh\u00f4ng c\u00f3 \u0111\u00e1 xay s\u1eb5n)\n",
            "\n",
            "## B\u01b0\u1edbc pha ch\u1ebf:\n",
            "1. **Chu\u1ea9n b\u1ecb c\u00e0 ph\u00ea**:\n",
            "   - N\u1ebfu b\u1ea1n d\u00f9ng m\u00e1y pha c\u00e0 ph\u00ea, \u0111\u1eb7t l\u01b0\u1ee3ng c\u00e0 ph\u00ea \u0111en v\u00e0o l\u1ecdc v\u00e0 b\u1eaft \u0111\u1ea7u pha.\n",
            "   - N\u1ebfu d\u00f9ng phin ho\u1eb7c phi\u00ean, \u0111\u1eb7t c\u00e0 ph\u00ea v\u00e0o phin, th\u00eam n\u01b0\u1edbc n\u00f3ng v\u00e0 \u0111\u1ee3i c\u00e0 ph\u00ea pha xong.\n",
            "\n",
            "2. **Chu\u1ea9n b\u1ecb s\u1eefa**:\n",
            "   - \u0110un n\u00f3ng s\u1eefa trong n\u1ed3i cho \u0111\u1ebfn khi s\u1eefa s\u00f4i nh\u1ecf. N\u1ebfu b\u1ea1n th\u00edch s\u1eefa \u0111\u00e1 h\u01a1n l\u00e0 s\u1eefa n\u00f3ng, b\u1ea1n c\u00f3 th\u1ec3 b\u1ecf qua b\u01b0\u1edbc n\u00e0y v\u00e0 th\u00eam s\u1eefa l\u1ea1nh tr\u1ef1c ti\u1ebfp v\u00e0o c\u00e0 ph\u00ea \u0111\u00e3 pha xong.\n",
            "   - N\u1ebfu b\u1ea1n th\u00edch s\u1eefa t\u01b0\u01a1i, \u0111un s\u1eefa \u0111\u1ebfn kho\u1ea3ng 65-70\u00b0C \u0111\u1ec3 tr\u00e1nh l\u00e0m s\u1eefa \u0111un qu\u00e1 ch\u00edn.\n",
            "\n",
            "3. **K\u1ebft h\u1ee3p c\u00e0 ph\u00ea v\u00e0 s\u1eefa**:\n",
            "   - \u0110\u1ed5 c\u00e0 ph\u00ea \u0111\u00e3 pha v\u00e0o c\u1ed1c.\n",
            "   - N\u1ebfu b\u1ea1n \u0111\u00e3 \u0111un s\u1eefa, \u0111\u1ed5 s\u1eefa v\u00e0o c\u00e0 ph\u00ea v\u00e0 khu\u1ea5y \u0111\u1ec1u.\n",
            "   - N\u1ebfu b\u1ea1n th\u00edch s\u1eefa l\u1ea1nh, th\u00eam s\u1eefa l\u1ea1nh v\u00e0o c\u00e0 ph\u00ea v\u00e0 khu\u1ea5y \u0111\u1ec1u.\n",
            "\n",
            "4. **Th\u00eam \u0111\u01b0\u1eddng (n\u1ebfu c\u1ea7n)**:\n",
            "   - Th\u00eam \u0111\u01b0\u1eddng v\u00e0o c\u00e0 ph\u00ea s\u1eefa v\u00e0 khu\u1ea5y \u0111\u1ec1u cho \u0111\u1ebfn khi \u0111\u01b0\u1eddng tan ho\u00e0n to\u00e0n.\n",
            "\n",
            "5. **Th\u00eam \u0111\u00e1**:\n",
            "   - \u0110\u1ed5 \u0111\u00e1 v\u00e0o c\u1ed1c. N\u1ebfu b\u1ea1n c\u00f3 m\u00e1y xay \u0111\u00e1, h\u00e3y xay \u0111\u00e1 tr\u01b0\u1edbc \u0111\u1ec3 c\u00f3 \u0111\u00e1 nh\u1ecf v\u00e0 \u0111\u1ec1u.\n",
            "   - \u0110\u1ea3m b\u1ea3o \u0111\u00e1 chi\u1ebfm m\u1ed9t ph\u1ea7n l\u1edbn c\u1ee7a c\u1ed1c.\n",
            "\n",
            "6. **Ph\u1ee5 gia (t\u00f9y ch\u1ecdn)**:\n",
            "   - Th\u00eam kem \u0111\u00e1nh, xi-r\u00f4, m\u1ed9c m\u1ea1c, v.v. theo s\u1edf th\u00edch v\u00e0 t\u00f9y \u00fd.\n",
            "\n",
            "7. **Tr\u1ed9n v\u00e0 th\u01b0\u1edfng th\u1ee9c**:\n",
            "   - Khu\u1ea5y c\u00e0 ph\u00ea s\u1eefa \u0111\u00e1 \u0111\u1ec1u \u0111\u1eb7n \u0111\u1ec3 t\u1ea5t c\u1ea3 c\u00e1c th\u00e0nh ph\u1ea7n k\u1ebft h\u1ee3p v\u1edbi nhau.\n",
            "   - Th\u01b0\u1edfng th\u1ee9c ngay l\u1eadp t\u1ee9c khi c\u00f2n t\u01b0\u01a1i.\n",
            "\n",
            "# Th\u00e0nh ph\u1ea7n ch\u00ednh\n",
            "\n",
            "1. **C\u00e0 ph\u00ea \u0111en**: Ngu\u1ed3n n\u0103ng l\u01b0\u1ee3ng t\u1eeb caffeine, t\u1ea1o v\u1ecb \u0111\u1eb7c tr\u01b0ng m\u1ea1nh m\u1ebd c\u1ee7a c\u00e0 ph\u00ea.\n",
            "2. **S\u1eefa**: L\u00e0m m\u1ecbn v\u1ecb c\u1ee7a c\u00e0 ph\u00ea, th\u00eam v\u00e0o \u0111\u00f3 l\u00e0 h\u01b0\u01a1ng v\u1ecb ng\u1ecdt ng\u00e0o t\u1eeb s\u1eefa.\n",
            "3. **\u0110\u00e1**: L\u00e0m m\u00e1t th\u1ee9c u\u1ed1ng, gi\u00fap c\u1ea3m gi\u00e1c t\u01b0\u01a1i m\u1edbi v\u00e0 l\u00e0m gi\u1ea3m \u0111\u1ed9 cay c\u1ee7a c\u00e0 ph\u00ea.\n",
            "4. **\u0110\u01b0\u1eddng (t\u00f9y ch\u1ecdn)**: T\u0103ng th\u00eam v\u1ecb ng\u1ecdt cho th\u1ee9c u\u1ed1ng.\n",
            "5. **Ph\u1ee5 gia (t\u00f9y ch\u1ecdn)**: Kem \u0111\u00e1nh, xi-r\u00f4, m\u1ed9c m\u1ea1c, v.v. \u0111\u1ec3 t\u1ea1o h\u01b0\u01a1ng v\u1ecb v\u00e0 m\u00e0u s\u1eafc \u0111\u1eb7c tr\u01b0ng.\n",
            "\n",
            "V\u1edbi nh\u1eefng b\u01b0\u1edbc \u0111\u01a1n gi\u1ea3n n\u00e0y, b\u1ea1n c\u00f3 th\u1ec3 t\u1ef1 pha m\u1ed9t t\u00e1ch c\u00e0 ph\u00ea s\u1eefa \u0111\u00e1 ngon v\u00e0 t\u01b0\u01a1i m\u1edbi t\u1ea1i nh\u00e0.\n",
            "--------------------------------------------------\n"
          ]
        }
      ],
      "source": [
        "headings_prompt = \"\"\"Gi\u1ea3i th\u00edch c\u00e1ch pha c\u00e0 ph\u00ea s\u1eefa \u0111\u00e1 v\u1edbi c\u1ea5u tr\u00fac nh\u01b0 sau:\n",
        "\n",
        "# \u0110\u1ecbnh ngh\u0129a\n",
        "\n",
        "# Qu\u00e1 tr\u00ecnh\n",
        "\n",
        "# Th\u00e0nh ph\u1ea7n ch\u00ednh\n",
        "\"\"\"\n",
        "\n",
        "get_response(prompt=headings_prompt)"
      ]
    },
    {
      "cell_type": "markdown",
      "metadata": {},
      "source": [
        "### 2. Using Bullet Points"
      ]
    },
    {
      "cell_type": "code",
      "execution_count": 7,
      "metadata": {},
      "outputs": [
        {
          "name": "stdout",
          "output_type": "stream",
          "text": [
            "D\u01b0\u1edbi \u0111\u00e2y l\u00e0 c\u00e1c th\u00e0nh ph\u1ea7n ch\u00ednh th\u01b0\u1eddng \u0111\u01b0\u1ee3c t\u00ecm th\u1ea5y trong m\u1ed9t t\u00e1ch c\u00e0 ph\u00ea s\u1eefa \u0111\u00e1:\n",
            "\n",
            "1. **C\u00e0 ph\u00ea**:\n",
            "   - H\u1ea1t c\u00e0 ph\u00ea \u0111\u00e3 pha ch\u1ebf (th\u01b0\u1eddng l\u00e0 h\u1ea1t c\u00e0 ph\u00ea xay nhuy\u1ec5n).\n",
            "\n",
            "2. **S\u1eefa**:\n",
            "   - S\u1eefa t\u01b0\u01a1i (c\u00f3 th\u1ec3 l\u00e0 s\u1eefa b\u00f2, s\u1eefa soy, s\u1eefa anh \u0111\u00e0o, s\u1eefa d\u1eeba, ho\u1eb7c c\u00e1c lo\u1ea1i s\u1eefa thay th\u1ebf kh\u00e1c t\u00f9y theo s\u1edf th\u00edch).\n",
            "\n",
            "3. **\u0110\u00e1**:\n",
            "   - \u0110\u00e1 \u0111\u00e1 (\u0111\u00e1 kh\u1ed1i ho\u1eb7c \u0111\u00e1 nghi\u1ec1n) \u0111\u1ec3 l\u00e0m l\u1ea1nh th\u1ee9c u\u1ed1ng.\n",
            "\n",
            "4. **\u0110\u01b0\u1eddng**:\n",
            "   - \u0110\u01b0\u1eddng (c\u00f3 th\u1ec3 l\u00e0 \u0111\u01b0\u1eddng tr\u1eafng, \u0111\u01b0\u1eddng n\u00e2u, \u0111\u01b0\u1eddng vani, ho\u1eb7c c\u00e1c lo\u1ea1i \u0111\u01b0\u1eddng kh\u00e1c) \u0111\u1ec3 t\u0103ng \u0111\u1ed9 ng\u1ecdt cho \u0111\u1ed3 u\u1ed1ng.\n",
            "\n",
            "5. **C\u00e1c lo\u1ea1i gia v\u1ecb (t\u00f9y ch\u1ecdn)**:\n",
            "   - V\u00e1nila (t\u01b0\u01a1ng ho\u1eb7c xi-r\u00f4 vani).\n",
            "   - Chocolate syrup (si-r\u00f4 s\u00f4 c\u00f4 la).\n",
            "   - Cinnamon (qu\u1ebf).\n",
            "   - Cardamom (h\u1ed3i).\n",
            "\n",
            "6. **Kem \u0111\u00e1nh (t\u00f9y ch\u1ecdn)**:\n",
            "   - Kem \u0111\u00e1nh \u0111\u1ec3 t\u1ea1o b\u1ecdt tr\u00ean l\u1edbp s\u1eefa.\n",
            "\n",
            "C\u00e1c th\u00e0nh ph\u1ea7n n\u00e0y c\u00f3 th\u1ec3 \u0111\u01b0\u1ee3c k\u1ebft h\u1ee3p v\u00e0 \u0111i\u1ec1u ch\u1ec9nh theo s\u1edf th\u00edch c\u00e1 nh\u00e2n c\u1ee7a t\u1eebng ng\u01b0\u1eddi.\n",
            "--------------------------------------------------\n"
          ]
        }
      ],
      "source": [
        "bullet_points_prompt = \"\"\"Li\u1ec7t k\u00ea c\u00e1c th\u00e0nh ph\u1ea7n ch\u00ednh c\u1ee7a c\u00e0 ph\u00ea s\u1eefa \u0111\u00e1:\n",
        "\n",
        "\u2022 \n",
        "\u2022 \n",
        "\u2022 \n",
        "\"\"\"\n",
        "\n",
        "get_response(prompt=bullet_points_prompt)"
      ]
    },
    {
      "cell_type": "markdown",
      "metadata": {},
      "source": [
        "### 3. Using Numbered Lists"
      ]
    },
    {
      "cell_type": "code",
      "execution_count": 8,
      "metadata": {},
      "outputs": [
        {
          "name": "stdout",
          "output_type": "stream",
          "text": [
            "Pha c\u00e0 ph\u00ea s\u1eefa \u0111\u00e1 l\u00e0 m\u1ed9t c\u00e1ch pha ch\u1ebf ph\u1ed5 bi\u1ebfn, \u0111\u1eb7c bi\u1ec7t l\u00e0 trong c\u00e1c qu\u00e1n c\u00e0 ph\u00ea. D\u01b0\u1edbi \u0111\u00e2y l\u00e0 tr\u00ecnh t\u1ef1 chi ti\u1ebft \u0111\u1ec3 pha c\u00e0 ph\u00ea s\u1eefa \u0111\u00e1:\n",
            "\n",
            "### Tr\u00ecnh t\u1ef1 pha c\u00e0 ph\u00ea s\u1eefa \u0111\u00e1:\n",
            "\n",
            "1. **Chu\u1ea9n b\u1ecb nguy\u00ean li\u1ec7u:**\n",
            "   - C\u00e0 ph\u00ea \u0111\u1ea5t (ho\u1eb7c c\u00e0 ph\u00ea h\u1ea1t pha ri\u00eang)\n",
            "   - S\u1eefa t\u01b0\u01a1i (c\u00f3 th\u1ec3 thay th\u1ebf b\u1eb1ng s\u1eefa t\u01b0\u01a1i chua, s\u1eefa t\u01b0\u01a1i d\u1eeba, s\u1eefa \u0111\u1eadu n\u00e0nh, vv.)\n",
            "   - \u0110\u00e1 \u0111\u00e1 kh\u1ed1i (\u0111\u00e3 l\u00e0m s\u1ea1ch)\n",
            "   - \u0110\u01b0\u1eddng (t\u00f9y theo s\u1edf th\u00edch)\n",
            "\n",
            "2. **Ti\u1ebfn h\u00e0nh pha c\u00e0 ph\u00ea:**\n",
            "   - **B\u01b0\u1edbc 1:** Pha c\u00e0 ph\u00ea theo ph\u01b0\u01a1ng ph\u00e1p \u01b0a th\u00edch c\u1ee7a b\u1ea1n (v\u00ed d\u1ee5: s\u1eed d\u1ee5ng m\u00e1y pha c\u00e0 ph\u00ea, \u1ea5n Ph\u00e1p, \u1ea5n l\u1ecdc, vv.).\n",
            "     - V\u00ed d\u1ee5: N\u1ebfu b\u1ea1n d\u00f9ng \u1ea5n Ph\u00e1p, th\u00ec \u0111\u1ed5 n\u01b0\u1edbc n\u00f3ng v\u00e0o c\u00e0 ph\u00ea xay v\u00e0 \u0111\u1ec3 ng\u00e2m trong kho\u1ea3ng 4 ph\u00fat tr\u01b0\u1edbc khi nh\u1ea5n n\u00fat \u0111\u00e1y.\n",
            "   - **B\u01b0\u1edbc 2:** \u0110\u1ed5 c\u00e0 ph\u00ea v\u00e0o c\u1ed1c c\u00e0 ph\u00ea.\n",
            "\n",
            "3. **Th\u00eam s\u1eefa:**\n",
            "   - **B\u01b0\u1edbc 3:** \u0110un s\u00f4i s\u1eefa (c\u00f3 th\u1ec3 s\u1eed d\u1ee5ng s\u1eefa t\u1eeb chai ho\u1eb7c \u0111un n\u00f3ng s\u1eefa t\u01b0\u01a1i).\n",
            "   - **B\u01b0\u1edbc 4:** T\u1ea9y b\u1ecdt s\u1eefa n\u1ebfu c\u1ea7n thi\u1ebft.\n",
            "   - **B\u01b0\u1edbc 5:** \u0110\u1ed5 s\u1eefa v\u00e0o c\u1ed1c c\u00e0 ph\u00ea \u0111\u00e3 c\u00f3 c\u00e0 ph\u00ea. T\u1ef7 l\u1ec7 th\u00f4ng th\u01b0\u1eddng l\u00e0 1 ph\u1ea7n c\u00e0 ph\u00ea v\u00e0 1 ph\u1ea7n s\u1eefa, nh\u01b0ng b\u1ea1n c\u00f3 th\u1ec3 \u0111i\u1ec1u ch\u1ec9nh t\u00f9y theo s\u1edf th\u00edch.\n",
            "\n",
            "4. **Th\u00eam \u0111\u01b0\u1eddng (n\u1ebfu c\u1ea7n):**\n",
            "   - **B\u01b0\u1edbc 6:** Th\u00eam \u0111\u01b0\u1eddng v\u00e0o c\u00e0 ph\u00ea s\u1eefa v\u00e0 khu\u1ea5y \u0111\u1ec1u cho \u0111\u1ebfn khi \u0111\u01b0\u1eddng tan ho\u00e0n to\u00e0n.\n",
            "\n",
            "5. **Th\u00eam \u0111\u00e1:**\n",
            "   - **B\u01b0\u1edbc 7:** \u0110\u1ed5 \u0111\u00e1 \u0111\u00e1 kh\u1ed1i v\u00e0o c\u1ed1c c\u00e0 ph\u00ea s\u1eefa. \u0110\u1ea3m b\u1ea3o c\u1ed1c \u0111\u1ee7 r\u1ed9ng \u0111\u1ec3 ch\u1ee9a c\u1ea3 c\u00e0 ph\u00ea s\u1eefa v\u00e0 \u0111\u00e1 m\u00e0 kh\u00f4ng b\u1ecb tr\u00e0n.\n",
            "   - **B\u01b0\u1edbc 8:** K\u1ebft h\u1ee3p t\u1ea5t c\u1ea3 c\u00e1c nguy\u00ean li\u1ec7u b\u1eb1ng c\u00e1ch khu\u1ea5y nh\u1eb9.\n",
            "\n",
            "6. **Trang tr\u00ed (t\u00f9y ch\u1ecdn):**\n",
            "   - **B\u01b0\u1edbc 9:** B\u1ecdt s\u1eefa c\u00f3 th\u1ec3 \u0111\u01b0\u1ee3c trang tr\u00ed tr\u00ean c\u00f9ng c\u1ed1c c\u00e0 ph\u00ea \u0111\u1ec3 t\u0103ng th\u00eam v\u1ebb \u0111\u1eb9p v\u00e0 h\u01b0\u01a1ng v\u1ecb.\n",
            "\n",
            "### K\u1ebft lu\u1eadn:\n",
            "C\u00e0 ph\u00ea s\u1eefa \u0111\u00e1 \u0111\u00e3 ho\u00e0n t\u1ea5t! B\u1ea1n c\u00f3 th\u1ec3 th\u01b0\u1edfng th\u1ee9c ngay l\u1eadp t\u1ee9c. \u0110i\u1ec1u ch\u1ec9nh t\u1ef7 l\u1ec7 s\u1eefa, \u0111\u01b0\u1eddng v\u00e0 \u0111\u00e1 \u0111\u1ec3 ph\u00f9 h\u1ee3p v\u1edbi s\u1edf th\u00edch c\u00e1 nh\u00e2n c\u1ee7a m\u00ecnh.\n",
            "--------------------------------------------------\n"
          ]
        }
      ],
      "source": [
        "numbered_list_prompt = \"\"\"Gi\u1ea3i th\u00edch c\u00e1ch pha c\u00e0 ph\u00ea s\u1eefa \u0111\u00e1 v\u1edbi tr\u00ecnh t\u1ef1 nh\u01b0 sau:\n",
        "\n",
        "1.\n",
        "2.\n",
        "3.\n",
        "4.\n",
        "\"\"\"\n",
        "\n",
        "get_response(prompt=numbered_list_prompt)"
      ]
    },
    {
      "cell_type": "markdown",
      "metadata": {},
      "source": [
        "## Comparing Prompt Effectiveness\n",
        "\n",
        "Let's compare the effectiveness of different prompt structures for a specific task."
      ]
    },
    {
      "cell_type": "code",
      "execution_count": 9,
      "metadata": {},
      "outputs": [
        {
          "name": "stdout",
          "output_type": "stream",
          "text": [
            "Prompt 1:\n",
            "C\u00e0 ph\u00ea s\u1eefa \u0111\u00e1 l\u00e0 m\u1ed9t th\u1ee9c u\u1ed1ng ph\u1ed5 bi\u1ebfn v\u00e0 c\u00f3 t\u1ea7m quan tr\u1ecdng v\u0103n h\u00f3a s\u00e2u s\u1eafc trong cu\u1ed9c s\u1ed1ng c\u1ee7a ng\u01b0\u1eddi Vi\u1ec7t Nam. D\u01b0\u1edbi \u0111\u00e2y l\u00e0 m\u1ed9t s\u1ed1 l\u00fd do t\u1ea1i sao c\u00e0 ph\u00ea s\u1eefa \u0111\u00e1 l\u1ea1i \u0111\u1eb7c bi\u1ec7t quan tr\u1ecdng:\n",
            "\n",
            "1. **V\u0103n h\u00f3a pha c\u00e0 ph\u00ea**: Vi\u1ec7t Nam l\u00e0 m\u1ed9t trong nh\u1eefng n\u01b0\u1edbc c\u00f3 truy\u1ec1n th\u1ed1ng pha c\u00e0 ph\u00ea m\u1ea1nh m\u1ebd. C\u00e0 ph\u00ea \u0111\u00e1 v\u1edbi s\u1eefa \u0111\u1eb7c tr\u01b0ng cho phong c\u00e1ch pha ch\u1ebf \u0111\u1eb7c bi\u1ec7t c\u1ee7a ng\u01b0\u1eddi Vi\u1ec7t, k\u1ebft h\u1ee3p gi\u1eefa c\u00e0 ph\u00ea \u0111\u1eadm \u0111\u00e0 v\u00e0 s\u1eefa ng\u1ecdt \u0111\u1eb7c, t\u1ea1o ra m\u1ed9t s\u1ea3n ph\u1ea9m \u0111\u1ed9c \u0111\u00e1o v\u00e0 th\u01a1m ngon.\n",
            "\n",
            "2. **T\u00ednh x\u00e3 h\u1ed9i**: C\u00e0 ph\u00ea s\u1eefa \u0111\u00e1 th\u01b0\u1eddng \u0111\u01b0\u1ee3c th\u01b0\u1edfng th\u1ee9c trong c\u00e1c bu\u1ed5i g\u1eb7p g\u1ee1 b\u1ea1n b\u00e8, gia \u0111\u00ecnh ho\u1eb7c l\u00e0m vi\u1ec7c. N\u00f3 t\u1ea1o c\u01a1 h\u1ed9i cho m\u1ecdi ng\u01b0\u1eddi tr\u00f2 chuy\u1ec7n, th\u01b0 gi\u00e3n v\u00e0 t\u0103ng c\u01b0\u1eddng m\u1ed1i quan h\u1ec7 x\u00e3 h\u1ed9i.\n",
            "\n",
            "3. **S\u1ef1 tho\u1ea3i m\u00e1i**: C\u00e0 ph\u00ea s\u1eefa \u0111\u00e1 l\u00e0 m\u1ed9t l\u1ef1a ch\u1ecdn l\u00fd t\u01b0\u1edfng \u0111\u1ec3 gi\u1ea3i kh\u00e1t v\u00e0 th\u01b0 gi\u00e3n sau m\u1ed9t ng\u00e0y l\u00e0m vi\u1ec7c c\u0103ng th\u1eb3ng ho\u1eb7c trong nh\u1eefng bu\u1ed5i ch\u1edd \u0111\u1ee3i. N\u00f3 mang l\u1ea1i c\u1ea3m gi\u00e1c tho\u1ea3i m\u00e1i v\u00e0 h\u00e0i l\u00f2ng.\n",
            "\n",
            "4. **Kh\u1ea3 n\u0103ng linh ho\u1ea1t**: C\u00e0 ph\u00ea s\u1eefa \u0111\u00e1 c\u00f3 th\u1ec3 \u0111\u01b0\u1ee3c th\u01b0\u1edfng th\u1ee9c \u1edf kh\u1eafp m\u1ecdi n\u01a1i, t\u1eeb c\u00e1c qu\u00e1n c\u00e0 ph\u00ea tr\u00ean \u0111\u01b0\u1eddng ph\u1ed1 \u0111\u1ebfn c\u00e1c b\u1eefa ti\u1ec7c l\u1edbn. S\u1ef1 linh ho\u1ea1t n\u00e0y gi\u00fap n\u00f3 tr\u1edf th\u00e0nh m\u1ed9t ph\u1ea7n kh\u00f4ng th\u1ec3 thi\u1ebfu trong cu\u1ed9c s\u1ed1ng h\u00e0ng ng\u00e0y.\n",
            "\n",
            "5. **K\u1ef7 ni\u1ec7m v\u00e0 truy\u1ec1n th\u1ed1ng**: Trong nhi\u1ec1u gia \u0111\u00ecnh, c\u00e0 ph\u00ea s\u1eefa \u0111\u00e1 l\u00e0 m\u1ed9t ph\u1ea7n c\u1ee7a truy\u1ec1n th\u1ed1ng gia \u0111\u00ecnh, \u0111\u1eb7c bi\u1ec7t l\u00e0 trong nh\u1eefng d\u1ecbp \u0111\u1eb7c bi\u1ec7t nh\u01b0 T\u1ebft Nguy\u00ean \u0110\u00e1n, k\u1ef7 ni\u1ec7m ng\u00e0y sinh nh\u1eadt, ho\u1eb7c c\u00e1c s\u1ef1 ki\u1ec7n quan tr\u1ecdng kh\u00e1c.\n",
            "\n",
            "6. **Kh\u1ea3 n\u0103ng ti\u1ebfp nh\u1eadn kh\u00e1ch ngo\u1ea1i**: C\u00e0 ph\u00ea s\u1eefa \u0111\u00e1 c\u0169ng l\u00e0 m\u1ed9t bi\u1ec3u t\u01b0\u1ee3ng c\u1ee7a s\u1ef1 \u0111\u1ed1i\u5f85 kh\u00e1ch ngo\u1ea1i m\u1ed9t c\u00e1ch t\u1eadn t\u00ecnh v\u00e0 \u1ea5m \u00e1p, th\u1ec3 hi\u1ec7n tinh th\u1ea7n m\u1eddi ti\u1ebfp kh\u00e1ch c\u1ee7a ng\u01b0\u1eddi Vi\u1ec7t.\n",
            "\n",
            "7. **\u1ea2nh h\u01b0\u1edfng c\u1ee7a th\u1eddi k\u1ef3 thu\u1ed9c \u0111\u1ecba Ph\u00e1p**: D\u01b0\u1edbi th\u1eddi k\u1ef3 thu\u1ed9c \u0111\u1ecba, ng\u01b0\u1eddi Ph\u00e1p \u0111\u00e3 gi\u1edbi thi\u1ec7u c\u00e0 ph\u00ea \u0111\u1ebfn Vi\u1ec7t Nam. K\u1ec3 t\u1eeb \u0111\u00f3, c\u00e0 ph\u00ea \u0111\u00e3 tr\u1edf th\u00e0nh m\u1ed9t ph\u1ea7n kh\u00f4ng th\u1ec3 thi\u1ebfu trong v\u0103n h\u00f3a \u1ea9m th\u1ef1c v\u00e0 x\u00e3 h\u1ed9i c\u1ee7a \u0111\u1ea5t n\u01b0\u1edbc n\u00e0y.\n",
            "\n",
            "T\u1ea5t c\u1ea3 nh\u1eefng y\u1ebfu t\u1ed1 n\u00e0y \u0111\u00e3 khi\u1ebfn c\u00e0 ph\u00ea s\u1eefa \u0111\u00e1 tr\u1edf th\u00e0nh m\u1ed9t bi\u1ec3u t\u01b0\u1ee3ng v\u0103n h\u00f3a quan tr\u1ecdng v\u00e0 \u0111\u1eb7c tr\u01b0ng c\u1ee7a cu\u1ed9c s\u1ed1ng h\u00e0ng ng\u00e0y \u1edf Vi\u1ec7t Nam.\n",
            "--------------------------------------------------\n",
            "Prompt 2:\n",
            "C\u00e0 ph\u00ea s\u1eefa \u0111\u00e1 l\u00e0 m\u1ed9t th\u1ee9c u\u1ed1ng kh\u00f4ng ch\u1ec9 \u0111\u01b0\u1ee3c y\u00eau th\u00edch m\u00e0 c\u00f2n \u0111\u00f3ng vai tr\u00f2 quan tr\u1ecdng trong cu\u1ed9c s\u1ed1ng c\u1ee7a ng\u01b0\u1eddi Vi\u1ec7t Nam. D\u01b0\u1edbi \u0111\u00e2y l\u00e0 ba l\u00fd do ch\u00ednh v\u1ec1 t\u1ea7m quan tr\u1ecdng c\u1ee7a c\u00e0 ph\u00ea s\u1eefa \u0111\u00e1:\n",
            "\n",
            "### 1. K\u1ebft n\u1ed1i x\u00e3 h\u1ed9i\n",
            "C\u00e0 ph\u00ea s\u1eefa \u0111\u00e1 t\u1ea1o n\u00ean m\u1ed9t kh\u00f4ng gian x\u00e3 h\u1ed9i quan tr\u1ecdng cho ng\u01b0\u1eddi Vi\u1ec7t Nam. \u0110\u00e2y l\u00e0 m\u1ed9t m\u1eb7t tr\u1eadn l\u00fd t\u01b0\u1edfng \u0111\u1ec3 m\u1ecdi ng\u01b0\u1eddi g\u1eb7p g\u1ee1, tr\u00f2 chuy\u1ec7n v\u00e0 th\u01b0 gi\u00e3n. B\u1ea5t k\u1ec3 l\u00e0 b\u1ea1n \u0111ang g\u1eb7p b\u1ea1n b\u00e8, gia \u0111\u00ecnh hay \u0111\u01a1n gi\u1ea3n l\u00e0 mu\u1ed1n th\u01b0\u1edfng th\u1ee9c m\u1ed9t t\u00e1ch c\u00e0 ph\u00ea s\u1eefa \u0111\u00e1 trong m\u1ed9t kh\u00f4ng gian y\u00ean t\u0129nh, c\u00e0 ph\u00ea s\u1eefa \u0111\u00e1 lu\u00f4n l\u00e0 m\u1ed9t l\u1ef1a ch\u1ecdn ph\u1ed5 bi\u1ebfn. Nh\u1eefng qu\u00e1n c\u00e0 ph\u00ea tr\u1edf th\u00e0nh n\u01a1i t\u1ee5 t\u1eadp, chia s\u1ebb tin t\u1ee9c, k\u1ec3 chuy\u1ec7n v\u00e0 th\u1eadm ch\u00ed c\u00f2n l\u00e0 n\u01a1i sinh ra nh\u1eefng \u00fd t\u01b0\u1edfng m\u1edbi. \n",
            "\n",
            "### 2. T\u00e1c d\u1ee5ng s\u1ee9c kho\u1ebb\n",
            "M\u1eb7c d\u00f9 c\u00e0 ph\u00ea s\u1eefa \u0111\u00e1 kh\u00f4ng ph\u1ea3i l\u00e0 th\u1ee9c u\u1ed1ng t\u1ed1t nh\u1ea5t cho s\u1ee9c kho\u1ebb khi ti\u00eau th\u1ee5 qu\u00e1 nhi\u1ec1u, nh\u01b0ng khi \u0111\u01b0\u1ee3c d\u00f9ng v\u1edbi m\u1ee9c \u0111\u1ed9 v\u1eeba kho\u1ea3ng, n\u00f3 c\u00f3 th\u1ec3 mang l\u1ea1i m\u1ed9t s\u1ed1 l\u1ee3i \u00edch cho s\u1ee9c kho\u1ebb. C\u00e0 ph\u00ea ch\u1ee9a caffeine, m\u1ed9t ch\u1ea5t k\u00edch th\u00edch t\u00e2m l\u00fd gi\u00fap t\u0103ng c\u01b0\u1eddng s\u1ef1 t\u1ec9nh t\u00e1o v\u00e0 gi\u1ea3m c\u1ea3m gi\u00e1c m\u1ec7t m\u1ecfi. Ngo\u00e0i ra, s\u1eefa trong c\u00e0 ph\u00ea s\u1eefa \u0111\u00e1 cung c\u1ea5p m\u1ed9t l\u01b0\u1ee3ng \u0111\u00e1ng k\u1ec3 calci v\u00e0 vitamin D, \u0111i\u1ec1u n\u00e0y c\u00f3 th\u1ec3 gi\u00fap t\u0103ng c\u01b0\u1eddng s\u1ee9c kh\u1ecfe x\u01b0\u01a1ng v\u00e0 r\u0103ng.\n",
            "\n",
            "### 3. S\u1ef1 \u0111a d\u1ea1ng\n",
            "M\u1ed9t trong nh\u1eefng l\u00fd do khi\u1ebfn c\u00e0 ph\u00ea s\u1eefa \u0111\u00e1 tr\u1edf n\u00ean \u0111\u1eb7c bi\u1ec7t \u0111\u1ed1i v\u1edbi ng\u01b0\u1eddi Vi\u1ec7t Nam l\u00e0 s\u1ef1 \u0111a d\u1ea1ng trong c\u00e1ch ch\u1ebf bi\u1ebfn v\u00e0 ph\u1ee5c v\u1ee5. M\u1ed7i qu\u00e1n c\u00e0 ph\u00ea, t\u1eeb nh\u1eefng c\u00e1i qu\u00e1n nh\u1ecf b\u00e9 \u0111\u1ebfn nh\u1eefng chu\u1ed7i c\u00e0 ph\u00ea l\u1edbn, \u0111\u1ec1u c\u00f3 phong c\u00e1ch v\u00e0 c\u00f4ng th\u1ee9c ri\u00eang c\u1ee7a h\u1ecd. Kh\u00f4ng ch\u1ec9 c\u00f3 s\u1ef1 kh\u00e1c bi\u1ec7t v\u1ec1 h\u01b0\u01a1ng v\u1ecb, m\u00e0 c\u00f2n c\u00f3 s\u1ef1 kh\u00e1c bi\u1ec7t v\u1ec1 c\u00e1ch tr\u00ecnh b\u00e0y v\u00e0 k\u1ebft h\u1ee3p c\u00e1c nguy\u00ean li\u1ec7u. \u0110i\u1ec1u n\u00e0y t\u1ea1o ra m\u1ed9t tr\u1ea3i nghi\u1ec7m phong ph\u00fa v\u00e0 \u0111a d\u1ea1ng, cho ph\u00e9p m\u1ed7i ng\u01b0\u1eddi t\u00ecm th\u1ea5y s\u1ef1 \u01b0a th\u00edch ri\u00eang c\u1ee7a m\u00ecnh.\n",
            "\n",
            "T\u00f3m l\u1ea1i, c\u00e0 ph\u00ea s\u1eefa \u0111\u00e1 kh\u00f4ng ch\u1ec9 l\u00e0 m\u1ed9t th\u1ee9c u\u1ed1ng \u0111\u01a1n gi\u1ea3n, m\u00e0 c\u00f2n l\u00e0 m\u1ed9t ph\u1ea7n kh\u00f4ng th\u1ec3 thi\u1ebfu trong v\u0103n h\u00f3a v\u00e0 cu\u1ed9c s\u1ed1ng h\u00e0ng ng\u00e0y c\u1ee7a ng\u01b0\u1eddi Vi\u1ec7t Nam, b\u1edfi n\u00f3 t\u1ea1o ra k\u1ebft n\u1ed1i x\u00e3 h\u1ed9i, mang l\u1ea1i l\u1ee3i \u00edch cho s\u1ee9c kho\u1ebb v\u00e0 \u0111a d\u1ea1ng trong tr\u1ea3i nghi\u1ec7m.\n",
            "--------------------------------------------------\n",
            "Prompt 3:\n",
            "C\u00e0 ph\u00ea s\u1eefa \u0111\u00e1 r\u1ea5t quan tr\u1ecdng \u0111\u1ed1i v\u1edbi cu\u1ed9c s\u1ed1ng c\u1ee7a ng\u01b0\u1eddi Vi\u1ec7t Nam v\u00ec:\n",
            "\n",
            "1. **V\u0103n h\u00f3a v\u00e0 truy\u1ec1n th\u1ed1ng**: C\u00e0 ph\u00ea s\u1eefa \u0111\u00e1 \u0111\u00e3 tr\u1edf th\u00e0nh m\u1ed9t bi\u1ec3u t\u01b0\u1ee3ng v\u0103n h\u00f3a \u1edf Vi\u1ec7t Nam. N\u00f3 kh\u00f4ng ch\u1ec9 l\u00e0 m\u1ed9t th\u1ee9c u\u1ed1ng m\u00e0 c\u00f2n l\u00e0 m\u1ed9t ph\u1ea7n kh\u00f4ng th\u1ec3 thi\u1ebfu trong cu\u1ed9c s\u1ed1ng h\u00e0ng ng\u00e0y, \u0111\u1eb7c bi\u1ec7t l\u00e0 trong nh\u1eefng kho\u1ea3nh kh\u1eafc th\u01b0 gi\u00e3n, tr\u00f2 chuy\u1ec7n v\u1edbi b\u1ea1n b\u00e8 ho\u1eb7c gia \u0111\u00ecnh. \n",
            "\n",
            "2. **Kh\u1ea3 n\u0103ng t\u01b0\u01a1ng t\u00e1c x\u00e3 h\u1ed9i**: C\u00e0 ph\u00ea s\u1eefa \u0111\u00e1 th\u01b0\u1eddng \u0111\u01b0\u1ee3c th\u01b0\u1edfng th\u1ee9c t\u1ea1i c\u00e1c qu\u00e1n c\u00e0 ph\u00ea, n\u01a1i m\u00e0 m\u1ecdi ng\u01b0\u1eddi c\u00f3 th\u1ec3 g\u1eb7p g\u1ee1, tr\u00f2 chuy\u1ec7n v\u00e0 t\u01b0\u01a1ng t\u00e1c x\u00e3 h\u1ed9i. Qu\u00e1n c\u00e0 ph\u00ea tr\u1edf th\u00e0nh m\u1ed9t kh\u00f4ng gian quan tr\u1ecdng cho vi\u1ec7c trao \u0111\u1ed5i \u00fd ki\u1ebfn v\u00e0 k\u1ebft n\u1ed1i m\u1ea1ng l\u01b0\u1edbi x\u00e3 h\u1ed9i.\n",
            "\n",
            "3. **S\u1ef1 tho\u1ea3i m\u00e1i v\u00e0 th\u01b0 gi\u00e3n**: \u0110\u1ed1i v\u1edbi nhi\u1ec1u ng\u01b0\u1eddi, u\u1ed1ng c\u00e0 ph\u00ea s\u1eefa \u0111\u00e1 l\u00e0 m\u1ed9t c\u00e1ch \u0111\u1ec3 th\u01b0 gi\u00e3n sau m\u1ed9t ng\u00e0y l\u00e0m vi\u1ec7c c\u0103ng th\u1eb3ng. S\u1ef1 k\u1ebft h\u1ee3p gi\u1eefa c\u00e0 ph\u00ea v\u00e0 s\u1eefa t\u1ea1o ra m\u1ed9t h\u01b0\u01a1ng v\u1ecb d\u1ec5 ch\u1ecbu, gi\u00fap ng\u01b0\u1eddi ta c\u1ea3m th\u1ea5y tho\u1ea3i m\u00e1i v\u00e0 th\u01b0 th\u00e1i h\u01a1n.\n",
            "--------------------------------------------------\n"
          ]
        }
      ],
      "source": [
        "comparison_prompts = [\n",
        "    \"T\u1ea1i sao c\u00e0 ph\u00ea s\u1eefa \u0111\u00e1 l\u1ea1i quan tr\u1ecdng \u0111\u1ed1i v\u1edbi cu\u1ed9c s\u1ed1ng c\u1ee7a ng\u01b0\u1eddi Vi\u1ec7t Nam.\",\n",
        "    \"\"\"T\u1ea1i sao c\u00e0 ph\u00ea s\u1eefa \u0111\u00e1 l\u1ea1i quan tr\u1ecdng \u0111\u1ed1i v\u1edbi cu\u1ed9c s\u1ed1ng c\u1ee7a ng\u01b0\u1eddi Vi\u1ec7t Nam. H\u1ec7 th\u1ed1ng c\u00e2u tr\u1ea3 l\u1eddi c\u1ee7a b\u1ea1n n\u00ean nh\u01b0 sau:\n",
        "    1. K\u1ebft n\u1ed1i x\u00e3 h\u1ed9i\n",
        "    2. T\u00e1c d\u1ee5ng s\u1ee9c kho\u1ebb\n",
        "    3. S\u1ef1 \u0111a d\u1ea1ng\"\"\",\n",
        "    \"\"\"Q: T\u1ea1i sao c\u00e0 ph\u00ea s\u1eefa \u0111\u00e1 l\u1ea1i quan tr\u1ecdng \u0111\u1ed1i v\u1edbi cu\u1ed9c s\u1ed1ng c\u1ee7a ng\u01b0\u1eddi Vi\u1ec7t Nam?\n",
        "    A: C\u00e0 ph\u00ea s\u1eefa \u0111\u00e1 r\u1ea5t quan tr\u1ecdng \u0111\u1ed1i v\u1edbi cu\u1ed9c s\u1ed1ng c\u1ee7a ng\u01b0\u1eddi Vi\u1ec7t Nam v\u00ec:\n",
        "    1.\n",
        "    2.\n",
        "    3.\"\"\",\n",
        "]\n",
        "\n",
        "for i, prompt in enumerate(comparison_prompts, 1):\n",
        "    print(f\"Prompt {i}:\")\n",
        "    get_response(prompt=prompt)"
      ]
    }
  ],
  "metadata": {
    "kernelspec": {
      "display_name": ".venv",
      "language": "python",
      "name": "python3"
    },
    "language_info": {
      "codemirror_mode": {
        "name": "ipython",
        "version": 3
      },
      "file_extension": ".py",
      "mimetype": "text/x-python",
      "name": "python",
      "nbconvert_exporter": "python",
      "pygments_lexer": "ipython3",
      "version": "3.11.10"
    }
  },
  "nbformat": 4,
  "nbformat_minor": 4
}
