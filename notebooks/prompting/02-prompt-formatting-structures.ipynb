{
  "cells": [
    {
      "cell_type": "markdown",
      "metadata": {},
      "source": [
        "# Prompt Formatting and Structure Tutorial\n",
        "\n",
        "## Overview\n",
        "\n",
        "This tutorial delves into various prompt formats and structural elements used in prompt engineering, showcasing their influence on AI model outputs. We'll utilize Amazon Nova via OpenRouter and LangChain to experiment with different prompt structures and evaluate their effectiveness.\n",
        "\n",
        "## Motivation\n",
        "\n",
        "Mastering the art of prompt formatting and structuring is essential for effective interaction with AI models. Well-crafted prompts can dramatically enhance the quality, relevance, and consistency of AI-generated responses. This tutorial aims to offer practical insights into designing prompts that yield desired outcomes across a range of applications.\n",
        "\n",
        "## Key Components\n",
        "\n",
        "1. Exploring diverse prompt formats (Q&A, dialogue, instructions).\n",
        "2. Examining structural elements (headings, bullet points, numbered lists).\n",
        "3. Evaluating and comparing prompt effectiveness.\n",
        "4. Identifying best practices for prompt formatting."
      ]
    },
    {
      "cell_type": "markdown",
      "metadata": {},
      "source": [
        "## Setup\n",
        "\n",
        "First, let's import the necessary libraries and set up our environment."
      ]
    },
    {
      "cell_type": "code",
      "execution_count": 14,
      "metadata": {},
      "outputs": [],
      "source": [
        "from os import getenv\n",
        "\n",
        "from dotenv import load_dotenv\n",
        "from langchain_openai import ChatOpenAI\n",
        "\n",
        "load_dotenv()\n",
        "\n",
        "# Initialize the language model\n",
        "llm = ChatOpenAI(\n",
        "    openai_api_key=getenv(\"OPENROUTER_API_KEY\"),\n",
        "    openai_api_base=getenv(\"OPENROUTER_BASE_URL\"),\n",
        "    model_name=\"bedrock/nova-lite-v1\",\n",
        ")"
      ]
    },
    {
      "cell_type": "code",
      "execution_count": 15,
      "metadata": {},
      "outputs": [],
      "source": [
        "def get_response(prompt: str, output: bool = False):\n",
        "    \"\"\"Helper function to get model response and print it.\"\"\"\n",
        "\n",
        "    response = llm.invoke(prompt).content\n",
        "    print(response)\n",
        "    print(\"-\" * 50)\n",
        "\n",
        "    if output:\n",
        "        return response"
      ]
    },
    {
      "cell_type": "markdown",
      "metadata": {},
      "source": [
        "## Exploring Different Prompt Formats\n",
        "\n",
        "Let's explore various prompt formats using the topic of photosynthesis as our consistent theme."
      ]
    },
    {
      "cell_type": "markdown",
      "metadata": {},
      "source": [
        "### 1. Question and Answer (Q&A) Format"
      ]
    },
    {
      "cell_type": "code",
      "execution_count": 16,
      "metadata": {},
      "outputs": [
        {
          "name": "stdout",
          "output_type": "stream",
          "text": [
            "C\u00e1ch pha c\u00e0 ph\u00ea s\u1eefa \u0111\u00e1 ngon ph\u1ee5 thu\u1ed9c v\u00e0o kh\u1ea9u v\u1ecb c\u1ee7a m\u1ed7i ng\u01b0\u1eddi, nh\u01b0ng \u0111\u00e2y l\u00e0 m\u1ed9t h\u01b0\u1edbng d\u1eabn chung:\n",
            "\n",
            "**Nguy\u00ean li\u1ec7u:**\n",
            "\n",
            "* C\u00e0 ph\u00ea: 1-2 mu\u1ed7ng c\u00e0 ph\u00ea (t\u00f9y thu\u1ed9c v\u00e0o kh\u1ea9u v\u1ecb v\u00e0 lo\u1ea1i c\u00e0 ph\u00ea)\n",
            "* N\u01b0\u1edbc s\u00f4i: Kho\u1ea3ng 50-70ml (t\u00f9y thu\u1ed9c v\u00e0o l\u01b0\u1ee3ng c\u00e0 ph\u00ea)\n",
            "* S\u1eefa \u0111\u1eb7c: 1-2 mu\u1ed7ng c\u00e0 ph\u00ea (ho\u1eb7c s\u1eefa t\u01b0\u01a1i t\u00f9y th\u00edch)\n",
            "* \u0110\u00e1 vi\u00ean: Nhi\u1ec1u t\u00f9y th\u00edch\n",
            "\n",
            "**C\u00e1ch pha:**\n",
            "\n",
            "**Ph\u01b0\u01a1ng ph\u00e1p 1: Pha phin (cho c\u00e0 ph\u00ea \u0111\u1eadm \u0111\u00e0):**\n",
            "\n",
            "1. **Pha c\u00e0 ph\u00ea:** Cho c\u00e0 ph\u00ea v\u00e0o phin, chan m\u1ed9t \u00edt n\u01b0\u1edbc s\u00f4i \u0111\u1ec3 l\u00e0m \u01b0\u1edbt c\u00e0 ph\u00ea, ch\u1edd kho\u1ea3ng 30 gi\u00e2y cho c\u00e0 ph\u00ea n\u1edf.  Sau \u0111\u00f3, t\u1eeb t\u1eeb r\u00f3t n\u01b0\u1edbc s\u00f4i v\u00e0o phin, gi\u1eef cho m\u1ef1c n\u01b0\u1edbc kh\u00f4ng qu\u00e1 cao \u0111\u1ec3 c\u00e0 ph\u00ea \u0111\u01b0\u1ee3c chi\u1ebft xu\u1ea5t \u0111\u1ec1u. Ch\u1edd cho c\u00e0 ph\u00ea ch\u1ea3y h\u1ebft xu\u1ed1ng.\n",
            "2. **Pha ch\u1ebf:** Cho c\u00e0 ph\u00ea \u0111\u00e3 pha v\u00e0o ly c\u00f3 \u0111\u00e1. Th\u00eam s\u1eefa \u0111\u1eb7c (ho\u1eb7c s\u1eefa t\u01b0\u01a1i) v\u00e0o khu\u1ea5y \u0111\u1ec1u. Th\u00eam \u0111\u00e1 n\u1ebfu c\u1ea7n.\n",
            "\n",
            "**Ph\u01b0\u01a1ng ph\u00e1p 2: Pha b\u1eb1ng m\u00e1y pha c\u00e0 ph\u00ea (cho c\u00e0 ph\u00ea nhanh ch\u00f3ng):**\n",
            "\n",
            "1. **Pha c\u00e0 ph\u00ea:** S\u1eed d\u1ee5ng m\u00e1y pha c\u00e0 ph\u00ea \u0111\u1ec3 pha m\u1ed9t l\u01b0\u1ee3ng c\u00e0 ph\u00ea espresso ho\u1eb7c c\u00e0 ph\u00ea \u0111en theo s\u1edf th\u00edch.\n",
            "2. **Pha ch\u1ebf:** Cho c\u00e0 ph\u00ea \u0111\u00e3 pha v\u00e0o ly c\u00f3 \u0111\u00e1. Th\u00eam s\u1eefa \u0111\u1eb7c (ho\u1eb7c s\u1eefa t\u01b0\u01a1i) v\u00e0o khu\u1ea5y \u0111\u1ec1u. Th\u00eam \u0111\u00e1 n\u1ebfu c\u1ea7n.\n",
            "\n",
            "**Ph\u01b0\u01a1ng ph\u00e1p 3: Pha c\u00e0 ph\u00ea h\u00f2a tan (cho c\u00e0 ph\u00ea ti\u1ec7n l\u1ee3i):**\n",
            "\n",
            "1. **Pha c\u00e0 ph\u00ea:** Cho c\u00e0 ph\u00ea h\u00f2a tan v\u00e0o ly, th\u00eam n\u01b0\u1edbc n\u00f3ng khu\u1ea5y \u0111\u1ec1u cho tan. \u0110\u1ec3 ngu\u1ed9i b\u1edbt.\n",
            "2. **Pha ch\u1ebf:** Cho c\u00e0 ph\u00ea \u0111\u00e3 pha v\u00e0o ly c\u00f3 \u0111\u00e1. Th\u00eam s\u1eefa \u0111\u1eb7c (ho\u1eb7c s\u1eefa t\u01b0\u01a1i) v\u00e0o khu\u1ea5y \u0111\u1ec1u. Th\u00eam \u0111\u00e1 n\u1ebfu c\u1ea7n.\n",
            "\n",
            "\n",
            "**M\u1eb9o nh\u1ecf:**\n",
            "\n",
            "* **T\u1ef7 l\u1ec7 c\u00e0 ph\u00ea v\u00e0 s\u1eefa:**  T\u00f9y thu\u1ed9c v\u00e0o kh\u1ea9u v\u1ecb b\u1ea1n th\u00edch c\u00e0 ph\u00ea \u0111\u1eadm hay nh\u1ea1t, \u0111i\u1ec1u ch\u1ec9nh l\u01b0\u1ee3ng c\u00e0 ph\u00ea v\u00e0 s\u1eefa cho ph\u00f9 h\u1ee3p.\n",
            "* **Lo\u1ea1i s\u1eefa:** C\u00f3 th\u1ec3 d\u00f9ng s\u1eefa \u0111\u1eb7c, s\u1eefa t\u01b0\u01a1i, s\u1eefa c\u00f3 \u0111\u01b0\u1eddng, ho\u1eb7c c\u00e1c lo\u1ea1i s\u1eefa th\u1ef1c v\u1eadt kh\u00e1c.\n",
            "* **Lo\u1ea1i c\u00e0 ph\u00ea:** C\u00e0 ph\u00ea Robusta cho v\u1ecb \u0111\u1eafng m\u1ea1nh, Arabica cho v\u1ecb th\u01a1m v\u00e0 nh\u1eb9 nh\u00e0ng h\u01a1n.\n",
            "* **\u0110\u00e1 vi\u00ean:** N\u00ean d\u00f9ng \u0111\u00e1 vi\u00ean nh\u1ecf \u0111\u1ec3 c\u00e0 ph\u00ea kh\u00f4ng b\u1ecb lo\u00e3ng qu\u00e1 nhanh.\n",
            "\n",
            "\n",
            "H\u00e3y th\u1eed nghi\u1ec7m v\u1edbi c\u00e1c t\u1ef7 l\u1ec7 kh\u00e1c nhau \u0111\u1ec3 t\u00ecm ra c\u00f4ng th\u1ee9c pha c\u00e0 ph\u00ea s\u1eefa \u0111\u00e1 ngon nh\u1ea5t theo kh\u1ea9u v\u1ecb c\u1ee7a b\u1ea1n!\n",
            "\n",
            "--------------------------------------------------\n"
          ]
        }
      ],
      "source": [
        "qa_prompt = \"\"\"Q: C\u00e1ch pha c\u00e0 ph\u00ea s\u1eefa \u0111\u00e1?\n",
        "A:\"\"\"\n",
        "\n",
        "get_response(prompt=qa_prompt)"
      ]
    },
    {
      "cell_type": "markdown",
      "metadata": {},
      "source": [
        "### 2. Dialogue Format"
      ]
    },
    {
      "cell_type": "code",
      "execution_count": 17,
      "metadata": {},
      "outputs": [
        {
          "name": "stdout",
          "output_type": "stream",
          "text": [
            "Teacher: B\u00ed quy\u1ebft \u0111\u1ec3 c\u00f3 m\u1ed9t ly c\u00e0 ph\u00ea s\u1eefa \u0111\u00e1 ngon n\u1eb1m \u1edf s\u1ef1 c\u00e2n b\u1eb1ng gi\u1eefa v\u1ecb \u0111\u1eafng c\u1ee7a c\u00e0 ph\u00ea, \u0111\u1ed9 ng\u1ecdt v\u00e0 b\u00e9o ng\u1eady c\u1ee7a s\u1eefa, c\u00f9ng v\u1edbi \u0111\u1ed9 l\u1ea1nh v\u1eeba ph\u1ea3i.  Kh\u00f4ng c\u00f3 c\u00f4ng th\u1ee9c ch\u00ednh x\u00e1c, nh\u01b0ng m\u00ecnh s\u1ebd chia s\u1ebb m\u1ed9t v\u00e0i \u0111i\u1ec3m quan tr\u1ecdng:\n",
            "\n",
            "* **C\u00e0 ph\u00ea ngon:**  \u0110\u00e2y l\u00e0 y\u1ebfu t\u1ed1 quan tr\u1ecdng nh\u1ea5t.  H\u00e3y d\u00f9ng lo\u1ea1i c\u00e0 ph\u00ea h\u1ea1t rang xay t\u01b0\u01a1i, ph\u00f9 h\u1ee3p v\u1edbi kh\u1ea9u v\u1ecb c\u1ee7a b\u1ea1n.  C\u00e0 ph\u00ea rang \u0111\u1eadm s\u1ebd cho v\u1ecb \u0111\u1eafng m\u1ea1nh, rang v\u1eeba s\u1ebd c\u00f3 v\u1ecb c\u00e2n b\u1eb1ng h\u01a1n.  C\u00e1ch pha c\u00e0 ph\u00ea c\u0169ng \u1ea3nh h\u01b0\u1edfng r\u1ea5t nhi\u1ec1u, b\u1ea1n c\u00f3 th\u1ec3 d\u00f9ng phin, m\u00e1y pha espresso, ho\u1eb7c c\u00e0 ph\u00ea h\u00f2a tan ch\u1ea5t l\u01b0\u1ee3ng cao.  Quan tr\u1ecdng l\u00e0 c\u00e0 ph\u00ea ph\u1ea3i th\u01a1m ngon v\u00e0 \u0111\u1eadm \u0111\u00e0.\n",
            "\n",
            "* **S\u1eefa t\u01b0\u01a1i ngon:** S\u1eefa t\u01b0\u01a1i nguy\u00ean kem s\u1ebd cho v\u1ecb b\u00e9o ng\u1eady v\u00e0 th\u01a1m ngon h\u01a1n.  B\u1ea1n c\u00f3 th\u1ec3 d\u00f9ng s\u1eefa \u0111\u1eb7c n\u1ebfu mu\u1ed1n ly c\u00e0 ph\u00ea ng\u1ecdt h\u01a1n, nh\u01b0ng n\u00ean \u0111i\u1ec1u ch\u1ec9nh l\u01b0\u1ee3ng \u0111\u01b0\u1eddng cho ph\u00f9 h\u1ee3p.\n",
            "\n",
            "* **T\u1ef7 l\u1ec7 c\u00e0 ph\u00ea v\u00e0 s\u1eefa:** T\u1ef7 l\u1ec7 n\u00e0y ph\u1ee5 thu\u1ed9c v\u00e0o kh\u1ea9u v\u1ecb c\u00e1 nh\u00e2n.  B\u1ea1n c\u00f3 th\u1ec3 b\u1eaft \u0111\u1ea7u v\u1edbi t\u1ef7 l\u1ec7 1:1 (c\u00e0 ph\u00ea: s\u1eefa) r\u1ed3i \u0111i\u1ec1u ch\u1ec9nh cho \u0111\u1ebfn khi t\u00ecm \u0111\u01b0\u1ee3c t\u1ef7 l\u1ec7 \u01b0ng \u00fd.  N\u1ebfu th\u00edch c\u00e0 ph\u00ea \u0111\u1eadm h\u01a1n, h\u00e3y t\u0103ng l\u01b0\u1ee3ng c\u00e0 ph\u00ea. N\u1ebfu th\u00edch s\u1eefa nhi\u1ec1u h\u01a1n, h\u00e3y t\u0103ng l\u01b0\u1ee3ng s\u1eefa.\n",
            "\n",
            "* **\u0110\u01b0\u1eddng:**  Th\u00eam \u0111\u01b0\u1eddng t\u00f9y theo s\u1edf th\u00edch.  N\u00ean cho \u0111\u01b0\u1eddng v\u00e0o s\u1eefa tr\u01b0\u1edbc khi tr\u1ed9n v\u1edbi c\u00e0 ph\u00ea \u0111\u1ec3 \u0111\u01b0\u1eddng tan \u0111\u1ec1u.\n",
            "\n",
            "* **\u0110\u1ed9 l\u1ea1nh:** C\u00e0 ph\u00ea s\u1eefa \u0111\u00e1 ngon ph\u1ea3i th\u1eadt l\u1ea1nh, nh\u01b0ng kh\u00f4ng \u0111\u01b0\u1ee3c \u0111\u1ec3 \u0111\u00e1 l\u00e0m lo\u00e3ng c\u00e0 ph\u00ea qu\u00e1 nhanh.  B\u1ea1n n\u00ean d\u00f9ng \u0111\u00e1 vi\u00ean nh\u1ecf ho\u1eb7c xay nhuy\u1ec5n \u0111\u1ec3 gi\u1eef \u0111\u01b0\u1ee3c \u0111\u1ed9 l\u1ea1nh l\u00e2u h\u01a1n m\u00e0 kh\u00f4ng l\u00e0m lo\u00e3ng c\u00e0 ph\u00ea.\n",
            "\n",
            "* **C\u00e1ch pha:**  Pha c\u00e0 ph\u00ea tr\u01b0\u1edbc, \u0111\u1ec3 ngu\u1ed9i b\u1edbt r\u1ed3i m\u1edbi cho s\u1eefa v\u00e0 \u0111\u01b0\u1eddng v\u00e0o.  Khu\u1ea5y \u0111\u1ec1u tay cho \u0111\u1ebfn khi t\u1ea5t c\u1ea3 c\u00e1c nguy\u00ean li\u1ec7u h\u00f2a quy\u1ec7n v\u00e0o nhau.  Kh\u00f4ng n\u00ean \u0111\u1ec3 \u0111\u00e1 v\u00e0o qu\u00e1 s\u1edbm v\u00ec s\u1ebd l\u00e0m c\u00e0 ph\u00ea b\u1ecb nh\u1ea1t.\n",
            "\n",
            "T\u00f3m l\u1ea1i, b\u00ed quy\u1ebft l\u00e0 s\u1ef1 k\u1ebft h\u1ee3p h\u00e0i h\u00f2a gi\u1eefa c\u00e0 ph\u00ea ch\u1ea5t l\u01b0\u1ee3ng, s\u1eefa t\u01b0\u01a1i ngon, t\u1ef7 l\u1ec7 ph\u00f9 h\u1ee3p v\u00e0  m\u1ed9t ch\u00fat kh\u00e9o l\u00e9o trong c\u00e1ch pha ch\u1ebf. H\u00e3y th\u1eed nghi\u1ec7m v\u00e0 t\u00ecm ra c\u00f4ng th\u1ee9c ri\u00eang c\u1ee7a m\u00ecnh nh\u00e9!\n",
            "\n",
            "--------------------------------------------------\n"
          ]
        }
      ],
      "source": [
        "dialogue_prompt = \"\"\"Student: H\u00e3y ch\u1ec9 em c\u00e1ch pha c\u00e0 ph\u00ea s\u1eefa \u0111\u00e1?\n",
        "Teacher: Okay! c\u00e1ch pha c\u0169ng d\u1ec5 th\u00f4i ...\n",
        "Student: V\u1eady b\u00ed quy\u1ebft \u0111\u1ec3 pha m\u1ed9t ly c\u00e0 ph\u00ea s\u1eefa \u0111\u00e1 ngon l\u00e0 g\u00ec?\n",
        "Teacher:\"\"\"\n",
        "\n",
        "get_response(prompt=dialogue_prompt)"
      ]
    },
    {
      "cell_type": "markdown",
      "metadata": {},
      "source": [
        "### 3. Instruction Format"
      ]
    },
    {
      "cell_type": "code",
      "execution_count": 18,
      "metadata": {},
      "outputs": [
        {
          "name": "stdout",
          "output_type": "stream",
          "text": [
            "Pha c\u00e0 ph\u00ea s\u1eefa \u0111\u00e1 r\u1ea5t \u0111\u01a1n gi\u1ea3n! B\u1ea1n c\u1ea7n 3 th\u00e0nh ph\u1ea7n ch\u00ednh:\n",
            "\n",
            "1. **C\u00e0 ph\u00ea:** \u0110\u00e2y l\u00e0 linh h\u1ed3n c\u1ee7a th\u1ee9c u\u1ed1ng.  B\u1ea1n c\u00f3 th\u1ec3 d\u00f9ng c\u00e0 ph\u00ea pha phin, c\u00e0 ph\u00ea h\u00f2a tan, ho\u1eb7c espresso, t\u00f9y s\u1edf th\u00edch.  C\u00e0 ph\u00ea \u0111\u1eadm \u0111\u1eb7c s\u1ebd cho ly c\u00e0 ph\u00ea s\u1eefa \u0111\u00e1 ngon h\u01a1n.  **T\u1ea7m quan tr\u1ecdng:** Cung c\u1ea5p v\u1ecb \u0111\u1eafng, th\u01a1m v\u00e0 h\u01b0\u01a1ng v\u1ecb \u0111\u1eb7c tr\u01b0ng c\u1ee7a c\u00e0 ph\u00ea.\n",
            "\n",
            "2. **S\u1eefa:** Th\u01b0\u1eddng d\u00f9ng s\u1eefa t\u01b0\u01a1i ho\u1eb7c s\u1eefa \u0111\u1eb7c. S\u1eefa t\u01b0\u01a1i cho v\u1ecb thanh nh\u1eb9, s\u1eefa \u0111\u1eb7c cho v\u1ecb b\u00e9o ng\u1ecdt.  **T\u1ea7m quan tr\u1ecdng:** L\u00e0m gi\u1ea3m \u0111\u1ed9 \u0111\u1eafng c\u1ee7a c\u00e0 ph\u00ea, t\u1ea1o \u0111\u1ed9 b\u00e9o ng\u1eady v\u00e0 ng\u1ecdt d\u1ecbu, c\u00e2n b\u1eb1ng h\u01b0\u01a1ng v\u1ecb.\n",
            "\n",
            "3. **\u0110\u00e1:**  \u0110\u00e1 vi\u00ean gi\u00fap l\u00e0m l\u1ea1nh c\u00e0 ph\u00ea s\u1eefa, t\u1ea1o n\u00ean c\u1ea3m gi\u00e1c m\u00e1t l\u1ea1nh s\u1ea3ng kho\u00e1i. **T\u1ea7m quan tr\u1ecdng:**  L\u00e0m cho th\u1ee9c u\u1ed1ng d\u1ec5 u\u1ed1ng h\u01a1n, nh\u1ea5t l\u00e0 trong th\u1eddi ti\u1ebft n\u00f3ng.\n",
            "\n",
            "**C\u00e1ch pha:**\n",
            "\n",
            "1. Pha c\u00e0 ph\u00ea theo c\u00e1ch b\u1ea1n th\u00edch.\n",
            "2. Cho s\u1eefa v\u00e0o ly (l\u01b0\u1ee3ng s\u1eefa t\u00f9y kh\u1ea9u v\u1ecb, th\u00edch nhi\u1ec1u s\u1eefa th\u00ec cho nhi\u1ec1u, th\u00edch \u00edt th\u00ec cho \u00edt).\n",
            "3. Cho c\u00e0 ph\u00ea v\u00e0o ly s\u1eefa.\n",
            "4. Cho \u0111\u00e1 v\u00e0o v\u00e0 khu\u1ea5y \u0111\u1ec1u.\n",
            "\n",
            "V\u1eady l\u00e0 b\u1ea1n \u0111\u00e3 c\u00f3 m\u1ed9t ly c\u00e0 ph\u00ea s\u1eefa \u0111\u00e1 th\u01a1m ngon r\u1ed3i!  T\u00f9y s\u1edf th\u00edch, b\u1ea1n c\u00f3 th\u1ec3 th\u00eam \u0111\u01b0\u1eddng \u0111\u1ec3 t\u0103ng \u0111\u1ed9 ng\u1ecdt.\n",
            "\n",
            "--------------------------------------------------\n"
          ]
        }
      ],
      "source": [
        "instruction_prompt = \"\"\"H\u00e3y gi\u1ea3i th\u00edch m\u1ed9t c\u00e1ch \u0111\u01a1n gi\u1ea3n c\u00e1ch pha c\u00e0 ph\u00ea s\u1eefa \u0111\u00e1, bao g\u1ed3m c\u00e1c th\u00e0nh ph\u1ea7n ch\u00ednh v\u00e0 t\u1ea7m quan tr\u1ecdng c\u1ee7a n\u00f3.\"\"\"\n",
        "\n",
        "get_response(prompt=instruction_prompt)"
      ]
    },
    {
      "cell_type": "markdown",
      "metadata": {},
      "source": [
        "## Impact of Structural Elements\n",
        "\n",
        "Now, let's examine how structural elements like headings and lists affect the AI's response."
      ]
    },
    {
      "cell_type": "markdown",
      "metadata": {},
      "source": [
        "### 1. Using Headings"
      ]
    },
    {
      "cell_type": "code",
      "execution_count": 19,
      "metadata": {},
      "outputs": [
        {
          "name": "stdout",
          "output_type": "stream",
          "text": [
            "# \u0110\u1ecbnh ngh\u0129a\n",
            "\n",
            "C\u00e0 ph\u00ea s\u1eefa \u0111\u00e1 l\u00e0 m\u1ed9t lo\u1ea1i th\u1ee9c u\u1ed1ng \u0111\u01b0\u1ee3c pha ch\u1ebf t\u1eeb c\u00e0 ph\u00ea espresso ho\u1eb7c c\u00e0 ph\u00ea phin, s\u1eefa t\u01b0\u01a1i ho\u1eb7c s\u1eefa \u0111\u1eb7c, v\u00e0 \u0111\u00e1 vi\u00ean.  N\u00f3 \u0111\u01b0\u1ee3c bi\u1ebft \u0111\u1ebfn v\u1edbi h\u01b0\u01a1ng v\u1ecb \u0111\u1eadm \u0111\u00e0 c\u1ee7a c\u00e0 ph\u00ea k\u1ebft h\u1ee3p v\u1edbi v\u1ecb ng\u1ecdt v\u00e0 b\u00e9o ng\u1eady c\u1ee7a s\u1eefa, t\u1ea1o n\u00ean m\u1ed9t th\u1ee9c u\u1ed1ng gi\u1ea3i kh\u00e1t ph\u1ed5 bi\u1ebfn, \u0111\u1eb7c bi\u1ec7t trong kh\u00ed h\u1eadu n\u00f3ng \u1ea9m.\n",
            "\n",
            "\n",
            "# Qu\u00e1 tr\u00ecnh\n",
            "\n",
            "1. **Chu\u1ea9n b\u1ecb c\u00e0 ph\u00ea:**  Pha c\u00e0 ph\u00ea espresso b\u1eb1ng m\u00e1y pha espresso ho\u1eb7c pha c\u00e0 ph\u00ea phin theo c\u00e1ch truy\u1ec1n th\u1ed1ng.  L\u01b0\u1ee3ng c\u00e0 ph\u00ea t\u00f9y thu\u1ed9c v\u00e0o kh\u1ea9u v\u1ecb v\u00e0 l\u01b0\u1ee3ng th\u1ee9c u\u1ed1ng mu\u1ed1n pha.  N\u1ebfu d\u00f9ng c\u00e0 ph\u00ea phin, n\u00ean \u0111\u1ec3 c\u00e0 ph\u00ea ngu\u1ed9i b\u1edbt tr\u01b0\u1edbc khi cho s\u1eefa v\u00e0o \u0111\u1ec3 tr\u00e1nh l\u00e0m s\u1eefa b\u1ecb v\u00f3n c\u1ee5c.\n",
            "\n",
            "2. **Chu\u1ea9n b\u1ecb s\u1eefa:** Cho s\u1eefa t\u01b0\u01a1i ho\u1eb7c s\u1eefa \u0111\u1eb7c v\u00e0o ly theo t\u1ef7 l\u1ec7 mong mu\u1ed1n.  T\u1ef7 l\u1ec7 c\u00e0 ph\u00ea v\u00e0 s\u1eefa ph\u1ee5 thu\u1ed9c v\u00e0o s\u1edf th\u00edch c\u00e1 nh\u00e2n, c\u00f3 th\u1ec3 pha \u0111\u1eadm c\u00e0 ph\u00ea ho\u1eb7c nh\u1ea1t c\u00e0 ph\u00ea t\u00f9y \u00fd.\n",
            "\n",
            "3. **Tr\u1ed9n c\u00e0 ph\u00ea v\u00e0 s\u1eefa:**  Cho c\u00e0 ph\u00ea \u0111\u00e3 pha v\u00e0o ly ch\u1ee9a s\u1eefa.  Khu\u1ea5y \u0111\u1ec1u h\u1ed7n h\u1ee3p cho \u0111\u1ebfn khi c\u00e0 ph\u00ea v\u00e0 s\u1eefa h\u00f2a quy\u1ec7n ho\u00e0n to\u00e0n.\n",
            "\n",
            "4. **Th\u00eam \u0111\u00e1:** Cho \u0111\u00e1 vi\u00ean v\u00e0o ly.  L\u01b0\u1ee3ng \u0111\u00e1 t\u00f9y thu\u1ed9c v\u00e0o s\u1edf th\u00edch v\u1ec1 \u0111\u1ed9 l\u1ea1nh c\u1ee7a th\u1ee9c u\u1ed1ng.\n",
            "\n",
            "5. **Ho\u00e0n thi\u1ec7n:**  C\u00f3 th\u1ec3 trang tr\u00ed th\u00eam b\u1eb1ng m\u1ed9t \u00edt b\u1ed9t cacao, qu\u1ebf xay ho\u1eb7c kem t\u01b0\u01a1i t\u00f9y th\u00edch.\n",
            "\n",
            "\n",
            "# Th\u00e0nh ph\u1ea7n ch\u00ednh\n",
            "\n",
            "* **C\u00e0 ph\u00ea:** Espresso ho\u1eb7c c\u00e0 ph\u00ea phin, \u0111\u00f3ng vai tr\u00f2 ch\u00ednh t\u1ea1o n\u00ean h\u01b0\u01a1ng v\u1ecb \u0111\u1eb7c tr\u01b0ng c\u1ee7a th\u1ee9c u\u1ed1ng.\n",
            "* **S\u1eefa:** S\u1eefa t\u01b0\u01a1i ho\u1eb7c s\u1eefa \u0111\u1eb7c, t\u1ea1o \u0111\u1ed9 b\u00e9o ng\u1eady, ng\u1ecdt ng\u00e0o v\u00e0 l\u00e0m gi\u1ea3m \u0111\u1ed9 \u0111\u1eafng c\u1ee7a c\u00e0 ph\u00ea.\n",
            "* **\u0110\u00e1 vi\u00ean:** L\u00e0m l\u1ea1nh th\u1ee9c u\u1ed1ng, t\u1ea1o c\u1ea3m gi\u00e1c s\u1ea3ng kho\u00e1i.\n",
            "\n",
            "--------------------------------------------------\n"
          ]
        }
      ],
      "source": [
        "headings_prompt = \"\"\"Gi\u1ea3i th\u00edch c\u00e1ch pha c\u00e0 ph\u00ea s\u1eefa \u0111\u00e1 v\u1edbi c\u1ea5u tr\u00fac nh\u01b0 sau:\n",
        "\n",
        "# \u0110\u1ecbnh ngh\u0129a\n",
        "\n",
        "# Qu\u00e1 tr\u00ecnh\n",
        "\n",
        "# Th\u00e0nh ph\u1ea7n ch\u00ednh\n",
        "\"\"\"\n",
        "\n",
        "get_response(prompt=headings_prompt)"
      ]
    },
    {
      "cell_type": "markdown",
      "metadata": {},
      "source": [
        "### 2. Using Bullet Points"
      ]
    },
    {
      "cell_type": "code",
      "execution_count": 20,
      "metadata": {},
      "outputs": [
        {
          "name": "stdout",
          "output_type": "stream",
          "text": [
            "* C\u00e0 ph\u00ea\n",
            "* S\u1eefa (th\u01b0\u1eddng l\u00e0 s\u1eefa \u0111\u1eb7c ho\u1eb7c s\u1eefa t\u01b0\u01a1i)\n",
            "* N\u01b0\u1edbc \u0111\u00e1\n",
            "\n",
            "--------------------------------------------------\n"
          ]
        }
      ],
      "source": [
        "bullet_points_prompt = \"\"\"Li\u1ec7t k\u00ea c\u00e1c th\u00e0nh ph\u1ea7n ch\u00ednh c\u1ee7a c\u00e0 ph\u00ea s\u1eefa \u0111\u00e1:\n",
        "\n",
        "\u2022 \n",
        "\u2022 \n",
        "\u2022 \n",
        "\"\"\"\n",
        "\n",
        "get_response(prompt=bullet_points_prompt)"
      ]
    },
    {
      "cell_type": "markdown",
      "metadata": {},
      "source": [
        "### 3. Using Numbered Lists"
      ]
    },
    {
      "cell_type": "code",
      "execution_count": 21,
      "metadata": {},
      "outputs": [
        {
          "name": "stdout",
          "output_type": "stream",
          "text": [
            "\u0110\u1ec3 pha c\u00e0 ph\u00ea s\u1eefa \u0111\u00e1 ngon, b\u1ea1n c\u00f3 th\u1ec3 l\u00e0m theo c\u00e1c b\u01b0\u1edbc sau:\n",
            "\n",
            "1. **Pha c\u00e0 ph\u00ea:** Chu\u1ea9n b\u1ecb c\u00e0 ph\u00ea theo s\u1edf th\u00edch (pha phin, m\u00e1y pha espresso, c\u00e0 ph\u00ea h\u00f2a tan...).  N\u1ebfu d\u00f9ng phin, cho c\u00e0 ph\u00ea v\u00e0o phin, r\u00f3t n\u01b0\u1edbc s\u00f4i t\u1eeb t\u1eeb, ch\u1edd c\u00e0 ph\u00ea ch\u1ea3y xu\u1ed1ng.  N\u1ebfu d\u00f9ng m\u00e1y espresso, h\u00e3y pha m\u1ed9t shot espresso.  N\u1ebfu d\u00f9ng c\u00e0 ph\u00ea h\u00f2a tan, h\u00e3y h\u00f2a tan v\u1edbi n\u01b0\u1edbc n\u00f3ng theo h\u01b0\u1edbng d\u1eabn tr\u00ean bao b\u00ec.  L\u01b0\u1ee3ng c\u00e0 ph\u00ea t\u00f9y thu\u1ed9c v\u00e0o kh\u1ea9u v\u1ecb, nh\u01b0ng th\u00f4ng th\u01b0\u1eddng kho\u1ea3ng 1-2 mu\u1ed7ng c\u00e0 ph\u00ea cho m\u1ed9t ly.\n",
            "\n",
            "2. **L\u00e0m l\u1ea1nh c\u00e0 ph\u00ea:** \u0110\u1ec3 c\u00e0 ph\u00ea ngu\u1ed9i b\u1edbt.  B\u1ea1n c\u00f3 th\u1ec3 \u0111\u1ec3 c\u00e0 ph\u00ea ngu\u1ed9i t\u1ef1 nhi\u00ean ho\u1eb7c cho v\u00e0o ng\u0103n m\u00e1t t\u1ee7 l\u1ea1nh kho\u1ea3ng 15-20 ph\u00fat \u0111\u1ec3 l\u00e0m l\u1ea1nh nhanh h\u01a1n.  Tuy\u1ec7t \u0111\u1ed1i kh\u00f4ng cho c\u00e0 ph\u00ea c\u00f2n n\u00f3ng v\u00e0o \u0111\u00e1 v\u00ec s\u1ebd l\u00e0m \u0111\u00e1 tan nhanh v\u00e0 l\u00e0m lo\u00e3ng c\u00e0 ph\u00ea.\n",
            "\n",
            "3. **Th\u00eam \u0111\u00e1:** Cho \u0111\u00e1 vi\u00ean v\u00e0o ly.  L\u01b0\u1ee3ng \u0111\u00e1 t\u00f9y thu\u1ed9c v\u00e0o k\u00edch th\u01b0\u1edbc ly v\u00e0 s\u1edf th\u00edch, nh\u01b0ng n\u00ean cho \u0111\u1ee7 \u0111\u1ec3 c\u00e0 ph\u00ea \u0111\u01b0\u1ee3c gi\u1eef l\u1ea1nh trong th\u1eddi gian d\u00e0i.\n",
            "\n",
            "4. **Th\u00eam s\u1eefa v\u00e0 khu\u1ea5y \u0111\u1ec1u:**  Th\u00eam s\u1eefa (s\u1eefa t\u01b0\u01a1i, s\u1eefa \u0111\u1eb7c, ho\u1eb7c s\u1eefa c\u00f3 \u0111\u01b0\u1eddng) v\u00e0o ly c\u00e0 ph\u00ea \u0111\u00e3 c\u00f3 \u0111\u00e1.  Khu\u1ea5y \u0111\u1ec1u cho \u0111\u1ebfn khi c\u00e0 ph\u00ea v\u00e0 s\u1eefa h\u00f2a quy\u1ec7n ho\u00e0n to\u00e0n.  T\u1ef7 l\u1ec7 c\u00e0 ph\u00ea v\u00e0 s\u1eefa t\u00f9y thu\u1ed9c s\u1edf th\u00edch, c\u00f3 th\u1ec3 pha lo\u00e3ng ho\u1eb7c \u0111\u1eadm \u0111\u1eb7c theo \u00fd mu\u1ed1n.  B\u1ea1n c\u00f3 th\u1ec3 n\u1ebfm th\u1eed v\u00e0 \u0111i\u1ec1u ch\u1ec9nh l\u01b0\u1ee3ng s\u1eefa cho ph\u00f9 h\u1ee3p.\n",
            "\n",
            "--------------------------------------------------\n"
          ]
        }
      ],
      "source": [
        "numbered_list_prompt = \"\"\"Gi\u1ea3i th\u00edch c\u00e1ch pha c\u00e0 ph\u00ea s\u1eefa \u0111\u00e1 v\u1edbi tr\u00ecnh t\u1ef1 nh\u01b0 sau:\n",
        "\n",
        "1.\n",
        "2.\n",
        "3.\n",
        "4.\n",
        "\"\"\"\n",
        "\n",
        "get_response(prompt=numbered_list_prompt)"
      ]
    },
    {
      "cell_type": "markdown",
      "metadata": {},
      "source": [
        "## Comparing Prompt Effectiveness\n",
        "\n",
        "Let's compare the effectiveness of different prompt structures for a specific task."
      ]
    },
    {
      "cell_type": "code",
      "execution_count": 22,
      "metadata": {},
      "outputs": [
        {
          "name": "stdout",
          "output_type": "stream",
          "text": [
            "Prompt 1:\n",
            "C\u00e0 ph\u00ea s\u1eefa \u0111\u00e1 kh\u00f4ng ch\u1ec9 l\u00e0 m\u1ed9t th\u1ee9c u\u1ed1ng \u0111\u01a1n thu\u1ea7n m\u00e0 \u0111\u00e3 tr\u1edf th\u00e0nh m\u1ed9t ph\u1ea7n kh\u00f4ng th\u1ec3 thi\u1ebfu trong v\u0103n h\u00f3a v\u00e0 cu\u1ed9c s\u1ed1ng c\u1ee7a ng\u01b0\u1eddi Vi\u1ec7t Nam v\u00ec nhi\u1ec1u l\u00fd do:\n",
            "\n",
            "* **S\u1ef1 ph\u1ed5 bi\u1ebfn r\u1ed9ng r\u00e3i v\u00e0 gi\u00e1 c\u1ea3 ph\u1ea3i ch\u0103ng:** C\u00e0 ph\u00ea s\u1eefa \u0111\u00e1 c\u00f3 m\u1eb7t kh\u1eafp m\u1ecdi n\u01a1i, t\u1eeb qu\u00e1n c\u00f3c nh\u1ecf ven \u0111\u01b0\u1eddng \u0111\u1ebfn nh\u1eefng c\u1eeda h\u00e0ng sang tr\u1ecdng. Gi\u00e1 th\u00e0nh l\u1ea1i r\u1ea5t h\u1ee3p l\u00fd, d\u1ec5 d\u00e0ng ti\u1ebfp c\u1eadn v\u1edbi m\u1ecdi t\u1ea7ng l\u1edbp x\u00e3 h\u1ed9i.  \u0110i\u1ec1u n\u00e0y khi\u1ebfn n\u00f3 tr\u1edf th\u00e0nh th\u1ee9c u\u1ed1ng qu\u1ed1c d\u00e2n, \u0111\u01b0\u1ee3c ng\u01b0\u1eddi d\u00e2n t\u1eeb th\u00e0nh th\u1ecb \u0111\u1ebfn n\u00f4ng th\u00f4n y\u00eau th\u00edch.\n",
            "\n",
            "* **N\u0103ng l\u01b0\u1ee3ng v\u00e0 s\u1ef1 t\u1ec9nh t\u00e1o:** C\u00e0 ph\u00ea l\u00e0 ngu\u1ed3n cung c\u1ea5p caffeine, gi\u00fap ng\u01b0\u1eddi Vi\u1ec7t Nam t\u1ec9nh t\u00e1o v\u00e0 n\u0103ng \u0111\u1ed9ng \u0111\u1ec3 b\u1eaft \u0111\u1ea7u m\u1ed9t ng\u00e0y l\u00e0m vi\u1ec7c hay h\u1ecdc t\u1eadp b\u1eadn r\u1ed9n.  S\u1eefa v\u00e0 \u0111\u00e1 gi\u00fap l\u00e0m d\u1ecbu b\u1edbt v\u1ecb \u0111\u1eafng c\u1ee7a c\u00e0 ph\u00ea, t\u1ea1o n\u00ean s\u1ef1 c\u00e2n b\u1eb1ng d\u1ec5 ch\u1ecbu.\n",
            "\n",
            "* **G\u1eafn li\u1ec1n v\u1edbi c\u00e1c ho\u1ea1t \u0111\u1ed9ng x\u00e3 h\u1ed9i:**  C\u00e0 ph\u00ea s\u1eefa \u0111\u00e1 l\u00e0 ng\u01b0\u1eddi b\u1ea1n \u0111\u1ed3ng h\u00e0nh trong nh\u1eefng bu\u1ed5i g\u1eb7p g\u1ee1 b\u1ea1n b\u00e8, h\u1ecdp nh\u00f3m, tr\u00f2 chuy\u1ec7n. Vi\u1ec7c c\u00f9ng nhau nh\u00e2m nhi ly c\u00e0 ph\u00ea s\u1eefa \u0111\u00e1 t\u1ea1o n\u00ean kh\u00f4ng kh\u00ed th\u00e2n m\u1eadt, g\u1ea7n g\u0169i v\u00e0 tho\u1ea3i m\u00e1i. Qu\u00e1n c\u00e0 ph\u00ea tr\u1edf th\u00e0nh n\u01a1i giao l\u01b0u, chia s\u1ebb, k\u1ebft n\u1ed1i c\u1ed9ng \u0111\u1ed3ng.\n",
            "\n",
            "* **M\u1ed9t ph\u1ea7n c\u1ee7a v\u0103n h\u00f3a v\u00e0 l\u1ecbch s\u1eed:**  Vi\u1ec7c tr\u1ed3ng v\u00e0 th\u01b0\u1edfng th\u1ee9c c\u00e0 ph\u00ea \u0111\u00e3 c\u00f3 l\u1ecbch s\u1eed l\u00e2u \u0111\u1eddi \u1edf Vi\u1ec7t Nam. C\u00e0 ph\u00ea s\u1eefa \u0111\u00e1, v\u1edbi s\u1ef1 k\u1ebft h\u1ee3p gi\u1eefa c\u00e0 ph\u00ea truy\u1ec1n th\u1ed1ng v\u00e0 kh\u1ea9u v\u1ecb ng\u01b0\u1eddi Vi\u1ec7t, \u0111\u00e3 tr\u1edf th\u00e0nh m\u1ed9t bi\u1ec3u t\u01b0\u1ee3ng v\u0103n h\u00f3a, ph\u1ea3n \u00e1nh s\u1ef1 pha tr\u1ed9n gi\u1eefa truy\u1ec1n th\u1ed1ng v\u00e0 hi\u1ec7n \u0111\u1ea1i.\n",
            "\n",
            "* **S\u1ef1 ti\u1ec7n l\u1ee3i v\u00e0 nhanh ch\u00f3ng:**  C\u00e0 ph\u00ea s\u1eefa \u0111\u00e1 \u0111\u01b0\u1ee3c pha ch\u1ebf nhanh ch\u00f3ng, \u0111\u00e1p \u1ee9ng \u0111\u01b0\u1ee3c nh\u1ecbp s\u1ed1ng h\u1ed1i h\u1ea3 c\u1ee7a ng\u01b0\u1eddi Vi\u1ec7t Nam hi\u1ec7n \u0111\u1ea1i.  Ch\u1ec9 c\u1ea7n v\u00e0i ph\u00fat l\u00e0 c\u00f3 th\u1ec3 th\u01b0\u1edfng th\u1ee9c m\u1ed9t ly c\u00e0 ph\u00ea th\u01a1m ngon, s\u1ea3ng kho\u00e1i.\n",
            "\n",
            "T\u00f3m l\u1ea1i, c\u00e0 ph\u00ea s\u1eefa \u0111\u00e1 kh\u00f4ng ch\u1ec9 \u0111\u01a1n gi\u1ea3n l\u00e0 m\u1ed9t lo\u1ea1i \u0111\u1ed3 u\u1ed1ng m\u00e0 c\u00f2n l\u00e0 m\u1ed9t ph\u1ea7n quan tr\u1ecdng trong \u0111\u1eddi s\u1ed1ng x\u00e3 h\u1ed9i, v\u0103n h\u00f3a v\u00e0 tinh th\u1ea7n c\u1ee7a ng\u01b0\u1eddi Vi\u1ec7t Nam.  N\u00f3 l\u00e0 bi\u1ec3u t\u01b0\u1ee3ng c\u1ee7a s\u1ef1 n\u0103ng \u0111\u1ed9ng, s\u1ef1 k\u1ebft n\u1ed1i c\u1ed9ng \u0111\u1ed3ng v\u00e0 m\u1ed9t n\u00e9t v\u0103n h\u00f3a \u0111\u1eb7c tr\u01b0ng c\u1ee7a \u0111\u1ea5t n\u01b0\u1edbc.\n",
            "\n",
            "--------------------------------------------------\n",
            "Prompt 2:\n",
            "C\u00e0 ph\u00ea s\u1eefa \u0111\u00e1 kh\u00f4ng ch\u1ec9 l\u00e0 m\u1ed9t th\u1ee9c u\u1ed1ng \u0111\u01a1n thu\u1ea7n m\u00e0 \u0111\u00e3 tr\u1edf th\u00e0nh m\u1ed9t ph\u1ea7n kh\u00f4ng th\u1ec3 thi\u1ebfu trong \u0111\u1eddi s\u1ed1ng ng\u01b0\u1eddi Vi\u1ec7t Nam, \u0111\u00f3ng vai tr\u00f2 quan tr\u1ecdng tr\u00ean nhi\u1ec1u ph\u01b0\u01a1ng di\u1ec7n:\n",
            "\n",
            "**1. K\u1ebft n\u1ed1i x\u00e3 h\u1ed9i:**\n",
            "\n",
            "* **N\u01a1i g\u1eb7p g\u1ee1, h\u00e0n huy\u00ean:** Qu\u00e1n c\u00e0 ph\u00ea s\u1eefa \u0111\u00e1 l\u00e0 \u0111i\u1ec3m \u0111\u1ebfn quen thu\u1ed9c cho c\u00e1c bu\u1ed5i g\u1eb7p g\u1ee1 b\u1ea1n b\u00e8, ng\u01b0\u1eddi th\u00e2n, \u0111\u1ed3ng nghi\u1ec7p.  T\u1eeb nh\u1eefng cu\u1ed9c tr\u00f2 chuy\u1ec7n th\u00e2n m\u1eadt, chia s\u1ebb kinh nghi\u1ec7m s\u1ed1ng cho \u0111\u1ebfn nh\u1eefng bu\u1ed5i h\u1ecdp m\u1eb7t, b\u00e0n b\u1ea1c c\u00f4ng vi\u1ec7c, c\u00e0 ph\u00ea s\u1eefa \u0111\u00e1 lu\u00f4n l\u00e0 ng\u01b0\u1eddi b\u1ea1n \u0111\u1ed3ng h\u00e0nh, t\u1ea1o kh\u00f4ng kh\u00ed tho\u1ea3i m\u00e1i v\u00e0 g\u1ea7n g\u0169i, th\u00fac \u0111\u1ea9y s\u1ef1 k\u1ebft n\u1ed1i x\u00e3 h\u1ed9i.\n",
            "* **Trung t\u00e2m c\u1ed9ng \u0111\u1ed3ng:**  Nhi\u1ec1u qu\u00e1n c\u00e0 ph\u00ea tr\u1edf th\u00e0nh trung t\u00e2m c\u1ed9ng \u0111\u1ed3ng, n\u01a1i m\u1ecdi ng\u01b0\u1eddi t\u1ee5 t\u1eadp, c\u1eadp nh\u1eadt th\u00f4ng tin, chia s\u1ebb nh\u1eefng c\u00e2u chuy\u1ec7n h\u00e0ng ng\u00e0y.  S\u1ef1 hi\u1ec7n di\u1ec7n c\u1ee7a c\u00e0 ph\u00ea s\u1eefa \u0111\u00e1 g\u00f3p ph\u1ea7n t\u1ea1o n\u00ean kh\u00f4ng gian th\u00e2n thu\u1ed9c, g\u1eafn k\u1ebft m\u1ecdi ng\u01b0\u1eddi v\u1edbi nhau.\n",
            "* **N\u1ec1n t\u1ea3ng cho c\u00e1c m\u1ed1i quan h\u1ec7 kinh doanh:**  Nhi\u1ec1u giao d\u1ecbch kinh doanh, h\u1ee3p t\u00e1c \u0111\u01b0\u1ee3c thi\u1ebft l\u1eadp v\u00e0 ph\u00e1t tri\u1ec3n t\u1eeb nh\u1eefng bu\u1ed5i g\u1eb7p g\u1ee1 th\u00e2n m\u1eadt b\u00ean ly c\u00e0 ph\u00ea s\u1eefa \u0111\u00e1.  N\u00f3 t\u1ea1o ra m\u1ed9t kh\u00f4ng kh\u00ed tho\u1ea3i m\u00e1i, d\u1ec5 t\u1ea1o thi\u1ec7n c\u1ea3m v\u00e0 tin t\u01b0\u1edfng gi\u1eefa c\u00e1c b\u00ean.\n",
            "\n",
            "\n",
            "**2. T\u00e1c d\u1ee5ng s\u1ee9c kho\u1ebb (theo quan \u0111i\u1ec3m truy\u1ec1n th\u1ed1ng v\u00e0 m\u1ed9t s\u1ed1 t\u00e1c d\u1ee5ng c\u00f3 th\u1ec3 c\u00f3):**\n",
            "\n",
            "* **N\u0103ng l\u01b0\u1ee3ng v\u00e0 s\u1ef1 t\u1ec9nh t\u00e1o:** C\u00e0 ph\u00ea s\u1eefa \u0111\u00e1 cung c\u1ea5p caffeine, gi\u00fap t\u0103ng c\u01b0\u1eddng s\u1ef1 t\u1ec9nh t\u00e1o, t\u1eadp trung, v\u00e0 n\u0103ng l\u01b0\u1ee3ng cho m\u1ed9t ng\u00e0y l\u00e0m vi\u1ec7c hi\u1ec7u qu\u1ea3. \u0110\u00e2y l\u00e0 l\u00fd do n\u00f3 \u0111\u01b0\u1ee3c \u01b0a chu\u1ed9ng v\u00e0o bu\u1ed5i s\u00e1ng ho\u1eb7c nh\u1eefng l\u00fac c\u1ea7n l\u00e0m vi\u1ec7c c\u0103ng th\u1eb3ng.  (Tuy nhi\u00ean, c\u1ea7n l\u01b0u \u00fd l\u01b0\u1ee3ng caffeine ti\u00eau th\u1ee5 \u0111\u1ec3 tr\u00e1nh t\u00e1c d\u1ee5ng ph\u1ee5).\n",
            "* **S\u1ef1 \u1ea5m \u00e1p (v\u00e0o m\u00f9a l\u1ea1nh):**  M\u1eb7c d\u00f9 l\u00e0 \u0111\u00e1, nh\u01b0ng s\u1ef1 \u1ea5m \u00e1p \u0111\u01b0\u1ee3c t\u1ea1o ra t\u1eeb s\u1ef1 t\u01b0\u01a1ng t\u00e1c x\u00e3 h\u1ed9i trong kh\u00f4ng gian qu\u00e1n c\u00e0 ph\u00ea, c\u00f9ng v\u1edbi h\u01b0\u01a1ng v\u1ecb quen thu\u1ed9c c\u1ee7a c\u00e0 ph\u00ea s\u1eefa \u0111\u00e1, mang l\u1ea1i c\u1ea3m gi\u00e1c tho\u1ea3i m\u00e1i v\u00e0 \u1ea5m \u00e1p, \u0111\u1eb7c bi\u1ec7t trong nh\u1eefng ng\u00e0y \u0111\u00f4ng l\u1ea1nh gi\u00e1.  (\u0110\u00e2y l\u00e0 kh\u00eda c\u1ea1nh c\u1ea3m nh\u1eadn, kh\u00f4ng ph\u1ea3i t\u00e1c d\u1ee5ng sinh l\u00fd tr\u1ef1c ti\u1ebfp).\n",
            "* **S\u1ef1 quen thu\u1ed9c v\u00e0 tho\u1ea3i m\u00e1i:**  V\u1ecb c\u00e0 ph\u00ea s\u1eefa \u0111\u00e1 quen thu\u1ed9c mang l\u1ea1i c\u1ea3m gi\u00e1c an to\u00e0n v\u00e0 tho\u1ea3i m\u00e1i, gi\u00fap gi\u1ea3m stress v\u00e0 th\u01b0 gi\u00e3n.  \u0110\u00e2y l\u00e0 m\u1ed9t kh\u00eda c\u1ea1nh t\u00e2m l\u00fd quan tr\u1ecdng. (C\u1ea7n l\u01b0u \u00fd r\u1eb1ng \u0111\u00e2y kh\u00f4ng ph\u1ea3i l\u00e0 m\u1ed9t t\u00e1c d\u1ee5ng s\u1ee9c kh\u1ecfe \u0111\u01b0\u1ee3c ch\u1ee9ng minh khoa h\u1ecdc).\n",
            "\n",
            "\n",
            "**3. S\u1ef1 \u0111a d\u1ea1ng:**\n",
            "\n",
            "* **V\u1ecb tr\u00ed \u0111\u1ecba l\u00fd:**  T\u00f9y theo v\u00f9ng mi\u1ec1n, c\u00e0 ph\u00ea s\u1eefa \u0111\u00e1 c\u00f3 nh\u1eefng bi\u1ebfn t\u1ea5u kh\u00e1c nhau v\u1ec1 lo\u1ea1i c\u00e0 ph\u00ea, \u0111\u1ed9 ng\u1ecdt, c\u00e1ch pha ch\u1ebf... \u0110i\u1ec1u n\u00e0y t\u1ea1o n\u00ean s\u1ef1 \u0111a d\u1ea1ng v\u1ec1 h\u01b0\u01a1ng v\u1ecb, ph\u1ea3n \u00e1nh v\u0103n h\u00f3a \u1ea9m th\u1ef1c phong ph\u00fa c\u1ee7a Vi\u1ec7t Nam.\n",
            "* **C\u00e1ch th\u1ee9c th\u01b0\u1edfng th\u1ee9c:** C\u00e0 ph\u00ea s\u1eefa \u0111\u00e1 \u0111\u01b0\u1ee3c th\u01b0\u1edfng th\u1ee9c theo nhi\u1ec1u c\u00e1ch, t\u1eeb nh\u1eefng qu\u00e1n c\u00f3c gi\u1ea3n d\u1ecb \u0111\u1ebfn nh\u1eefng qu\u00e1n c\u00e0 ph\u00ea sang tr\u1ecdng, \u0111\u00e1p \u1ee9ng nhu c\u1ea7u \u0111a d\u1ea1ng c\u1ee7a ng\u01b0\u1eddi ti\u00eau d\u00f9ng.\n",
            "* **S\u1ef1 k\u1ebft h\u1ee3p:** C\u00e0 ph\u00ea s\u1eefa \u0111\u00e1 c\u00f3 th\u1ec3 k\u1ebft h\u1ee3p v\u1edbi nhi\u1ec1u lo\u1ea1i b\u00e1nh, th\u1ee9c \u0103n kh\u00e1c nhau, t\u1ea1o n\u00ean nh\u1eefng tr\u1ea3i nghi\u1ec7m \u1ea9m th\u1ef1c \u0111a d\u1ea1ng v\u00e0 phong ph\u00fa.\n",
            "\n",
            "\n",
            "T\u00f3m l\u1ea1i, c\u00e0 ph\u00ea s\u1eefa \u0111\u00e1 kh\u00f4ng ch\u1ec9 l\u00e0 m\u1ed9t th\u1ee9c u\u1ed1ng, m\u00e0 c\u00f2n l\u00e0 m\u1ed9t ph\u1ea7n v\u0103n h\u00f3a, m\u1ed9t s\u1ee3i d\u00e2y k\u1ebft n\u1ed1i c\u1ed9ng \u0111\u1ed3ng v\u00e0 m\u1ed9t ngu\u1ed3n n\u0103ng l\u01b0\u1ee3ng tinh th\u1ea7n quan tr\u1ecdng trong cu\u1ed9c s\u1ed1ng c\u1ee7a ng\u01b0\u1eddi Vi\u1ec7t Nam.\n",
            "\n",
            "--------------------------------------------------\n",
            "Prompt 3:\n",
            "A: C\u00e0 ph\u00ea s\u1eefa \u0111\u00e1 r\u1ea5t quan tr\u1ecdng \u0111\u1ed1i v\u1edbi cu\u1ed9c s\u1ed1ng c\u1ee7a ng\u01b0\u1eddi Vi\u1ec7t Nam v\u00ec:\n",
            "\n",
            "1. **N\u1ec1n v\u0103n h\u00f3a c\u00e0 ph\u00ea \u0111\u1eadm n\u00e9t:** C\u00e0 ph\u00ea s\u1eefa \u0111\u00e1 \u0111\u00e3 tr\u1edf th\u00e0nh m\u1ed9t ph\u1ea7n kh\u00f4ng th\u1ec3 thi\u1ebfu trong v\u0103n h\u00f3a Vi\u1ec7t Nam.  N\u00f3 l\u00e0 th\u1ee9c u\u1ed1ng ph\u1ed5 bi\u1ebfn, \u0111\u01b0\u1ee3c th\u01b0\u1edfng th\u1ee9c h\u00e0ng ng\u00e0y b\u1edfi m\u1ecdi t\u1ea7ng l\u1edbp, t\u1eeb ng\u01b0\u1eddi lao \u0111\u1ed9ng \u0111\u1ebfn doanh nh\u00e2n.  Vi\u1ec7c u\u1ed1ng c\u00e0 ph\u00ea s\u1eefa \u0111\u00e1 l\u00e0 m\u1ed9t ho\u1ea1t \u0111\u1ed9ng x\u00e3 h\u1ed9i quan tr\u1ecdng, t\u1ea1o c\u01a1 h\u1ed9i g\u1eb7p g\u1ee1, tr\u00f2 chuy\u1ec7n v\u00e0 g\u1eafn k\u1ebft c\u1ed9ng \u0111\u1ed3ng.  T\u1eeb nh\u1eefng qu\u00e1n c\u00f3c v\u1ec9a h\u00e8 \u0111\u1ebfn nh\u1eefng ti\u1ec7m c\u00e0 ph\u00ea sang tr\u1ecdng, c\u00e0 ph\u00ea s\u1eefa \u0111\u00e1 lu\u00f4n c\u00f3 m\u1eb7t, g\u00f3p ph\u1ea7n t\u1ea1o n\u00ean b\u1ee9c tranh sinh \u0111\u1ed9ng c\u1ee7a \u0111\u1eddi s\u1ed1ng x\u00e3 h\u1ed9i Vi\u1ec7t Nam.\n",
            "\n",
            "2. **N\u0103ng l\u01b0\u1ee3ng v\u00e0 s\u1ef1 t\u1ec9nh t\u00e1o:**  C\u00e0 ph\u00ea s\u1eefa \u0111\u00e1 cung c\u1ea5p caffeine, gi\u00fap ng\u01b0\u1eddi Vi\u1ec7t Nam t\u1ec9nh t\u00e1o v\u00e0 n\u0103ng \u0111\u1ed9ng h\u01a1n trong c\u00f4ng vi\u1ec7c v\u00e0 cu\u1ed9c s\u1ed1ng h\u00e0ng ng\u00e0y.  \u0110\u1eb7c bi\u1ec7t trong \u0111i\u1ec1u ki\u1ec7n kh\u00ed h\u1eadu n\u00f3ng \u1ea9m c\u1ee7a Vi\u1ec7t Nam, m\u1ed9t ly c\u00e0 ph\u00ea s\u1eefa \u0111\u00e1 l\u1ea1nh s\u1ebd gi\u00fap gi\u1ea3i nhi\u1ec7t v\u00e0 l\u00e0m t\u01b0\u01a1i m\u00e1t c\u01a1 th\u1ec3, t\u0103ng c\u01b0\u1eddng hi\u1ec7u qu\u1ea3 l\u00e0m vi\u1ec7c.  N\u00f3 \u0111\u01b0\u1ee3c xem nh\u01b0 m\u1ed9t ngu\u1ed3n n\u0103ng l\u01b0\u1ee3ng kh\u1edfi \u0111\u1ea7u ng\u00e0y m\u1edbi ho\u1eb7c gi\u00fap v\u01b0\u1ee3t qua giai \u0111o\u1ea1n l\u00e0m vi\u1ec7c c\u0103ng th\u1eb3ng.\n",
            "\n",
            "3. **Gi\u00e1 c\u1ea3 ph\u1ea3i ch\u0103ng v\u00e0 d\u1ec5 ti\u1ebfp c\u1eadn:** C\u00e0 ph\u00ea s\u1eefa \u0111\u00e1 c\u00f3 gi\u00e1 th\u00e0nh t\u01b0\u01a1ng \u0111\u1ed1i th\u1ea5p, d\u1ec5 d\u00e0ng ti\u1ebfp c\u1eadn v\u1edbi ph\u1ea7n l\u1edbn ng\u01b0\u1eddi d\u00e2n Vi\u1ec7t Nam.  S\u1ef1 ph\u1ed5 bi\u1ebfn r\u1ed9ng r\u00e3i c\u1ee7a n\u00f3 \u0111\u00e3 t\u1ea1o n\u00ean m\u1ed9t th\u1ecb tr\u01b0\u1eddng c\u00e0 ph\u00ea s\u00f4i \u0111\u1ed9ng, \u0111\u00e1p \u1ee9ng \u0111\u01b0\u1ee3c nhu c\u1ea7u c\u1ee7a m\u1ecdi ng\u01b0\u1eddi \u1edf m\u1ecdi v\u00f9ng mi\u1ec1n.  \u0110i\u1ec1u n\u00e0y g\u00f3p ph\u1ea7n quan tr\u1ecdng v\u00e0o \u0111\u1eddi s\u1ed1ng kinh t\u1ebf c\u1ee7a nhi\u1ec1u ng\u01b0\u1eddi, t\u1eeb ng\u01b0\u1eddi tr\u1ed3ng c\u00e0 ph\u00ea \u0111\u1ebfn ch\u1ee7 qu\u00e1n c\u00e0 ph\u00ea v\u00e0 c\u00e1c nh\u00e2n vi\u00ean ph\u1ee5c v\u1ee5.\n",
            "\n",
            "--------------------------------------------------\n"
          ]
        }
      ],
      "source": [
        "comparison_prompts = [\n",
        "    \"T\u1ea1i sao c\u00e0 ph\u00ea s\u1eefa \u0111\u00e1 l\u1ea1i quan tr\u1ecdng \u0111\u1ed1i v\u1edbi cu\u1ed9c s\u1ed1ng c\u1ee7a ng\u01b0\u1eddi Vi\u1ec7t Nam.\",\n",
        "    \"\"\"T\u1ea1i sao c\u00e0 ph\u00ea s\u1eefa \u0111\u00e1 l\u1ea1i quan tr\u1ecdng \u0111\u1ed1i v\u1edbi cu\u1ed9c s\u1ed1ng c\u1ee7a ng\u01b0\u1eddi Vi\u1ec7t Nam. H\u1ec7 th\u1ed1ng c\u00e2u tr\u1ea3 l\u1eddi c\u1ee7a b\u1ea1n n\u00ean nh\u01b0 sau:\n",
        "    1. K\u1ebft n\u1ed1i x\u00e3 h\u1ed9i\n",
        "    2. T\u00e1c d\u1ee5ng s\u1ee9c kho\u1ebb\n",
        "    3. S\u1ef1 \u0111a d\u1ea1ng\"\"\",\n",
        "    \"\"\"Q: T\u1ea1i sao c\u00e0 ph\u00ea s\u1eefa \u0111\u00e1 l\u1ea1i quan tr\u1ecdng \u0111\u1ed1i v\u1edbi cu\u1ed9c s\u1ed1ng c\u1ee7a ng\u01b0\u1eddi Vi\u1ec7t Nam?\n",
        "    A: C\u00e0 ph\u00ea s\u1eefa \u0111\u00e1 r\u1ea5t quan tr\u1ecdng \u0111\u1ed1i v\u1edbi cu\u1ed9c s\u1ed1ng c\u1ee7a ng\u01b0\u1eddi Vi\u1ec7t Nam v\u00ec:\n",
        "    1.\n",
        "    2.\n",
        "    3.\"\"\",\n",
        "]\n",
        "\n",
        "for i, prompt in enumerate(comparison_prompts, 1):\n",
        "    print(f\"Prompt {i}:\")\n",
        "    get_response(prompt=prompt)"
      ]
    }
  ],
  "metadata": {
    "kernelspec": {
      "display_name": ".venv",
      "language": "python",
      "name": "python3"
    },
    "language_info": {
      "codemirror_mode": {
        "name": "ipython",
        "version": 3
      },
      "file_extension": ".py",
      "mimetype": "text/x-python",
      "name": "python",
      "nbconvert_exporter": "python",
      "pygments_lexer": "ipython3",
      "version": "3.11.10"
    }
  },
  "nbformat": 4,
  "nbformat_minor": 4
}
